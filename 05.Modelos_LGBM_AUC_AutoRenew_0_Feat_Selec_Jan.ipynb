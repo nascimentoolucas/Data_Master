{
 "cells": [
  {
   "cell_type": "markdown",
   "metadata": {
    "application/vnd.databricks.v1+cell": {
     "cellMetadata": {
      "byteLimit": 2048000,
      "rowLimit": 10000
     },
     "inputWidgets": {},
     "nuid": "be4bf637-bb46-4acf-89e3-053970a81d29",
     "showTitle": false,
     "tableResultSettingsMap": {},
     "title": ""
    }
   },
   "source": [
    "## Imports"
   ]
  },
  {
   "cell_type": "code",
   "execution_count": 0,
   "metadata": {
    "application/vnd.databricks.v1+cell": {
     "cellMetadata": {
      "byteLimit": 2048000,
      "rowLimit": 10000
     },
     "inputWidgets": {},
     "nuid": "8a253321-042b-4c17-a1ad-6f8dd047cd3f",
     "showTitle": false,
     "tableResultSettingsMap": {},
     "title": ""
    }
   },
   "outputs": [],
   "source": [
    "import matplotlib.pyplot as plt\n",
    "import numpy as np\n",
    "import pandas as pd\n",
    "import pyspark\n",
    "import pyspark.sql.functions as F\n",
    "from pyspark.sql.window import Window\n",
    "from pyspark.sql.types import *\n",
    "from pyspark.sql import DataFrame,SparkSession\n",
    "\n",
    "from sklearn.metrics import roc_auc_score, precision_score, recall_score, f1_score, accuracy_score, confusion_matrix, roc_curve, auc\n",
    "import seaborn as sns\n",
    "from sklearn.metrics import roc_curve, auc, confusion_matrix, classification_report, precision_recall_curve\n",
    "from scipy.stats import ks_2samp\n",
    "from scipy import stats\n",
    "\n",
    "import lightgbm as lgbm\n",
    "from sklearn.metrics import roc_auc_score\n",
    "from hyperopt import fmin, tpe, hp, STATUS_OK, Trials\n",
    "\n",
    "import shap"
   ]
  },
  {
   "cell_type": "markdown",
   "metadata": {
    "application/vnd.databricks.v1+cell": {
     "cellMetadata": {
      "byteLimit": 2048000,
      "rowLimit": 10000
     },
     "inputWidgets": {},
     "nuid": "adb93949-22e6-4b24-b00e-bebf4f6d78d0",
     "showTitle": false,
     "tableResultSettingsMap": {},
     "title": ""
    }
   },
   "source": [
    "## Funções Objetivo"
   ]
  },
  {
   "cell_type": "code",
   "execution_count": 0,
   "metadata": {
    "application/vnd.databricks.v1+cell": {
     "cellMetadata": {
      "byteLimit": 2048000,
      "rowLimit": 10000
     },
     "inputWidgets": {},
     "nuid": "b22cf9f3-b863-42f2-9a34-72957e1c65b6",
     "showTitle": false,
     "tableResultSettingsMap": {},
     "title": ""
    }
   },
   "outputs": [],
   "source": [
    "def objective_lgbm(params):\n",
    "    model = lgbm.LGBMClassifier(\n",
    "        num_leaves=int(params['num_leaves']),\n",
    "        max_depth=int(params['max_depth']),\n",
    "        learning_rate=params['learning_rate'],\n",
    "        subsample=params['subsample'],\n",
    "        colsample_bytree=params['colsample_bytree'],\n",
    "        min_child_samples=int(params['min_child_samples']),\n",
    "        reg_alpha=params['reg_alpha'],\n",
    "        reg_lambda=params['reg_lambda'],\n",
    "        scale_pos_weight=(y_train.value_counts()[0] / y_train.value_counts()[1]),\n",
    "        objective=\"binary\",\n",
    "        random_state=42\n",
    "    )\n",
    "    \n",
    "    model.fit(X_train, y_train)\n",
    "\n",
    "    y_pred_proba = model.predict_proba(X_test)[:, 1]\n",
    "    \n",
    "    auc_score = roc_auc_score(y_test, y_pred_proba)\n",
    "    \n",
    "    return {'loss': -auc_score, 'status': STATUS_OK}"
   ]
  },
  {
   "cell_type": "code",
   "execution_count": 0,
   "metadata": {
    "application/vnd.databricks.v1+cell": {
     "cellMetadata": {
      "byteLimit": 2048000,
      "rowLimit": 10000
     },
     "collapsed": true,
     "inputWidgets": {},
     "nuid": "74669fdd-2de3-4127-b692-6dd1214c93f9",
     "showTitle": false,
     "tableResultSettingsMap": {},
     "title": ""
    }
   },
   "outputs": [],
   "source": [
    "def plot_roc_curve(model, X_test, y_test):\n",
    "    y_pred_proba = model.predict_proba(X_test)[:, 1]\n",
    "    fpr, tpr, _ = roc_curve(y_test, y_pred_proba)\n",
    "    roc_auc = auc(fpr, tpr)\n",
    "    \n",
    "    plt.figure()\n",
    "    plt.plot(fpr, tpr, color='darkorange', lw=2, label='ROC curve (area = %0.2f)' % roc_auc)\n",
    "    plt.plot([0, 1], [0, 1], color='navy', lw=2, linestyle='--')\n",
    "    plt.xlim([0.0, 1.0])\n",
    "    plt.ylim([0.0, 1.05])\n",
    "    plt.xlabel('False Positive Rate')\n",
    "    plt.ylabel('True Positive Rate')\n",
    "    plt.title('Receiver Operating Characteristic')\n",
    "    plt.legend(loc=\"lower right\")\n",
    "    plt.show()\n",
    "\n",
    "def plot_confusion_matrix(model, X_test, y_test, threshold):\n",
    "    y_pred_proba = model.predict_proba(X_test)[:, 1]\n",
    "    y_pred = [1 if pred >= threshold else 0 for pred in y_pred_proba]\n",
    "    cm = confusion_matrix(y_test, y_pred)\n",
    "    \n",
    "    plt.figure(figsize=(10, 7))\n",
    "    sns.heatmap(cm, annot=True, fmt='d', cmap='Blues')\n",
    "    plt.xlabel('Predicted')\n",
    "    plt.ylabel('Actual')\n",
    "    plt.title('Confusion Matrix')\n",
    "    plt.show()\n",
    "\n",
    "def plot_feature_importances(model, feature_names):\n",
    "    importances = model.feature_importances_\n",
    "    indices = np.argsort(importances)[::-1]\n",
    "    \n",
    "    plt.figure(figsize=(12, 6))\n",
    "    plt.title('Feature Importances')\n",
    "    plt.bar(range(len(importances)), importances[indices], align='center')\n",
    "    plt.xticks(range(len(importances)), [feature_names[i] for i in indices], rotation=90)\n",
    "    plt.tight_layout()\n",
    "    plt.show()\n",
    "\n",
    "def plot_classification_report(model, X_test, y_test, threshold):\n",
    "    y_pred_proba = model.predict_proba(X_test)[:, 1]\n",
    "    y_pred = [1 if pred >= threshold else 0 for pred in y_pred_proba]\n",
    "    report = classification_report(y_test, y_pred, output_dict=True)\n",
    "    \n",
    "    plt.figure(figsize=(10, 6))\n",
    "    sns.heatmap(pd.DataFrame(report).iloc[:-1, :].T, annot=True, cmap='Blues')\n",
    "    plt.title('Classification Report')\n",
    "    plt.show()"
   ]
  },
  {
   "cell_type": "code",
   "execution_count": 0,
   "metadata": {
    "application/vnd.databricks.v1+cell": {
     "cellMetadata": {
      "byteLimit": 2048000,
      "rowLimit": 10000
     },
     "collapsed": true,
     "inputWidgets": {},
     "nuid": "f522e401-1a57-4006-a79a-861b53c2574c",
     "showTitle": false,
     "tableResultSettingsMap": {},
     "title": ""
    }
   },
   "outputs": [],
   "source": [
    "def ks_grouped_by_safra(df, target_col, prob_col, safras):\n",
    "    ks_df = pd.DataFrame(columns=['safra', 'ks_stat', 'p_value'])\n",
    "    for safra in sorted(safras):\n",
    "        df_safra = df[df['safra'] == safra]\n",
    "        ks_stat, p_value = stats.ks_2samp(df_safra[df_safra[target_col] == 1][prob_col], df_safra[df_safra[target_col] == 0][prob_col])\n",
    "        ks_df = ks_df.append({'safra': safra, 'ks_stat': ks_stat, 'p_value': p_value}, ignore_index=True)\n",
    "    return ks_df"
   ]
  },
  {
   "cell_type": "code",
   "execution_count": 0,
   "metadata": {
    "application/vnd.databricks.v1+cell": {
     "cellMetadata": {
      "byteLimit": 2048000,
      "rowLimit": 10000
     },
     "inputWidgets": {},
     "nuid": "0a00463c-885b-419e-bbe4-3bb92aa8c8ec",
     "showTitle": false,
     "tableResultSettingsMap": {},
     "title": ""
    }
   },
   "outputs": [],
   "source": [
    "def calculate_churn_percentage(df, target_col, pred_col, pred_col_bin, threshold):\n",
    "    actual_churn_rate = df[target_col].mean()\n",
    "    df[pred_col_bin] = (df[pred_col] >= threshold).astype(int)\n",
    "    predicted_churn_rate = df[pred_col_bin].mean()\n",
    "    return actual_churn_rate, predicted_churn_rate\n",
    "\n",
    "def calculate_churn_by_safra(df, target_col, pred_col):\n",
    "    grouped = df.groupby('safra').agg(\n",
    "        actual_churn_rate=(target_col, 'mean'),\n",
    "        predicted_churn_rate=(pred_col, 'mean')\n",
    "    ).reset_index()\n",
    "    return grouped"
   ]
  },
  {
   "cell_type": "markdown",
   "metadata": {
    "application/vnd.databricks.v1+cell": {
     "cellMetadata": {
      "byteLimit": 2048000,
      "rowLimit": 10000
     },
     "inputWidgets": {},
     "nuid": "d6fbbfd1-b8f2-45d9-909e-26710dac0d6f",
     "showTitle": false,
     "tableResultSettingsMap": {},
     "title": ""
    }
   },
   "source": [
    "## Base de Modelagem"
   ]
  },
  {
   "cell_type": "code",
   "execution_count": 0,
   "metadata": {
    "application/vnd.databricks.v1+cell": {
     "cellMetadata": {
      "byteLimit": 2048000,
      "rowLimit": 10000
     },
     "inputWidgets": {},
     "nuid": "0e5b713d-b1bf-47c1-bb34-87dda7a81aea",
     "showTitle": false,
     "tableResultSettingsMap": {},
     "title": ""
    }
   },
   "outputs": [],
   "source": [
    "base_spine = spark.table(\"sand_riscos_pm_pf.T789778_base_final_dm_v3\").filter(F.col('is_auto_renew_1m').isin(0)).sample(0.25).drop(*['features', 'is_auto_renew_1m_index'])\n",
    "base_spine"
   ]
  },
  {
   "cell_type": "markdown",
   "metadata": {
    "application/vnd.databricks.v1+cell": {
     "cellMetadata": {
      "byteLimit": 2048000,
      "rowLimit": 10000
     },
     "inputWidgets": {},
     "nuid": "f8548306-b932-4f6c-8847-f856d962be0d",
     "showTitle": false,
     "tableResultSettingsMap": {},
     "title": ""
    }
   },
   "source": [
    "## Variáveis"
   ]
  },
  {
   "cell_type": "code",
   "execution_count": 0,
   "metadata": {
    "application/vnd.databricks.v1+cell": {
     "cellMetadata": {
      "byteLimit": 2048000,
      "rowLimit": 10000
     },
     "inputWidgets": {},
     "nuid": "fddbf32c-2cd9-4e06-8078-3b5da4da6dd5",
     "showTitle": false,
     "tableResultSettingsMap": {},
     "title": ""
    }
   },
   "outputs": [],
   "source": [
    "id_vars = ['msno', 'safra']\n",
    "target = ['target']"
   ]
  },
  {
   "cell_type": "code",
   "execution_count": 0,
   "metadata": {
    "application/vnd.databricks.v1+cell": {
     "cellMetadata": {
      "byteLimit": 2048000,
      "rowLimit": 10000
     },
     "collapsed": true,
     "inputWidgets": {},
     "nuid": "b69bbe5f-ac0e-428f-908b-1e298c056bad",
     "showTitle": false,
     "tableResultSettingsMap": {},
     "title": ""
    }
   },
   "outputs": [],
   "source": [
    "variaveis_rf = ['payment_plan_days_1m',\n",
    " 'actual_amount_paid_1m',\n",
    " 'actual_amount_paid_max_2m',\n",
    " 'plan_list_price_1m',\n",
    " 'plan_list_price_avg_3m',\n",
    " 'actual_amount_paid_avg_2m',\n",
    " 'city_1m_index',\n",
    " 'plan_list_price_avg_2m',\n",
    " 'num_unq_max_4m',\n",
    " 'actual_amount_paid_median_4m',\n",
    " 'num_unq_max_3m',\n",
    " 'num_unq_avg_3m',\n",
    " 'plan_list_price_min_2m',\n",
    " 'plan_list_price_median_2m',\n",
    " 'actual_amount_paid_avg_3m',\n",
    " 'total_secs_min_2m',\n",
    " 'completion_rate_100_max_4m',\n",
    " 'plan_list_price_max_2m',\n",
    " 'num_100_median_2m',\n",
    " 'num_unq_max_2m',\n",
    " 'num_25_max_4m',\n",
    " 'num_unq_avg_2m',\n",
    " 'actual_amount_paid_min_4m',\n",
    " 'completion_rate_100_median_2m',\n",
    " 'num_unq_avg_4m',\n",
    " 'total_secs_median_2m',\n",
    " 'completion_rate_100_min_2m',\n",
    " 'num_50_max_4m',\n",
    " 'num_unq_median_3m',\n",
    " 'num_985_max_4m',\n",
    " 'total_secs_avg_2m',\n",
    " 'account_time_1m',\n",
    " 'completion_rate_100_min_3m',\n",
    " 'num_unq_min_3m',\n",
    " 'completion_rate_25_max_4m',\n",
    " 'total_secs_min_3m',\n",
    " 'payment_method_id_1m_index',\n",
    "]"
   ]
  },
  {
   "cell_type": "code",
   "execution_count": 0,
   "metadata": {
    "application/vnd.databricks.v1+cell": {
     "cellMetadata": {
      "byteLimit": 2048000,
      "rowLimit": 10000
     },
     "inputWidgets": {},
     "nuid": "ffd32356-5495-43bc-9d7b-42b730342d61",
     "showTitle": false,
     "tableResultSettingsMap": {},
     "title": ""
    }
   },
   "outputs": [],
   "source": [
    "len(variaveis_rf)"
   ]
  },
  {
   "cell_type": "markdown",
   "metadata": {
    "application/vnd.databricks.v1+cell": {
     "cellMetadata": {
      "byteLimit": 2048000,
      "rowLimit": 10000
     },
     "inputWidgets": {},
     "nuid": "cb73e39d-bd22-4031-a1e6-ce06922eadaa",
     "showTitle": false,
     "tableResultSettingsMap": {},
     "title": ""
    }
   },
   "source": [
    "## Treino - Teste - Validação"
   ]
  },
  {
   "cell_type": "code",
   "execution_count": 0,
   "metadata": {
    "application/vnd.databricks.v1+cell": {
     "cellMetadata": {
      "byteLimit": 2048000,
      "rowLimit": 10000
     },
     "inputWidgets": {},
     "nuid": "ac78c0ae-5b05-44ba-87d1-bbc498b8c675",
     "showTitle": false,
     "tableResultSettingsMap": {},
     "title": ""
    }
   },
   "outputs": [],
   "source": [
    "train_data = base_spine.filter(F.col('safra').between(201505,201604)).select(id_vars+variaveis_rf+target).toPandas()\n",
    "test_data = base_spine.filter(F.col('safra').between(201605,201607)).select(id_vars+variaveis_rf+target).toPandas()\n",
    "validation_data = base_spine.filter(F.col('safra').between(201608,201611)).select(id_vars+variaveis_rf+target).toPandas()"
   ]
  },
  {
   "cell_type": "code",
   "execution_count": 0,
   "metadata": {
    "application/vnd.databricks.v1+cell": {
     "cellMetadata": {
      "byteLimit": 2048000,
      "rowLimit": 10000
     },
     "inputWidgets": {},
     "nuid": "44fdd5ad-d442-4587-9ae5-d54c4753f4c5",
     "showTitle": false,
     "tableResultSettingsMap": {},
     "title": ""
    }
   },
   "outputs": [],
   "source": [
    "X_train, y_train = train_data[variaveis_rf], train_data[target]\n",
    "X_test, y_test = test_data[variaveis_rf], test_data[target]\n",
    "X_val, y_val = validation_data[variaveis_rf], validation_data[target]"
   ]
  },
  {
   "cell_type": "code",
   "execution_count": 0,
   "metadata": {
    "application/vnd.databricks.v1+cell": {
     "cellMetadata": {
      "byteLimit": 2048000,
      "rowLimit": 10000
     },
     "inputWidgets": {},
     "nuid": "cb2e909e-9cc4-4a6a-afaf-5d7361c676cd",
     "showTitle": false,
     "tableResultSettingsMap": {},
     "title": ""
    }
   },
   "outputs": [],
   "source": [
    "scale_pos_weight = (y_train.value_counts()[0] / y_train.value_counts()[1])\n",
    "scale_pos_weight"
   ]
  },
  {
   "cell_type": "markdown",
   "metadata": {
    "application/vnd.databricks.v1+cell": {
     "cellMetadata": {
      "byteLimit": 2048000,
      "rowLimit": 10000
     },
     "inputWidgets": {},
     "nuid": "460cacc0-c6a1-494f-9745-702efbcc0891",
     "showTitle": false,
     "tableResultSettingsMap": {},
     "title": ""
    }
   },
   "source": [
    "# LIGHTGBM"
   ]
  },
  {
   "cell_type": "markdown",
   "metadata": {
    "application/vnd.databricks.v1+cell": {
     "cellMetadata": {
      "byteLimit": 2048000,
      "rowLimit": 10000
     },
     "inputWidgets": {},
     "nuid": "ed8f03d4-de36-41d4-a19e-84034705205b",
     "showTitle": false,
     "tableResultSettingsMap": {},
     "title": ""
    }
   },
   "source": [
    "## Optimização de Hiperparâmetros"
   ]
  },
  {
   "cell_type": "markdown",
   "metadata": {
    "application/vnd.databricks.v1+cell": {
     "cellMetadata": {
      "byteLimit": 2048000,
      "rowLimit": 10000
     },
     "inputWidgets": {},
     "nuid": "a8af2fd8-d4ae-4065-b51a-a92bac7dc7b5",
     "showTitle": false,
     "tableResultSettingsMap": {},
     "title": ""
    }
   },
   "source": [
    "- 'num_leaves':  Número máximo de folhas\n",
    "- 'max_depth': Profundidade máxima das árvores\n",
    "- 'learning_rate': Taxa de aprendizado (apliquei uma log-uniforme)\n",
    "- 'subsample': Fração de amostras usadas para treino\n",
    "- 'colsample_bytree': Fração de features usadas por árvore\n",
    "- 'min_child_samples':  Número mínimo de amostras por folha"
   ]
  },
  {
   "cell_type": "code",
   "execution_count": 0,
   "metadata": {
    "application/vnd.databricks.v1+cell": {
     "cellMetadata": {
      "byteLimit": 2048000,
      "rowLimit": 10000
     },
     "inputWidgets": {},
     "nuid": "90626fae-4ee0-4884-9fc3-cd8403c1e793",
     "showTitle": false,
     "tableResultSettingsMap": {},
     "title": ""
    }
   },
   "outputs": [],
   "source": [
    "space_lgbm = {\n",
    "    'num_leaves': hp.choice('num_leaves', range(20, 150)),\n",
    "    'max_depth': hp.choice('max_depth', range(3, 10)),\n",
    "    'learning_rate': hp.loguniform('learning_rate', -5, 0),\n",
    "    'subsample': hp.uniform('subsample', 0.6, 1.0),\n",
    "    'colsample_bytree': hp.uniform('colsample_bytree', 0.6, 1.0),\n",
    "    'min_child_samples': hp.choice('min_child_samples', range(10, 30)),\n",
    "    'reg_alpha': hp.loguniform('reg_alpha', -4, 0),\n",
    "    'reg_lambda': hp.loguniform('reg_lambda', -4, 0)\n",
    "}"
   ]
  },
  {
   "cell_type": "code",
   "execution_count": 0,
   "metadata": {
    "application/vnd.databricks.v1+cell": {
     "cellMetadata": {
      "byteLimit": 2048000,
      "rowLimit": 10000
     },
     "collapsed": true,
     "inputWidgets": {},
     "nuid": "72a67c3b-54cb-4f98-a090-cd5c33ae7bfa",
     "showTitle": false,
     "tableResultSettingsMap": {},
     "title": ""
    }
   },
   "outputs": [],
   "source": [
    "trials_lgbm = Trials()\n",
    "best_lgbm = fmin(fn=objective_lgbm,\n",
    "                space=space_lgbm,\n",
    "                algo=tpe.suggest,\n",
    "                max_evals=50,  # Número máximo de avaliações\n",
    "                trials=trials_lgbm)"
   ]
  },
  {
   "cell_type": "code",
   "execution_count": 0,
   "metadata": {
    "application/vnd.databricks.v1+cell": {
     "cellMetadata": {
      "byteLimit": 2048000,
      "rowLimit": 10000
     },
     "inputWidgets": {},
     "nuid": "d79fde48-1c31-49e7-a6eb-fba16c14bd42",
     "showTitle": false,
     "tableResultSettingsMap": {},
     "title": ""
    }
   },
   "outputs": [],
   "source": [
    "# best_lgbm = {'colsample_bytree': 0.7552694502661478, 'learning_rate': 0.017441402328506637, 'max_depth': 4, 'min_child_samples': 36, 'num_leaves': 33, 'reg_alpha': 0.018266132285821874, 'reg_lambda': 0.014404655497649174, 'subsample': 0.7893496096936965}"
   ]
  },
  {
   "cell_type": "code",
   "execution_count": 0,
   "metadata": {
    "application/vnd.databricks.v1+cell": {
     "cellMetadata": {
      "byteLimit": 2048000,
      "rowLimit": 10000
     },
     "inputWidgets": {},
     "nuid": "306e70ab-3347-4df5-bf9d-4c9af128b72c",
     "showTitle": false,
     "tableResultSettingsMap": {},
     "title": ""
    }
   },
   "outputs": [],
   "source": [
    "print(\"Melhores hiperparâmetros para LightGBM:\")\n",
    "print(best_lgbm)"
   ]
  },
  {
   "cell_type": "code",
   "execution_count": 0,
   "metadata": {
    "application/vnd.databricks.v1+cell": {
     "cellMetadata": {
      "byteLimit": 2048000,
      "rowLimit": 10000
     },
     "inputWidgets": {},
     "nuid": "23b81712-3ea4-443b-80c9-3e71339f256e",
     "showTitle": false,
     "tableResultSettingsMap": {},
     "title": ""
    }
   },
   "outputs": [],
   "source": [
    "final_lgbm_model = lgbm.LGBMClassifier(\n",
    "    num_leaves=int(best_lgbm['num_leaves']),\n",
    "    max_depth=int(best_lgbm['max_depth']),\n",
    "    learning_rate=best_lgbm['learning_rate'],\n",
    "    subsample=best_lgbm['subsample'],\n",
    "    colsample_bytree=best_lgbm['colsample_bytree'],\n",
    "    min_child_samples=int(best_lgbm['min_child_samples']),\n",
    "    reg_alpha=best_lgbm['reg_alpha'],\n",
    "    reg_lambda=best_lgbm['reg_lambda'],\n",
    "    scale_pos_weight=scale_pos_weight,\n",
    "    objective=\"binary\",\n",
    "    random_state=42\n",
    ").fit(X_train, y_train)"
   ]
  },
  {
   "cell_type": "code",
   "execution_count": 0,
   "metadata": {
    "application/vnd.databricks.v1+cell": {
     "cellMetadata": {
      "byteLimit": 2048000,
      "rowLimit": 10000
     },
     "inputWidgets": {},
     "nuid": "5a4ac2cb-5196-4953-8e65-aaf45614906a",
     "showTitle": false,
     "tableResultSettingsMap": {},
     "title": ""
    }
   },
   "outputs": [],
   "source": [
    "final_lgbm_model"
   ]
  },
  {
   "cell_type": "code",
   "execution_count": 0,
   "metadata": {
    "application/vnd.databricks.v1+cell": {
     "cellMetadata": {
      "byteLimit": 2048000,
      "rowLimit": 10000
     },
     "inputWidgets": {},
     "nuid": "bfde1c74-730c-4cc7-a81b-9d88e7a4c013",
     "showTitle": false,
     "tableResultSettingsMap": {},
     "title": ""
    }
   },
   "outputs": [],
   "source": [
    "y_pred_lgbm = final_lgbm_model.predict_proba(X_test)[:, 1]\n",
    "auc_lgbm = roc_auc_score(y_test, y_pred_lgbm)\n",
    "print(f\"AUC LightGBM (melhores hiperparâmetros): {auc_lgbm}\")"
   ]
  },
  {
   "cell_type": "markdown",
   "metadata": {
    "application/vnd.databricks.v1+cell": {
     "cellMetadata": {
      "byteLimit": 2048000,
      "rowLimit": 10000
     },
     "inputWidgets": {},
     "nuid": "154483ce-8238-4622-9e30-b2a1748e92d5",
     "showTitle": false,
     "tableResultSettingsMap": {},
     "title": ""
    }
   },
   "source": [
    "## Escorar Bases"
   ]
  },
  {
   "cell_type": "code",
   "execution_count": 0,
   "metadata": {
    "application/vnd.databricks.v1+cell": {
     "cellMetadata": {
      "byteLimit": 2048000,
      "rowLimit": 10000
     },
     "inputWidgets": {},
     "nuid": "f14b63dc-b91d-4133-af31-8f5cec313ba9",
     "showTitle": false,
     "tableResultSettingsMap": {},
     "title": ""
    }
   },
   "outputs": [],
   "source": [
    "train_data_escorado = final_lgbm_model.predict_proba(train_data[variaveis_rf])[:,1]\n",
    "test_data_escorado = final_lgbm_model.predict_proba(test_data[variaveis_rf])[:,1]\n",
    "val_data_escorado = final_lgbm_model.predict_proba(validation_data[variaveis_rf])[:,1]"
   ]
  },
  {
   "cell_type": "code",
   "execution_count": 0,
   "metadata": {
    "application/vnd.databricks.v1+cell": {
     "cellMetadata": {
      "byteLimit": 2048000,
      "rowLimit": 10000
     },
     "inputWidgets": {},
     "nuid": "459e13ab-9f6b-463c-ab97-3b89533e6c7c",
     "showTitle": false,
     "tableResultSettingsMap": {},
     "title": ""
    }
   },
   "outputs": [],
   "source": [
    "train_data['score_lgbm'] = train_data_escorado\n",
    "test_data['score_lgbm'] = test_data_escorado\n",
    "validation_data['score_lgbm'] = val_data_escorado"
   ]
  },
  {
   "cell_type": "markdown",
   "metadata": {
    "application/vnd.databricks.v1+cell": {
     "cellMetadata": {
      "byteLimit": 2048000,
      "rowLimit": 10000
     },
     "inputWidgets": {},
     "nuid": "ec80cce0-a446-4d8a-9f6b-b7cfaa4437fa",
     "showTitle": false,
     "tableResultSettingsMap": {},
     "title": ""
    }
   },
   "source": [
    "## Análises"
   ]
  },
  {
   "cell_type": "code",
   "execution_count": 0,
   "metadata": {
    "application/vnd.databricks.v1+cell": {
     "cellMetadata": {
      "byteLimit": 2048000,
      "rowLimit": 10000
     },
     "inputWidgets": {},
     "nuid": "dc165931-f823-4530-8c27-fbd5d36d427e",
     "showTitle": false,
     "tableResultSettingsMap": {},
     "title": ""
    }
   },
   "outputs": [],
   "source": [
    "plt.hist(train_data['score_lgbm'], bins=100, alpha=0.5, label='Train')\n",
    "plt.hist(test_data['score_lgbm'], bins=100, alpha=0.5, label='Test')\n",
    "plt.hist(validation_data['score_lgbm'], bins=100, alpha=0.5, label='Validation')\n",
    "plt.title('Score LightGBM')\n",
    "plt.xlabel('Score')\n",
    "plt.ylabel('Frequência')\n",
    "plt.legend()"
   ]
  },
  {
   "cell_type": "code",
   "execution_count": 0,
   "metadata": {
    "application/vnd.databricks.v1+cell": {
     "cellMetadata": {
      "byteLimit": 2048000,
      "rowLimit": 10000
     },
     "inputWidgets": {},
     "nuid": "debdaac3-f053-4e9e-b72c-dcd7b5919765",
     "showTitle": false,
     "tableResultSettingsMap": {},
     "title": ""
    }
   },
   "outputs": [],
   "source": [
    "plt.hist(train_data[train_data['target']==0]['score_lgbm'], bins=100, alpha=0.5, label='Train')\n",
    "plt.hist(test_data[test_data['target']==0]['score_lgbm'], bins=100, alpha=0.5, label='Test')\n",
    "plt.hist(validation_data[validation_data['target']==0]['score_lgbm'], bins=100, alpha=0.5, label='Validation')\n",
    "plt.title('Score LightGBM Target 0')\n",
    "plt.xlabel('Score')\n",
    "plt.ylabel('Frequência')\n",
    "plt.legend()"
   ]
  },
  {
   "cell_type": "code",
   "execution_count": 0,
   "metadata": {
    "application/vnd.databricks.v1+cell": {
     "cellMetadata": {
      "byteLimit": 2048000,
      "rowLimit": 10000
     },
     "inputWidgets": {},
     "nuid": "754cddd5-de0d-4745-98ea-f679f549549e",
     "showTitle": false,
     "tableResultSettingsMap": {},
     "title": ""
    }
   },
   "outputs": [],
   "source": [
    "plt.hist(train_data[train_data['target']==1]['score_lgbm'], bins=100, alpha=0.5, label='Train')\n",
    "plt.hist(test_data[test_data['target']==1]['score_lgbm'], bins=100, alpha=0.5, label='Test')\n",
    "plt.hist(validation_data[validation_data['target']==1]['score_lgbm'], bins=100, alpha=0.5, label='Validation')\n",
    "plt.title('Score LightGBM Target 1')\n",
    "plt.xlabel('Score')\n",
    "plt.ylabel('Frequência')\n",
    "plt.legend()"
   ]
  },
  {
   "cell_type": "code",
   "execution_count": 0,
   "metadata": {
    "application/vnd.databricks.v1+cell": {
     "cellMetadata": {
      "byteLimit": 2048000,
      "rowLimit": 10000
     },
     "inputWidgets": {},
     "nuid": "7ae29183-87ff-4e77-aad3-4f3bf2dbe599",
     "showTitle": false,
     "tableResultSettingsMap": {},
     "title": ""
    }
   },
   "outputs": [],
   "source": [
    "thresholds = np.arange(0.0, 1.05, 0.005)\n",
    "f1_scores = []\n",
    "best_threshold = 0\n",
    "best_f1_score = 0\n",
    "\n",
    "for threshold in thresholds:\n",
    "    y_pred_bin = np.where(test_data['score_lgbm'] >= threshold, 1, 0)\n",
    "\n",
    "    f1 = f1_score(test_data['target'], y_pred_bin)\n",
    "    f1_scores.append(f1)\n",
    "\n",
    "    if f1 > best_f1_score:\n",
    "        best_f1_score = f1\n",
    "        best_threshold = threshold\n",
    "\n",
    "\n",
    "print(f\"Melhor Threshold: {best_threshold:.2f}\")\n",
    "print(f\"Melhor F1-Score: {best_f1_score:.4f}\")"
   ]
  },
  {
   "cell_type": "code",
   "execution_count": 0,
   "metadata": {
    "application/vnd.databricks.v1+cell": {
     "cellMetadata": {
      "byteLimit": 2048000,
      "rowLimit": 10000
     },
     "inputWidgets": {},
     "nuid": "fed49687-6d5e-4d69-9714-ef7a8f786a6d",
     "showTitle": false,
     "tableResultSettingsMap": {},
     "title": ""
    }
   },
   "outputs": [],
   "source": [
    "thresholds_f1_scores = list(zip(thresholds, f1_scores))\n",
    "thresholds_f1_scores"
   ]
  },
  {
   "cell_type": "code",
   "execution_count": 0,
   "metadata": {
    "application/vnd.databricks.v1+cell": {
     "cellMetadata": {
      "byteLimit": 2048000,
      "rowLimit": 10000
     },
     "inputWidgets": {},
     "nuid": "1c2eacf7-5e09-44c9-b136-0dfd7f48b397",
     "showTitle": false,
     "tableResultSettingsMap": {},
     "title": ""
    }
   },
   "outputs": [],
   "source": [
    "plt.figure(figsize=(10, 6))\n",
    "plt.scatter(thresholds, f1_scores)\n",
    "plt.xlabel('Thresholds')\n",
    "plt.ylabel('F1-Scores')\n",
    "\n",
    "max_f1_score = max(f1_scores)\n",
    "max_f1_index = f1_scores.index(max_f1_score)\n",
    "max_f1_threshold = thresholds[max_f1_index]\n",
    "\n",
    "plt.annotate(f'Max F1-Score: {max_f1_score:.4f}\\n(x, y) = ({max_f1_threshold:.2f}, {max_f1_score:.4f})', \n",
    "             xy=(max_f1_threshold, max_f1_score), \n",
    "             xytext=(max_f1_threshold, max_f1_score + 0.09),\n",
    "             arrowprops=dict(facecolor='black', shrink=0.05))\n",
    "\n",
    "plt.show()"
   ]
  },
  {
   "cell_type": "code",
   "execution_count": 0,
   "metadata": {
    "application/vnd.databricks.v1+cell": {
     "cellMetadata": {
      "byteLimit": 2048000,
      "rowLimit": 10000
     },
     "inputWidgets": {},
     "nuid": "1102530c-9ebe-448f-b7ad-d51a13e07c5d",
     "showTitle": false,
     "tableResultSettingsMap": {},
     "title": ""
    }
   },
   "outputs": [],
   "source": [
    "y_pred_proba = test_data['score_lgbm']\n",
    "precision, recall, _ = precision_recall_curve(test_data['target'], y_pred_proba)\n",
    "\n",
    "plt.figure(figsize=(10, 6))\n",
    "plt.plot(recall, precision, marker='o')\n",
    "plt.title('Recall vs Precision')\n",
    "plt.xlabel('Recall')\n",
    "plt.ylabel('Precision')\n",
    "plt.show()"
   ]
  },
  {
   "cell_type": "code",
   "execution_count": 0,
   "metadata": {
    "application/vnd.databricks.v1+cell": {
     "cellMetadata": {
      "byteLimit": 2048000,
      "rowLimit": 10000
     },
     "inputWidgets": {},
     "nuid": "17c8611c-d64d-4fa7-b39a-424dd700dfa1",
     "showTitle": false,
     "tableResultSettingsMap": {},
     "title": ""
    }
   },
   "outputs": [],
   "source": [
    "def calculate_model_statistics(y_true, y_pred_proba, threshold):\n",
    "    stats = {}\n",
    "\n",
    "    stats['AUC'] = roc_auc_score(y_true, y_pred_proba)\n",
    "    \n",
    "    y_pred_binary = [1 if pred >= threshold else 0 for pred in y_pred_proba]\n",
    "    \n",
    "    stats['Precision'] = precision_score(y_true, y_pred_binary)\n",
    "    \n",
    "    stats['Recall'] = recall_score(y_true, y_pred_binary)\n",
    "\n",
    "    stats['F1-Score'] = f1_score(y_true, y_pred_binary)\n",
    "    \n",
    "    stats['KS'] = ks_2samp(y_pred_proba[y_true == 1], y_pred_proba[y_true == 0]).statistic\n",
    "    \n",
    "    return stats"
   ]
  },
  {
   "cell_type": "code",
   "execution_count": 0,
   "metadata": {
    "application/vnd.databricks.v1+cell": {
     "cellMetadata": {
      "byteLimit": 2048000,
      "rowLimit": 10000
     },
     "inputWidgets": {},
     "nuid": "50bcb5d9-ab87-4283-b075-cf8e119e5061",
     "showTitle": false,
     "tableResultSettingsMap": {},
     "title": ""
    }
   },
   "outputs": [],
   "source": [
    "calculate_model_statistics(train_data['target'], train_data['score_lgbm'], best_threshold)"
   ]
  },
  {
   "cell_type": "code",
   "execution_count": 0,
   "metadata": {
    "application/vnd.databricks.v1+cell": {
     "cellMetadata": {
      "byteLimit": 2048000,
      "rowLimit": 10000
     },
     "inputWidgets": {},
     "nuid": "122f13ad-016f-459d-a7f7-4f35667c33b8",
     "showTitle": false,
     "tableResultSettingsMap": {},
     "title": ""
    }
   },
   "outputs": [],
   "source": [
    "calculate_model_statistics(test_data['target'], test_data['score_lgbm'], best_threshold)"
   ]
  },
  {
   "cell_type": "code",
   "execution_count": 0,
   "metadata": {
    "application/vnd.databricks.v1+cell": {
     "cellMetadata": {
      "byteLimit": 2048000,
      "rowLimit": 10000
     },
     "inputWidgets": {},
     "nuid": "791f9228-7d4e-41fc-a8d9-bbaf7c576985",
     "showTitle": false,
     "tableResultSettingsMap": {},
     "title": ""
    }
   },
   "outputs": [],
   "source": [
    "calculate_model_statistics(validation_data['target'], validation_data['score_lgbm'], best_threshold)"
   ]
  },
  {
   "cell_type": "code",
   "execution_count": 0,
   "metadata": {
    "application/vnd.databricks.v1+cell": {
     "cellMetadata": {
      "byteLimit": 2048000,
      "rowLimit": 10000
     },
     "inputWidgets": {},
     "nuid": "eb9158d7-45b9-4fb3-a6d3-3a5059d5aed9",
     "showTitle": false,
     "tableResultSettingsMap": {},
     "title": ""
    }
   },
   "outputs": [],
   "source": [
    "train_stats = calculate_model_statistics(train_data['target'], train_data['score_lgbm'], best_threshold)\n",
    "test_stats = calculate_model_statistics(test_data['target'], test_data['score_lgbm'], best_threshold)\n",
    "val_stats = calculate_model_statistics(validation_data['target'], validation_data['score_lgbm'], best_threshold)\n",
    "\n",
    "train_stats_df = pd.DataFrame([train_stats])\n",
    "test_stats_df = pd.DataFrame([test_stats])\n",
    "val_stats_df = pd.DataFrame([val_stats])\n",
    "\n",
    "train_stats_df['Period'] = 'Train'\n",
    "test_stats_df['Period'] = 'Test'\n",
    "val_stats_df['Period'] = 'Validation'\n",
    "\n",
    "combined_stats = pd.concat([train_stats_df, test_stats_df, val_stats_df], ignore_index=True)\n",
    "combined_stats = combined_stats[['Period'] + [col for col in combined_stats.columns if col != 'Period']]\n",
    "combined_stats.iloc[:, 1:] = combined_stats.iloc[:, 1:].applymap(lambda x: f\"{x:.2%}\")\n",
    "display(combined_stats)"
   ]
  },
  {
   "cell_type": "code",
   "execution_count": 0,
   "metadata": {
    "application/vnd.databricks.v1+cell": {
     "cellMetadata": {
      "byteLimit": 2048000,
      "rowLimit": 10000
     },
     "inputWidgets": {},
     "nuid": "5dad8c60-7e82-4fae-a833-816d8b387b8e",
     "showTitle": false,
     "tableResultSettingsMap": {},
     "title": ""
    }
   },
   "outputs": [],
   "source": [
    "plot_roc_curve(final_lgbm_model, X_test, y_test)\n",
    "plot_confusion_matrix(final_lgbm_model, X_test, y_test, threshold=best_threshold)\n",
    "plot_feature_importances(final_lgbm_model, X_test.columns)\n",
    "plot_classification_report(final_lgbm_model, X_test, y_test, threshold=best_threshold)"
   ]
  },
  {
   "cell_type": "code",
   "execution_count": 0,
   "metadata": {
    "application/vnd.databricks.v1+cell": {
     "cellMetadata": {
      "byteLimit": 2048000,
      "rowLimit": 10000
     },
     "inputWidgets": {},
     "nuid": "bdf5b51e-111d-4fec-a827-0c2b2e66d52a",
     "showTitle": false,
     "tableResultSettingsMap": {},
     "title": ""
    }
   },
   "outputs": [],
   "source": [
    "plot_roc_curve(final_lgbm_model, X_val, y_val)\n",
    "plot_confusion_matrix(final_lgbm_model, X_val, y_val, threshold=best_threshold)\n",
    "plot_feature_importances(final_lgbm_model, X_val.columns)\n",
    "plot_classification_report(final_lgbm_model, X_val, y_val, threshold=best_threshold)"
   ]
  },
  {
   "cell_type": "code",
   "execution_count": 0,
   "metadata": {
    "application/vnd.databricks.v1+cell": {
     "cellMetadata": {
      "byteLimit": 2048000,
      "rowLimit": 10000
     },
     "inputWidgets": {},
     "nuid": "4827973d-5293-4d8f-8dca-b44f77c43ca2",
     "showTitle": false,
     "tableResultSettingsMap": {},
     "title": ""
    }
   },
   "outputs": [],
   "source": [
    "feature_importances = final_lgbm_model.feature_importances_\n",
    "features = X_train.columns\n",
    "\n",
    "importance_df = pd.DataFrame({'Feature': features, 'Importance': feature_importances})\n",
    "\n",
    "importance_df = importance_df.sort_values(by='Importance', ascending=False)\n",
    "\n",
    "plt.figure(figsize=(15, 12))\n",
    "plt.barh(importance_df['Feature'], importance_df['Importance'])\n",
    "plt.xlabel('Importance')\n",
    "plt.ylabel('Feature')\n",
    "plt.title('Feature Importance - LightGBM')\n",
    "plt.gca().invert_yaxis()\n",
    "plt.show()"
   ]
  },
  {
   "cell_type": "code",
   "execution_count": 0,
   "metadata": {
    "application/vnd.databricks.v1+cell": {
     "cellMetadata": {
      "byteLimit": 2048000,
      "rowLimit": 10000
     },
     "inputWidgets": {},
     "nuid": "de24f314-2fa3-471b-8d3d-fb75d053fa15",
     "showTitle": false,
     "tableResultSettingsMap": {},
     "title": ""
    }
   },
   "outputs": [],
   "source": [
    "%python\n",
    "import shap\n",
    "\n",
    "# Initialize the SHAP explainer\n",
    "explainer = shap.Explainer(final_lgbm_model)\n",
    "\n",
    "# Calculate SHAP values for the training data\n",
    "shap_values = explainer(train_data[variaveis_rf])\n",
    "\n",
    "# Convert the training data to a numpy array\n",
    "train_data_np = train_data[variaveis_rf].to_numpy()\n",
    "\n",
    "# Plot the SHAP summary plot\n",
    "# shap.summary_plot(shap_values.values, train_data_np, feature_names=variaveis_rf)"
   ]
  },
  {
   "cell_type": "code",
   "execution_count": 0,
   "metadata": {
    "application/vnd.databricks.v1+cell": {
     "cellMetadata": {
      "byteLimit": 2048000,
      "rowLimit": 10000
     },
     "inputWidgets": {},
     "nuid": "a7b2b64d-cf28-45d7-a012-39ed7c40071f",
     "showTitle": false,
     "tableResultSettingsMap": {},
     "title": ""
    }
   },
   "outputs": [],
   "source": [
    "train_data_np.shape"
   ]
  },
  {
   "cell_type": "code",
   "execution_count": 0,
   "metadata": {
    "application/vnd.databricks.v1+cell": {
     "cellMetadata": {
      "byteLimit": 2048000,
      "rowLimit": 10000
     },
     "inputWidgets": {},
     "nuid": "b278c3e7-a2f3-461d-8294-f70b839f5e3e",
     "showTitle": false,
     "tableResultSettingsMap": {},
     "title": ""
    }
   },
   "outputs": [],
   "source": [
    "shap_values.values[:, :, 0]"
   ]
  },
  {
   "cell_type": "code",
   "execution_count": 0,
   "metadata": {
    "application/vnd.databricks.v1+cell": {
     "cellMetadata": {
      "byteLimit": 2048000,
      "rowLimit": 10000
     },
     "inputWidgets": {},
     "nuid": "8454d7a9-f31f-4bf2-a545-4c3e4395d7a9",
     "showTitle": false,
     "tableResultSettingsMap": {},
     "title": ""
    }
   },
   "outputs": [],
   "source": [
    "shap.summary_plot(shap_values.values[:, :, 0], train_data_np, feature_names=variaveis_rf)"
   ]
  },
  {
   "cell_type": "code",
   "execution_count": 0,
   "metadata": {
    "application/vnd.databricks.v1+cell": {
     "cellMetadata": {
      "byteLimit": 2048000,
      "rowLimit": 10000
     },
     "inputWidgets": {},
     "nuid": "c8289bb7-2765-4300-b940-c0f3d11e0a7e",
     "showTitle": false,
     "tableResultSettingsMap": {},
     "title": ""
    }
   },
   "outputs": [],
   "source": [
    "importance_df['Importance'] = (importance_df['Importance'] / importance_df['Importance'].sum()) * 100\n",
    "display(importance_df)"
   ]
  },
  {
   "cell_type": "code",
   "execution_count": 0,
   "metadata": {
    "application/vnd.databricks.v1+cell": {
     "cellMetadata": {
      "byteLimit": 2048000,
      "rowLimit": 10000
     },
     "inputWidgets": {},
     "nuid": "c090db3a-e390-4c78-9fd2-892245dbe664",
     "showTitle": false,
     "tableResultSettingsMap": {},
     "title": ""
    }
   },
   "outputs": [],
   "source": [
    "s1 = train_data['safra'].unique()\n",
    "s2 = test_data['safra'].unique()\n",
    "s3 = validation_data['safra'].unique()\n",
    "\n",
    "ks_s1 = ks_grouped_by_safra(train_data, 'target', 'score_lgbm', sorted(s1))\n",
    "ks_s2 = ks_grouped_by_safra(test_data, 'target', 'score_lgbm', sorted(s2))\n",
    "ks_s3 = ks_grouped_by_safra(validation_data, 'target', 'score_lgbm', sorted(s3))\n",
    "\n",
    "ks_union = pd.concat([ks_s1, ks_s2, ks_s3])\n",
    "\n",
    "# Plotting the KS statistics\n",
    "plt.figure(figsize=(10, 6))\n",
    "plt.plot(ks_union['safra'].astype(str), ks_union['ks_stat']*100, marker='o')\n",
    "# plt.axvline(x=str(sorted(s2)[0]), color='r', linestyle='--')\n",
    "# plt.axvline(x=str(sorted(s3)[0]), color='g', linestyle='--')\n",
    "plt.ylim(0, 50)\n",
    "plt.xlabel('Safra')\n",
    "plt.ylabel('KS Statistic')\n",
    "plt.title('KS Statistic by Safra')\n",
    "plt.xticks(rotation=45)\n",
    "plt.show()"
   ]
  },
  {
   "cell_type": "code",
   "execution_count": 0,
   "metadata": {
    "application/vnd.databricks.v1+cell": {
     "cellMetadata": {
      "byteLimit": 2048000,
      "rowLimit": 10000
     },
     "inputWidgets": {},
     "nuid": "96c14da3-bc80-4ce4-b677-18e54a378bdd",
     "showTitle": false,
     "tableResultSettingsMap": {},
     "title": ""
    }
   },
   "outputs": [],
   "source": [
    "train_data['score_lgbm'] = train_data_escorado\n",
    "test_data['score_lgbm'] = test_data_escorado\n",
    "validation_data['score_lgbm'] = val_data_escorado\n",
    "\n",
    "train_data['y_pred_lgbm'] = (train_data['score_lgbm'] > best_threshold).astype(int)\n",
    "test_data['y_pred_lgbm'] = (test_data['score_lgbm'] > best_threshold).astype(int)\n",
    "validation_data['y_pred_lgbm'] = (validation_data['score_lgbm'] > best_threshold).astype(int)"
   ]
  },
  {
   "cell_type": "code",
   "execution_count": 0,
   "metadata": {
    "application/vnd.databricks.v1+cell": {
     "cellMetadata": {
      "byteLimit": 2048000,
      "rowLimit": 10000
     },
     "inputWidgets": {},
     "nuid": "feec74f6-44f8-4faf-815c-cedb88b70118",
     "showTitle": false,
     "tableResultSettingsMap": {},
     "title": ""
    }
   },
   "outputs": [],
   "source": [
    "train_churn_actual, train_churn_predicted = calculate_churn_percentage(train_data, 'target', 'score_lgbm', 'y_pred', best_threshold)\n",
    "test_churn_actual, test_churn_predicted = calculate_churn_percentage(test_data, 'target', 'score_lgbm', 'y_pred', best_threshold)\n",
    "val_churn_actual, val_churn_predicted = calculate_churn_percentage(validation_data, 'target', 'score_lgbm', 'y_pred', best_threshold)\n",
    "\n",
    "churn_stats = pd.DataFrame({\n",
    "    'Period': ['Train', 'Test', 'Validation'],\n",
    "    'Actual Churn Rate': [train_churn_actual, test_churn_actual, val_churn_actual],\n",
    "    'Predicted Churn Rate': [train_churn_predicted, test_churn_predicted, val_churn_predicted]\n",
    "})\n",
    "\n",
    "churn_stats.iloc[:, 1:] = churn_stats.iloc[:, 1:].applymap(lambda x: f\"{x:.2%}\")\n",
    "display(churn_stats)\n",
    "\n",
    "train_churn_by_safra = calculate_churn_by_safra(train_data, 'target', 'y_pred')\n",
    "test_churn_by_safra = calculate_churn_by_safra(test_data, 'target', 'y_pred')\n",
    "val_churn_by_safra = calculate_churn_by_safra(validation_data, 'target', 'y_pred')\n",
    "\n",
    "churn_by_safra = pd.concat([\n",
    "    train_churn_by_safra.assign(Period='Train'),\n",
    "    test_churn_by_safra.assign(Period='Test'),\n",
    "    val_churn_by_safra.assign(Period='Validation')\n",
    "], ignore_index=True)\n",
    "\n",
    "churn_by_safra['actual_churn_rate'] *= 100\n",
    "churn_by_safra['predicted_churn_rate'] *= 100\n",
    "\n",
    "plt.figure(figsize=(12, 6))\n",
    "sns.barplot(data=churn_by_safra.melt(id_vars=['safra', 'Period'], value_vars=['actual_churn_rate', 'predicted_churn_rate']),\n",
    "            x='safra', y='value', hue='variable', ci=None)\n",
    "plt.title('Churn Rates by Safra')\n",
    "plt.xlabel('Safra')\n",
    "plt.ylabel('Churn Rate (%)')\n",
    "plt.legend(title='Churn Rate Type', labels=['Actual Churn Rate', 'Predicted Churn Rate'])\n",
    "plt.xticks(rotation=45)\n",
    "plt.show()"
   ]
  },
  {
   "cell_type": "code",
   "execution_count": 0,
   "metadata": {
    "application/vnd.databricks.v1+cell": {
     "cellMetadata": {
      "byteLimit": 2048000,
      "rowLimit": 10000
     },
     "inputWidgets": {},
     "nuid": "5a780ea1-441b-4bf4-820b-9c3f23c5d5bf",
     "showTitle": false,
     "tableResultSettingsMap": {},
     "title": ""
    }
   },
   "outputs": [],
   "source": []
  }
 ],
 "metadata": {
  "application/vnd.databricks.v1+notebook": {
   "computePreferences": null,
   "dashboards": [],
   "environmentMetadata": {
    "base_environment": "",
    "environment_version": "1"
   },
   "inputWidgetPreferences": null,
   "language": "python",
   "notebookMetadata": {
    "pythonIndentUnit": 4
   },
   "notebookName": "05.Modelos_LGBM_AUC_AutoRenew_0_Feat_Selec_Jan",
   "widgets": {}
  },
  "language_info": {
   "name": "python"
  }
 },
 "nbformat": 4,
 "nbformat_minor": 0
}
