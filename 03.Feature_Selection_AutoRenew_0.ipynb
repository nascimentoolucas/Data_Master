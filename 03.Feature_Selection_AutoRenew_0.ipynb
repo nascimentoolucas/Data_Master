{
 "cells": [
  {
   "cell_type": "markdown",
   "metadata": {
    "application/vnd.databricks.v1+cell": {
     "cellMetadata": {
      "byteLimit": 2048000,
      "rowLimit": 10000
     },
     "inputWidgets": {},
     "nuid": "96c2b937-2d41-4d6f-a6c1-2f9146d92b24",
     "showTitle": false,
     "tableResultSettingsMap": {},
     "title": ""
    }
   },
   "source": [
    "## Imports"
   ]
  },
  {
   "cell_type": "code",
   "execution_count": 0,
   "metadata": {
    "application/vnd.databricks.v1+cell": {
     "cellMetadata": {
      "byteLimit": 2048000,
      "rowLimit": 10000
     },
     "inputWidgets": {},
     "nuid": "5df559b7-03b0-47c5-9b1d-41c4fd5a2a09",
     "showTitle": false,
     "tableResultSettingsMap": {},
     "title": ""
    }
   },
   "outputs": [],
   "source": [
    "import pandas as pd\n",
    "import numpy as np\n",
    "\n",
    "import pyspark.sql.functions as F\n",
    "from pyspark.sql.window import Window\n",
    "\n",
    "from pyspark.ml.feature import StringIndexer, OneHotEncoder, VectorAssembler, StandardScaler\n",
    "from pyspark.ml.classification import LogisticRegression\n",
    "from pyspark.ml.evaluation import BinaryClassificationEvaluator\n",
    "from pyspark.ml import Pipeline\n",
    "\n",
    "from pyspark.ml.classification import RandomForestClassifier, GBTClassifier\n",
    "from pyspark.ml.evaluation import BinaryClassificationEvaluator\n",
    "from pyspark.ml.tuning import ParamGridBuilder, CrossValidator\n",
    "\n",
    "from sklearn.feature_selection import RFE\n",
    "from sklearn.linear_model import LogisticRegression\n",
    "\n",
    "from pyspark.ml.classification import RandomForestClassifier\n",
    "from pyspark.ml.feature import VectorAssembler\n",
    "from pyspark.ml import Pipeline\n",
    "import matplotlib.pyplot as plt"
   ]
  },
  {
   "cell_type": "code",
   "execution_count": 0,
   "metadata": {
    "application/vnd.databricks.v1+cell": {
     "cellMetadata": {
      "byteLimit": 2048000,
      "rowLimit": 10000
     },
     "inputWidgets": {},
     "nuid": "585c13d0-96b0-457d-8892-4b003467a5cf",
     "showTitle": false,
     "tableResultSettingsMap": {},
     "title": ""
    }
   },
   "outputs": [],
   "source": [
    "def ExtractFeatureImp(featureImp, dataset, featuresCol):\n",
    "    \"\"\"\n",
    "    auxiliar function to extract feature names from rf's feature importance\n",
    "    \"\"\"\n",
    "    list_extract = []\n",
    "    for i in dataset.schema[featuresCol].metadata[\"ml_attr\"][\"attrs\"]:\n",
    "        list_extract = list_extract + dataset.schema[featuresCol].metadata[\"ml_attr\"][\"attrs\"][i]\n",
    "    varlist = pd.DataFrame(list_extract)\n",
    "    varlist['score'] = varlist['idx'].apply(lambda x: featureImp[x])\n",
    "    return(varlist.sort_values('score', ascending = False))\n"
   ]
  },
  {
   "cell_type": "markdown",
   "metadata": {
    "application/vnd.databricks.v1+cell": {
     "cellMetadata": {
      "byteLimit": 2048000,
      "rowLimit": 10000
     },
     "inputWidgets": {},
     "nuid": "6e6551b7-1336-4a9e-bee4-22fa122ef627",
     "showTitle": false,
     "tableResultSettingsMap": {},
     "title": ""
    }
   },
   "source": [
    "## Base de Variáveis"
   ]
  },
  {
   "cell_type": "code",
   "execution_count": 0,
   "metadata": {
    "application/vnd.databricks.v1+cell": {
     "cellMetadata": {
      "byteLimit": 2048000,
      "rowLimit": 10000
     },
     "inputWidgets": {},
     "nuid": "bd2e8762-ce96-427b-b9a7-673edabf0713",
     "showTitle": false,
     "tableResultSettingsMap": {},
     "title": ""
    }
   },
   "outputs": [],
   "source": [
    "base_spine = spark.table('sand_riscos_pm_pf.T789778_spine_final_variaveis_dm_v3').filter(F.col('is_auto_renew_1m').isin(0))\n",
    "base_spine.printSchema()"
   ]
  },
  {
   "cell_type": "code",
   "execution_count": 0,
   "metadata": {
    "application/vnd.databricks.v1+cell": {
     "cellMetadata": {
      "byteLimit": 2048000,
      "rowLimit": 10000
     },
     "inputWidgets": {},
     "nuid": "60aa997b-d816-4627-af26-3da6dd85079c",
     "showTitle": false,
     "tableResultSettingsMap": {},
     "title": ""
    }
   },
   "outputs": [],
   "source": [
    "num_vars = [k for k in base_spine.columns if k.startswith('num_')]+[k for k in base_spine.columns if k.startswith('total')]+\\\n",
    " [k for k in base_spine.columns if k.startswith('completion')]+[k for k in base_spine.columns if k.startswith('repeat_')]+ \\\n",
    " [k for k in base_spine.columns if k.startswith('diversity')]+[k for k in base_spine.columns if k.startswith('intensity')]+ \\\n",
    " [k for k in base_spine.columns if k.startswith('plan_list')]+[k for k in base_spine.columns if k.startswith('actual_amount')]+ \\\n",
    " [k for k in base_spine.columns if k.startswith('payment_plan_days')]+ [k for k in base_spine.columns if k.startswith('account')]+ \\\n",
    " [k for k in base_spine.columns if k.startswith('plan_list_price')]\n",
    "\n",
    "\n",
    "categorical_columns = [k for k in base_spine.columns if k.startswith('payment_method')]+[k for k in base_spine.columns if k.startswith('city')]+\\\n",
    "[k for k in base_spine.columns if k.startswith('is_auto_renew')]+[k for k in base_spine.columns if k.startswith('age_group')]+[k for k in base_spine.columns if k.startswith('gender')]"
   ]
  },
  {
   "cell_type": "markdown",
   "metadata": {
    "application/vnd.databricks.v1+cell": {
     "cellMetadata": {
      "byteLimit": 2048000,
      "rowLimit": 10000
     },
     "inputWidgets": {},
     "nuid": "1eeaf42a-a8ec-4af8-adb8-31d08ddd3800",
     "showTitle": false,
     "tableResultSettingsMap": {},
     "title": ""
    }
   },
   "source": [
    "## Janela de priorização\n",
    "\n",
    "Como temos alguns casos em que temos mais de um usuário por safra, devido a cancelamentos anteriores a data que o plano expira, vamos fazer uma Windows Function priorizando casos de churn."
   ]
  },
  {
   "cell_type": "code",
   "execution_count": 0,
   "metadata": {
    "application/vnd.databricks.v1+cell": {
     "cellMetadata": {
      "byteLimit": 2048000,
      "rowLimit": 10000
     },
     "inputWidgets": {},
     "nuid": "7f6a5092-50da-4180-a924-c1b92fb4afff",
     "showTitle": false,
     "tableResultSettingsMap": {},
     "title": ""
    }
   },
   "outputs": [],
   "source": [
    "Window = Window.partitionBy(\"msno\", \"safra\").orderBy(\"target\")"
   ]
  },
  {
   "cell_type": "code",
   "execution_count": 0,
   "metadata": {
    "application/vnd.databricks.v1+cell": {
     "cellMetadata": {
      "byteLimit": 2048000,
      "rowLimit": 10000
     },
     "inputWidgets": {},
     "nuid": "666b5bf2-a6f8-4165-a29a-ba744805fac3",
     "showTitle": false,
     "tableResultSettingsMap": {},
     "title": ""
    }
   },
   "outputs": [],
   "source": [
    "base_spine = (base_spine\n",
    "              .withColumn(\"row_number\",F.row_number().over(Window))\n",
    "              .filter(F.col(\"row_number\").isin(1))\n",
    ").drop(\"row_number\")"
   ]
  },
  {
   "cell_type": "markdown",
   "metadata": {
    "application/vnd.databricks.v1+cell": {
     "cellMetadata": {
      "byteLimit": 2048000,
      "rowLimit": 10000
     },
     "inputWidgets": {},
     "nuid": "45b2de9f-2e2f-43a9-8044-1dd784ff514b",
     "showTitle": false,
     "tableResultSettingsMap": {},
     "title": ""
    }
   },
   "source": [
    "# Treino - Validação - Teste\n",
    "\n",
    "Usarei como base de treino 201505-201604 (Pois como temos variáveis históricos em um horizonte de 4 meses para trás, começamos com Abril, pois as informações referentes a este usuário é desde Janeiro). Será chamado de Período de Treino.\n",
    "\n",
    "Como Validação, usarei 201605-201607. que será chamado de Out of Time (OOT)\n",
    "\n",
    "Como Teste, usarei 201608-201611, que será chamado de True the Door (TTD).\n",
    "\n",
    "Os dados 201612-201702 não podem ser utilizados, pois não há janela temporal de 3 meses para marcação da target."
   ]
  },
  {
   "cell_type": "code",
   "execution_count": 0,
   "metadata": {
    "application/vnd.databricks.v1+cell": {
     "cellMetadata": {
      "byteLimit": 2048000,
      "rowLimit": 10000
     },
     "inputWidgets": {},
     "nuid": "015eb92b-bd8a-4ad4-b500-2bbb5d53bde7",
     "showTitle": false,
     "tableResultSettingsMap": {},
     "title": ""
    }
   },
   "outputs": [],
   "source": [
    "init_vars = base_spine.columns\n",
    "init_vars.remove('msno')\n",
    "init_vars.remove('safra')\n",
    "init_vars.remove('target')\n",
    "init_vars.remove('is_ativo')\n",
    "\n",
    "ident_vars = ['msno', 'safra']"
   ]
  },
  {
   "cell_type": "code",
   "execution_count": 0,
   "metadata": {
    "application/vnd.databricks.v1+cell": {
     "cellMetadata": {
      "byteLimit": 2048000,
      "rowLimit": 10000
     },
     "inputWidgets": {},
     "nuid": "bcd1df22-002d-42b1-b265-fa97efd9ec71",
     "showTitle": false,
     "tableResultSettingsMap": {},
     "title": ""
    }
   },
   "outputs": [],
   "source": [
    "train_data = base_spine.filter(F.col('safra').between(201505,201604)).select(ident_vars+init_vars+['target'])\n",
    "test_data = base_spine.filter(F.col('safra').between(201605,201607)).select(ident_vars+init_vars+['target'])\n",
    "validation_data = base_spine.filter(F.col('safra').between(201608,201611)).select(ident_vars+init_vars+['target'])"
   ]
  },
  {
   "cell_type": "markdown",
   "metadata": {
    "application/vnd.databricks.v1+cell": {
     "cellMetadata": {
      "byteLimit": 2048000,
      "rowLimit": 10000
     },
     "inputWidgets": {},
     "nuid": "b39ca4d6-0950-4672-b7bb-1446ade6b0fb",
     "showTitle": false,
     "tableResultSettingsMap": {},
     "title": ""
    }
   },
   "source": [
    "## Feature Selection por Random Forest"
   ]
  },
  {
   "cell_type": "code",
   "execution_count": 0,
   "metadata": {
    "application/vnd.databricks.v1+cell": {
     "cellMetadata": {
      "byteLimit": 2048000,
      "rowLimit": 10000
     },
     "inputWidgets": {},
     "nuid": "ac67adc6-f60f-4943-986d-bc06307d0fe7",
     "showTitle": false,
     "tableResultSettingsMap": {},
     "title": ""
    }
   },
   "outputs": [],
   "source": [
    "indexers = []\n",
    "\n",
    "for col in categorical_columns:\n",
    "    indexer = StringIndexer(inputCol=col, outputCol=f\"{col}_index\", handleInvalid='keep')\n",
    "    indexers.append(indexer)\n",
    "\n",
    "assembler = VectorAssembler(\n",
    "    inputCols=[f\"{col}_index\" for col in categorical_columns] + num_vars,\n",
    "    outputCol=\"features\"\n",
    ")"
   ]
  },
  {
   "cell_type": "code",
   "execution_count": 0,
   "metadata": {
    "application/vnd.databricks.v1+cell": {
     "cellMetadata": {
      "byteLimit": 2048000,
      "rowLimit": 10000
     },
     "inputWidgets": {},
     "nuid": "c6163d24-8dd0-466d-aee8-ea5f81e88f49",
     "showTitle": false,
     "tableResultSettingsMap": {},
     "title": ""
    }
   },
   "outputs": [],
   "source": [
    "rf = RandomForestClassifier(featuresCol=\"features\", \n",
    "                            labelCol=\"target\", \n",
    "                            maxDepth = 15, \n",
    "                            numTrees=100, \n",
    "                            maxBins=50)\n",
    "\n",
    "pipeline = Pipeline(stages=indexers + [assembler, rf])\n",
    "\n",
    "model = pipeline.fit(train_data)\n",
    "\n",
    "rf_model = model.stages[-1]"
   ]
  },
  {
   "cell_type": "code",
   "execution_count": 0,
   "metadata": {
    "application/vnd.databricks.v1+cell": {
     "cellMetadata": {
      "byteLimit": 2048000,
      "rowLimit": 10000
     },
     "inputWidgets": {},
     "nuid": "586d2e10-b2d4-4e27-9dd7-71d0d786ccc3",
     "showTitle": false,
     "tableResultSettingsMap": {},
     "title": ""
    }
   },
   "outputs": [],
   "source": [
    "model = pipeline.fit(train_data)\n",
    "\n",
    "rf_model = model.stages[-1]"
   ]
  },
  {
   "cell_type": "code",
   "execution_count": 0,
   "metadata": {
    "application/vnd.databricks.v1+cell": {
     "cellMetadata": {
      "byteLimit": 2048000,
      "rowLimit": 10000
     },
     "inputWidgets": {},
     "nuid": "0097ebf5-ce5b-4a94-a5bb-8d8c2ea13db9",
     "showTitle": false,
     "tableResultSettingsMap": {},
     "title": ""
    }
   },
   "outputs": [],
   "source": [
    "importances = rf_model.featureImportances\n",
    "feature_names = [f\"{col}_index\" for col in categorical_columns] + num_vars\n",
    "feature_importance = dict(zip(feature_names, importances.toArray()))\n",
    "\n",
    "# Exibir as importâncias ordenadas\n",
    "sorted_importance = sorted(feature_importance.items(), key=lambda x: x[1], reverse=True)\n",
    "for feature, importance in sorted_importance:\n",
    "    print(f\"{feature}: {importance}\")"
   ]
  },
  {
   "cell_type": "code",
   "execution_count": 0,
   "metadata": {
    "application/vnd.databricks.v1+cell": {
     "cellMetadata": {
      "byteLimit": 2048000,
      "rowLimit": 10000
     },
     "inputWidgets": {},
     "nuid": "49a7dae9-a0fb-4203-b9a5-dd256fe14e56",
     "showTitle": false,
     "tableResultSettingsMap": {},
     "title": ""
    }
   },
   "outputs": [],
   "source": [
    "selected_features_rf = [feature for feature, importance in sorted_importance if importance > 0.001]\n",
    "\n",
    "print(\"Variáveis selecionadas (Feature Importance > 0.001):\")\n",
    "selected_features_rf"
   ]
  },
  {
   "cell_type": "code",
   "execution_count": 0,
   "metadata": {
    "application/vnd.databricks.v1+cell": {
     "cellMetadata": {
      "byteLimit": 2048000,
      "rowLimit": 10000
     },
     "inputWidgets": {},
     "nuid": "d8b91df5-f170-4374-b4da-e32fcd0fa120",
     "showTitle": false,
     "tableResultSettingsMap": {},
     "title": ""
    }
   },
   "outputs": [],
   "source": [
    "len(selected_features_rf)"
   ]
  },
  {
   "cell_type": "markdown",
   "metadata": {
    "application/vnd.databricks.v1+cell": {
     "cellMetadata": {},
     "inputWidgets": {},
     "nuid": "99e55d09-9f22-45dc-9f9f-664009218570",
     "showTitle": false,
     "tableResultSettingsMap": {},
     "title": ""
    }
   },
   "source": [
    "## Salvar"
   ]
  },
  {
   "cell_type": "code",
   "execution_count": 0,
   "metadata": {
    "application/vnd.databricks.v1+cell": {
     "cellMetadata": {
      "byteLimit": 2048000,
      "rowLimit": 10000
     },
     "inputWidgets": {},
     "nuid": "b9e56413-8436-428a-81ba-74fe98ff79bd",
     "showTitle": false,
     "tableResultSettingsMap": {},
     "title": ""
    }
   },
   "outputs": [],
   "source": [
    "feature_names = [f\"{col}_index\" for col in categorical_columns] + num_vars\n",
    "id_vars = ['msno', 'safra']\n",
    "target = ['target']"
   ]
  },
  {
   "cell_type": "code",
   "execution_count": 0,
   "metadata": {
    "application/vnd.databricks.v1+cell": {
     "cellMetadata": {
      "byteLimit": 2048000,
      "rowLimit": 10000
     },
     "inputWidgets": {},
     "nuid": "dea2a0d9-f2c6-4a55-8111-dde8ba87a5fc",
     "showTitle": false,
     "tableResultSettingsMap": {},
     "title": ""
    }
   },
   "outputs": [],
   "source": [
    "pipeline = Pipeline(stages=indexers + [assembler])\n",
    "\n",
    "df_final = pipeline.fit(base_spine).transform(base_spine)"
   ]
  },
  {
   "cell_type": "code",
   "execution_count": 0,
   "metadata": {
    "application/vnd.databricks.v1+cell": {
     "cellMetadata": {
      "byteLimit": 2048000,
      "rowLimit": 10000
     },
     "inputWidgets": {},
     "nuid": "b77c5e65-9329-48d6-a09a-4a236d1292f1",
     "showTitle": false,
     "tableResultSettingsMap": {},
     "title": ""
    }
   },
   "outputs": [],
   "source": [
    "df_final"
   ]
  },
  {
   "cell_type": "code",
   "execution_count": 0,
   "metadata": {
    "application/vnd.databricks.v1+cell": {
     "cellMetadata": {
      "byteLimit": 2048000,
      "rowLimit": 10000
     },
     "inputWidgets": {},
     "nuid": "ae00a2fb-b280-44df-9ecd-6b44046ee856",
     "showTitle": false,
     "tableResultSettingsMap": {},
     "title": ""
    }
   },
   "outputs": [],
   "source": [
    "# spark.sql('drop table if exists sand_riscos_pm_pf.T789778_base_final_dm')\n",
    "# df_final.write.mode('overwrite').saveAsTable('sand_riscos_pm_pf.T789778_base_final_dm')\n",
    "# print('sand_riscos_pm_pf.T789778_base_final_dm')"
   ]
  },
  {
   "cell_type": "markdown",
   "metadata": {
    "application/vnd.databricks.v1+cell": {
     "cellMetadata": {},
     "inputWidgets": {},
     "nuid": "60513a00-a864-4586-bb33-049828ef6b91",
     "showTitle": false,
     "tableResultSettingsMap": {},
     "title": ""
    }
   },
   "source": [
    "## Feature Selection por RFE"
   ]
  },
  {
   "cell_type": "code",
   "execution_count": 0,
   "metadata": {
    "application/vnd.databricks.v1+cell": {
     "cellMetadata": {
      "byteLimit": 2048000,
      "rowLimit": 10000
     },
     "inputWidgets": {},
     "nuid": "ae0bfc8b-1b42-4276-89ae-e8e20f773de8",
     "showTitle": false,
     "tableResultSettingsMap": {},
     "title": ""
    }
   },
   "outputs": [],
   "source": [
    "base_spine = spark.table('sand_riscos_pm_pf.T789778_base_final_dm')\n",
    "base_spine"
   ]
  },
  {
   "cell_type": "code",
   "execution_count": 0,
   "metadata": {
    "application/vnd.databricks.v1+cell": {
     "cellMetadata": {
      "byteLimit": 2048000,
      "rowLimit": 10000
     },
     "inputWidgets": {},
     "nuid": "55feebbc-3d9c-4ee0-a077-edd8b86992f8",
     "showTitle": false,
     "tableResultSettingsMap": {},
     "title": ""
    }
   },
   "outputs": [],
   "source": [
    "feature_names = [f\"{col}_index\" for col in categorical_columns] + num_vars\n",
    "id_vars = ['msno', 'safra']\n",
    "target = ['target']"
   ]
  },
  {
   "cell_type": "code",
   "execution_count": 0,
   "metadata": {
    "application/vnd.databricks.v1+cell": {
     "cellMetadata": {
      "byteLimit": 2048000,
      "rowLimit": 10000
     },
     "inputWidgets": {},
     "nuid": "dcb78ac1-eed9-4f61-bf49-c0d3d4947d68",
     "showTitle": false,
     "tableResultSettingsMap": {},
     "title": ""
    }
   },
   "outputs": [],
   "source": [
    "train_data = base_spine.filter(F.col('safra').between(201505,201604)).select(ident_vars+feature_names+['target']).toPandas()\n",
    "test_data = base_spine.filter(F.col('safra').between(201605,201607)).select(ident_vars+feature_names+['target'])\n",
    "validation_data = base_spine.filter(F.col('safra').between(201608,201611)).select(ident_vars+feature_names+['target'])"
   ]
  },
  {
   "cell_type": "code",
   "execution_count": 0,
   "metadata": {
    "application/vnd.databricks.v1+cell": {
     "cellMetadata": {
      "byteLimit": 2048000,
      "rowLimit": 10000
     },
     "inputWidgets": {},
     "nuid": "560feb3b-150f-4410-b15d-2e59bc6de311",
     "showTitle": false,
     "tableResultSettingsMap": {},
     "title": ""
    }
   },
   "outputs": [],
   "source": [
    "X_train = train_data[feature_names]\n",
    "y_train = train_data[target]"
   ]
  },
  {
   "cell_type": "code",
   "execution_count": 0,
   "metadata": {
    "application/vnd.databricks.v1+cell": {
     "cellMetadata": {
      "byteLimit": 2048000,
      "rowLimit": 10000
     },
     "inputWidgets": {},
     "nuid": "72198c4d-4739-4983-b8b3-f5b8d2b5f9ef",
     "showTitle": false,
     "tableResultSettingsMap": {},
     "title": ""
    }
   },
   "outputs": [],
   "source": [
    "model = LogisticRegression()\n",
    "rfe = RFE(model, n_features_to_select=100, step=2)\n",
    "fit = rfe.fit(X_train, y_train)"
   ]
  },
  {
   "cell_type": "code",
   "execution_count": 0,
   "metadata": {
    "application/vnd.databricks.v1+cell": {
     "cellMetadata": {
      "byteLimit": 2048000,
      "rowLimit": 10000
     },
     "inputWidgets": {},
     "nuid": "f08125a6-7746-424b-98ea-780b0d2cf9c7",
     "showTitle": false,
     "tableResultSettingsMap": {},
     "title": ""
    }
   },
   "outputs": [],
   "source": [
    "selected_features = X_train.columns[fit.support_]\n",
    "selected_features"
   ]
  },
  {
   "cell_type": "code",
   "execution_count": 0,
   "metadata": {
    "application/vnd.databricks.v1+cell": {
     "cellMetadata": {
      "byteLimit": 2048000,
      "rowLimit": 10000
     },
     "inputWidgets": {},
     "nuid": "ce9324e5-12cf-4a49-95cc-7e8ad038dc0d",
     "showTitle": false,
     "tableResultSettingsMap": {},
     "title": ""
    }
   },
   "outputs": [],
   "source": [
    "len(selected_features)"
   ]
  }
 ],
 "metadata": {
  "application/vnd.databricks.v1+notebook": {
   "computePreferences": null,
   "dashboards": [],
   "environmentMetadata": {
    "base_environment": "",
    "environment_version": "1"
   },
   "inputWidgetPreferences": null,
   "language": "python",
   "notebookMetadata": {
    "pythonIndentUnit": 4
   },
   "notebookName": "03.Feature_Selection_AutoRenew_0",
   "widgets": {}
  },
  "language_info": {
   "name": "python"
  }
 },
 "nbformat": 4,
 "nbformat_minor": 0
}
