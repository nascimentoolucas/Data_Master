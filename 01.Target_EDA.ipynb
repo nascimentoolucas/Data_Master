{
 "cells": [
  {
   "cell_type": "markdown",
   "metadata": {
    "application/vnd.databricks.v1+cell": {
     "cellMetadata": {
      "byteLimit": 2048000,
      "rowLimit": 10000
     },
     "inputWidgets": {},
     "nuid": "39fec247-c711-4656-be7a-d2a2c16533d0",
     "showTitle": false,
     "tableResultSettingsMap": {},
     "title": ""
    }
   },
   "source": [
    "## Imports"
   ]
  },
  {
   "cell_type": "code",
   "execution_count": 0,
   "metadata": {
    "application/vnd.databricks.v1+cell": {
     "cellMetadata": {
      "byteLimit": 2048000,
      "rowLimit": 10000
     },
     "inputWidgets": {},
     "nuid": "fa1feff0-af3b-4ac1-8d9e-c324a4cdd34d",
     "showTitle": false,
     "tableResultSettingsMap": {},
     "title": ""
    }
   },
   "outputs": [],
   "source": [
    "import matplotlib.pyplot as plt\n",
    "import numpy as np\n",
    "import pandas as pd\n",
    "import pyspark\n",
    "import pyspark.sql.functions as F\n",
    "from pyspark.sql.window import Window\n",
    "from pyspark.sql.types import *\n",
    "from pyspark.sql import DataFrame,SparkSession"
   ]
  },
  {
   "cell_type": "markdown",
   "metadata": {
    "application/vnd.databricks.v1+cell": {
     "cellMetadata": {
      "byteLimit": 2048000,
      "rowLimit": 10000
     },
     "inputWidgets": {},
     "nuid": "1f971a18-9e99-4b1d-9e7c-89f230b7d06f",
     "showTitle": false,
     "tableResultSettingsMap": {},
     "title": ""
    }
   },
   "source": [
    "## Funções EDA"
   ]
  },
  {
   "cell_type": "code",
   "execution_count": 0,
   "metadata": {
    "application/vnd.databricks.v1+cell": {
     "cellMetadata": {
      "byteLimit": 2048000,
      "rowLimit": 10000
     },
     "inputWidgets": {},
     "nuid": "ad635ee9-4bf6-45c5-877a-60b38f1886e6",
     "showTitle": false,
     "tableResultSettingsMap": {},
     "title": ""
    }
   },
   "outputs": [],
   "source": [
    "def safra_aggroup_pct(df, col, name):\n",
    "    agg_data = df.groupBy('safra', col).count()\n",
    "    total_counts = agg_data.groupBy('safra').agg(F.sum('count').alias('total_count'))\n",
    "    normalized_data = agg_data.join(total_counts, 'safra').withColumn('percentage', F.col('count') / F.col('total_count') * 100)\n",
    "\n",
    "    pivot_data = normalized_data.groupBy('safra').pivot(col).sum('percentage').fillna(0).orderBy('safra').toPandas()\n",
    "\n",
    "    pivot_data.set_index('safra', inplace=True)\n",
    "    ax = pivot_data.plot(kind='bar', stacked=True, figsize=(20, 12))\n",
    "\n",
    "    for container in ax.containers:\n",
    "        ax.bar_label(container, fmt='%.0f%%', label_type='center')\n",
    "\n",
    "    plt.xlabel('Safra')\n",
    "    plt.ylabel('%')\n",
    "    plt.title(f'{name} por Safra')\n",
    "    plt.legend(loc = 'lower center', bbox_to_anchor=(1.05, 0), ncol=1, title=name)\n",
    "    plt.show()"
   ]
  },
  {
   "cell_type": "code",
   "execution_count": 0,
   "metadata": {
    "application/vnd.databricks.v1+cell": {
     "cellMetadata": {
      "byteLimit": 2048000,
      "rowLimit": 10000
     },
     "inputWidgets": {},
     "nuid": "e6efd84f-b781-432c-a18c-9b4d684c10cf",
     "showTitle": false,
     "tableResultSettingsMap": {},
     "title": ""
    }
   },
   "outputs": [],
   "source": [
    "def safra_aggroup(df, col, name):\n",
    "    agg_data = df.groupBy('safra', col).count()\n",
    "    total_counts = agg_data.groupBy('safra').agg(F.sum('count').alias('total_count'))\n",
    "    normalized_data = agg_data.join(total_counts, 'safra').withColumn('percentage', F.col('count') / F.col('total_count') * 100)\n",
    "\n",
    "    pivot_data = normalized_data.groupBy('safra').pivot(col).sum('percentage').fillna(0).orderBy('safra').toPandas()\n",
    "\n",
    "    pivot_data.set_index('safra', inplace=True)\n",
    "    pivot_data.plot(kind='bar', stacked=True, figsize=(20, 12))\n",
    "\n",
    "    plt.xlabel('Safra')\n",
    "    plt.ylabel('%')\n",
    "    plt.title(f'{name} por Safra')\n",
    "    plt.legend(loc = 'lower center', bbox_to_anchor=(1.05, 0), ncol=1, title=name)\n",
    "    plt.show()"
   ]
  },
  {
   "cell_type": "markdown",
   "metadata": {
    "application/vnd.databricks.v1+cell": {
     "cellMetadata": {
      "byteLimit": 2048000,
      "rowLimit": 10000
     },
     "inputWidgets": {},
     "nuid": "c5959694-9a60-4a44-8efb-1845311474fd",
     "showTitle": false,
     "tableResultSettingsMap": {},
     "title": ""
    }
   },
   "source": [
    "## Bases"
   ]
  },
  {
   "cell_type": "code",
   "execution_count": 0,
   "metadata": {
    "application/vnd.databricks.v1+cell": {
     "cellMetadata": {
      "byteLimit": 2048000,
      "rowLimit": 10000
     },
     "inputWidgets": {},
     "nuid": "f2064149-5aeb-4f22-93f0-f868a95c91be",
     "showTitle": false,
     "tableResultSettingsMap": {},
     "title": ""
    }
   },
   "outputs": [],
   "source": [
    "members = spark.table('sand_riscos_pm_pf.t730282_members')\n",
    "user_logs = spark.table('sand_riscos_pm_pf.t730282_users_logs')\n",
    "transactions = spark.table('sand_riscos_pm_pf.t730282_transactions')"
   ]
  },
  {
   "cell_type": "markdown",
   "metadata": {
    "application/vnd.databricks.v1+cell": {
     "cellMetadata": {
      "byteLimit": 2048000,
      "rowLimit": 10000
     },
     "inputWidgets": {},
     "nuid": "55d08bbc-06e7-4263-94e3-9aa253a999d9",
     "showTitle": false,
     "tableResultSettingsMap": {},
     "title": ""
    }
   },
   "source": [
    "# Análise Inicial"
   ]
  },
  {
   "cell_type": "code",
   "execution_count": 0,
   "metadata": {
    "application/vnd.databricks.v1+cell": {
     "cellMetadata": {
      "byteLimit": 2048000,
      "rowLimit": 10000
     },
     "inputWidgets": {},
     "nuid": "ae35e7de-2073-40db-9333-738249bb92ae",
     "showTitle": false,
     "tableResultSettingsMap": {},
     "title": ""
    }
   },
   "outputs": [],
   "source": [
    "transactions.printSchema()"
   ]
  },
  {
   "cell_type": "code",
   "execution_count": 0,
   "metadata": {
    "application/vnd.databricks.v1+cell": {
     "cellMetadata": {
      "byteLimit": 2048000,
      "rowLimit": 10000
     },
     "inputWidgets": {},
     "nuid": "d7cc14ea-57d6-4cf8-a798-0cfc5c5f2b05",
     "showTitle": false,
     "tableResultSettingsMap": {},
     "title": ""
    }
   },
   "outputs": [],
   "source": [
    "members.printSchema()"
   ]
  },
  {
   "cell_type": "code",
   "execution_count": 0,
   "metadata": {
    "application/vnd.databricks.v1+cell": {
     "cellMetadata": {
      "byteLimit": 2048000,
      "rowLimit": 10000
     },
     "inputWidgets": {},
     "nuid": "ba968214-98bd-4fb6-b313-c054a0fdf0c8",
     "showTitle": false,
     "tableResultSettingsMap": {},
     "title": ""
    }
   },
   "outputs": [],
   "source": [
    "user_logs.printSchema()"
   ]
  },
  {
   "cell_type": "markdown",
   "metadata": {
    "application/vnd.databricks.v1+cell": {
     "cellMetadata": {
      "byteLimit": 2048000,
      "rowLimit": 10000
     },
     "inputWidgets": {},
     "nuid": "baa3272c-4a52-4f0d-ab7d-ccb57154b072",
     "showTitle": false,
     "tableResultSettingsMap": {},
     "title": ""
    }
   },
   "source": [
    "## Transaction\n",
    "Safra: 201501-201702"
   ]
  },
  {
   "cell_type": "code",
   "execution_count": 0,
   "metadata": {
    "application/vnd.databricks.v1+cell": {
     "cellMetadata": {
      "byteLimit": 2048000,
      "rowLimit": 10000
     },
     "inputWidgets": {},
     "nuid": "b2c93c36-bce9-4fb9-8ff7-67ab42593664",
     "showTitle": false,
     "tableResultSettingsMap": {},
     "title": ""
    }
   },
   "outputs": [],
   "source": [
    "transactions.groupBy('safra').count().display()"
   ]
  },
  {
   "cell_type": "code",
   "execution_count": 0,
   "metadata": {
    "application/vnd.databricks.v1+cell": {
     "cellMetadata": {
      "byteLimit": 2048000,
      "rowLimit": 10000
     },
     "inputWidgets": {},
     "nuid": "959cd9e1-6252-4d6c-83af-4a5969cac896",
     "showTitle": false,
     "tableResultSettingsMap": {},
     "title": ""
    }
   },
   "outputs": [],
   "source": [
    "transactions.select('msno', 'safra').distinct().groupBy('safra').count().display()"
   ]
  },
  {
   "cell_type": "markdown",
   "metadata": {
    "application/vnd.databricks.v1+cell": {
     "cellMetadata": {
      "byteLimit": 2048000,
      "rowLimit": 10000
     },
     "inputWidgets": {},
     "nuid": "fbeb300f-46cb-4d8b-a2c1-421d1fcad2fe",
     "showTitle": false,
     "tableResultSettingsMap": {},
     "title": ""
    }
   },
   "source": [
    "Na Transactions, só há um pagamento por safra!\n",
    "\n",
    "Faz sentido."
   ]
  },
  {
   "cell_type": "code",
   "execution_count": 0,
   "metadata": {
    "application/vnd.databricks.v1+cell": {
     "cellMetadata": {
      "byteLimit": 2048000,
      "rowLimit": 10000
     },
     "inputWidgets": {},
     "nuid": "8e5b8cea-bf7f-4cde-9b2a-13d7280b8c9a",
     "showTitle": false,
     "tableResultSettingsMap": {},
     "title": ""
    }
   },
   "outputs": [],
   "source": [
    "safra_aggroup(transactions, 'payment_method_id', 'Payment Method ID')"
   ]
  },
  {
   "cell_type": "code",
   "execution_count": 0,
   "metadata": {
    "application/vnd.databricks.v1+cell": {
     "cellMetadata": {
      "byteLimit": 2048000,
      "rowLimit": 10000
     },
     "inputWidgets": {},
     "nuid": "f754191a-ccb4-42f8-8d98-3b4bfb108741",
     "showTitle": false,
     "tableResultSettingsMap": {},
     "title": ""
    }
   },
   "outputs": [],
   "source": [
    "safra_aggroup(transactions, 'payment_plan_days', 'Payment Plan Days')"
   ]
  },
  {
   "cell_type": "code",
   "execution_count": 0,
   "metadata": {
    "application/vnd.databricks.v1+cell": {
     "cellMetadata": {
      "byteLimit": 2048000,
      "rowLimit": 10000
     },
     "inputWidgets": {},
     "nuid": "cabbfa06-669e-457f-acd9-b3cea784c42c",
     "showTitle": false,
     "tableResultSettingsMap": {},
     "title": ""
    }
   },
   "outputs": [],
   "source": [
    "safra_aggroup(transactions, 'plan_list_price', 'Plan List Price')"
   ]
  },
  {
   "cell_type": "code",
   "execution_count": 0,
   "metadata": {
    "application/vnd.databricks.v1+cell": {
     "cellMetadata": {
      "byteLimit": 2048000,
      "rowLimit": 10000
     },
     "inputWidgets": {},
     "nuid": "e4ea27bc-53ad-4316-920c-6e974c985856",
     "showTitle": false,
     "tableResultSettingsMap": {},
     "title": ""
    }
   },
   "outputs": [],
   "source": [
    "safra_aggroup(transactions, 'actual_amount_paid', 'Actual Amount Paid')"
   ]
  },
  {
   "cell_type": "code",
   "execution_count": 0,
   "metadata": {
    "application/vnd.databricks.v1+cell": {
     "cellMetadata": {
      "byteLimit": 2048000,
      "rowLimit": 10000
     },
     "inputWidgets": {},
     "nuid": "b1b04e0d-dfba-4450-bbea-70122f32eab2",
     "showTitle": false,
     "tableResultSettingsMap": {},
     "title": ""
    }
   },
   "outputs": [],
   "source": [
    "safra_aggroup(transactions, 'is_auto_renew', 'Is Auto Renew')"
   ]
  },
  {
   "cell_type": "code",
   "execution_count": 0,
   "metadata": {
    "application/vnd.databricks.v1+cell": {
     "cellMetadata": {
      "byteLimit": 2048000,
      "rowLimit": 10000
     },
     "inputWidgets": {},
     "nuid": "d879d62f-0a8d-44a5-92d9-d86b28656805",
     "showTitle": false,
     "tableResultSettingsMap": {},
     "title": ""
    }
   },
   "outputs": [],
   "source": [
    "safra_aggroup(transactions, 'is_cancel', 'Is Cancell')"
   ]
  },
  {
   "cell_type": "markdown",
   "metadata": {
    "application/vnd.databricks.v1+cell": {
     "cellMetadata": {
      "byteLimit": 2048000,
      "rowLimit": 10000
     },
     "inputWidgets": {},
     "nuid": "1dd1df13-39e4-46d5-9af7-81c1839147b4",
     "showTitle": false,
     "tableResultSettingsMap": {},
     "title": ""
    }
   },
   "source": [
    "## Members\n",
    "Safra: 201601-201612"
   ]
  },
  {
   "cell_type": "code",
   "execution_count": 0,
   "metadata": {
    "application/vnd.databricks.v1+cell": {
     "cellMetadata": {
      "byteLimit": 2048000,
      "rowLimit": 10000
     },
     "inputWidgets": {},
     "nuid": "a3bda47f-f4b4-4d27-b06d-02155944f9b4",
     "showTitle": false,
     "tableResultSettingsMap": {},
     "title": ""
    }
   },
   "outputs": [],
   "source": [
    "members.groupBy('safra').count().display()"
   ]
  },
  {
   "cell_type": "code",
   "execution_count": 0,
   "metadata": {
    "application/vnd.databricks.v1+cell": {
     "cellMetadata": {
      "byteLimit": 2048000,
      "rowLimit": 10000
     },
     "inputWidgets": {},
     "nuid": "e5db45ae-93ab-480d-9a53-74ce009ef892",
     "showTitle": false,
     "tableResultSettingsMap": {},
     "title": ""
    }
   },
   "outputs": [],
   "source": [
    "members.count(), members.select('msno').distinct().count()"
   ]
  },
  {
   "cell_type": "code",
   "execution_count": 0,
   "metadata": {
    "application/vnd.databricks.v1+cell": {
     "cellMetadata": {
      "byteLimit": 2048000,
      "rowLimit": 10000
     },
     "inputWidgets": {},
     "nuid": "c60928be-1f06-41ff-948e-813592cd2efc",
     "showTitle": false,
     "tableResultSettingsMap": {},
     "title": ""
    }
   },
   "outputs": [],
   "source": [
    "members.drop('safra').dropDuplicates().count()"
   ]
  },
  {
   "cell_type": "code",
   "execution_count": 0,
   "metadata": {
    "application/vnd.databricks.v1+cell": {
     "cellMetadata": {
      "byteLimit": 2048000,
      "rowLimit": 10000
     },
     "inputWidgets": {},
     "nuid": "28a7785b-0c33-43df-ab99-2bd8f153db9e",
     "showTitle": false,
     "tableResultSettingsMap": {},
     "title": ""
    }
   },
   "outputs": [],
   "source": [
    "members"
   ]
  },
  {
   "cell_type": "code",
   "execution_count": 0,
   "metadata": {
    "application/vnd.databricks.v1+cell": {
     "cellMetadata": {
      "byteLimit": 2048000,
      "rowLimit": 10000
     },
     "inputWidgets": {},
     "nuid": "86268a28-7e94-47eb-a8cd-aa4972f7c18e",
     "showTitle": false,
     "tableResultSettingsMap": {},
     "title": ""
    }
   },
   "outputs": [],
   "source": [
    "safra_aggroup(members, 'city', 'City')"
   ]
  },
  {
   "cell_type": "code",
   "execution_count": 0,
   "metadata": {
    "application/vnd.databricks.v1+cell": {
     "cellMetadata": {
      "byteLimit": 2048000,
      "rowLimit": 10000
     },
     "inputWidgets": {},
     "nuid": "86feedd9-64a8-47b2-9982-8a72465c3c72",
     "showTitle": false,
     "tableResultSettingsMap": {},
     "title": ""
    }
   },
   "outputs": [],
   "source": [
    "# safra_aggroup(members, 'bd', 'Age')"
   ]
  },
  {
   "cell_type": "code",
   "execution_count": 0,
   "metadata": {
    "application/vnd.databricks.v1+cell": {
     "cellMetadata": {
      "byteLimit": 2048000,
      "rowLimit": 10000
     },
     "inputWidgets": {},
     "nuid": "cdc90f99-6db0-4197-83cb-619a4eab2c5e",
     "showTitle": false,
     "tableResultSettingsMap": {},
     "title": ""
    }
   },
   "outputs": [],
   "source": [
    "members.groupBy('bd').count().display()"
   ]
  },
  {
   "cell_type": "code",
   "execution_count": 0,
   "metadata": {
    "application/vnd.databricks.v1+cell": {
     "cellMetadata": {
      "byteLimit": 2048000,
      "rowLimit": 10000
     },
     "inputWidgets": {},
     "nuid": "af9ca3ec-197b-4de6-a7ab-280dc5bfd082",
     "showTitle": false,
     "tableResultSettingsMap": {},
     "title": ""
    }
   },
   "outputs": [],
   "source": [
    "safra_aggroup(members, 'gender', 'Gender')"
   ]
  },
  {
   "cell_type": "code",
   "execution_count": 0,
   "metadata": {
    "application/vnd.databricks.v1+cell": {
     "cellMetadata": {
      "byteLimit": 2048000,
      "rowLimit": 10000
     },
     "inputWidgets": {},
     "nuid": "c2d678e9-2e95-4f70-a5a5-55bee39c0f4e",
     "showTitle": false,
     "tableResultSettingsMap": {},
     "title": ""
    }
   },
   "outputs": [],
   "source": [
    "safra_aggroup(members, 'is_ativo', 'Is Active')"
   ]
  },
  {
   "cell_type": "markdown",
   "metadata": {
    "application/vnd.databricks.v1+cell": {
     "cellMetadata": {
      "byteLimit": 2048000,
      "rowLimit": 10000
     },
     "inputWidgets": {},
     "nuid": "d870f76f-19b2-458a-9c38-96a8b348fe86",
     "showTitle": false,
     "tableResultSettingsMap": {},
     "title": ""
    }
   },
   "source": [
    "## User Logs\n",
    "Safra: 201501-201702"
   ]
  },
  {
   "cell_type": "code",
   "execution_count": 0,
   "metadata": {
    "application/vnd.databricks.v1+cell": {
     "cellMetadata": {
      "byteLimit": 2048000,
      "rowLimit": 10000
     },
     "inputWidgets": {},
     "nuid": "95bafd6e-4866-4c73-8331-d5ac1d4260fc",
     "showTitle": false,
     "tableResultSettingsMap": {},
     "title": ""
    }
   },
   "outputs": [],
   "source": [
    "user_logs.groupBy('safra').count().display()"
   ]
  },
  {
   "cell_type": "code",
   "execution_count": 0,
   "metadata": {
    "application/vnd.databricks.v1+cell": {
     "cellMetadata": {
      "byteLimit": 2048000,
      "rowLimit": 10000
     },
     "inputWidgets": {},
     "nuid": "75c3e3ea-c79c-4e14-b894-ce2a19d3ede5",
     "showTitle": false,
     "tableResultSettingsMap": {},
     "title": ""
    }
   },
   "outputs": [],
   "source": [
    "user_logs.select('msno', 'safra').distinct().groupBy('safra').count().display()"
   ]
  },
  {
   "cell_type": "markdown",
   "metadata": {
    "application/vnd.databricks.v1+cell": {
     "cellMetadata": {
      "byteLimit": 2048000,
      "rowLimit": 10000
     },
     "inputWidgets": {},
     "nuid": "4527b85a-a26f-4388-b751-f7f60d5c6416",
     "showTitle": false,
     "tableResultSettingsMap": {},
     "title": ""
    }
   },
   "source": [
    "No User_Logs, só há um dado por usuário por safra!\n",
    "\n",
    "Faz sentido."
   ]
  },
  {
   "cell_type": "code",
   "execution_count": 0,
   "metadata": {
    "application/vnd.databricks.v1+cell": {
     "cellMetadata": {
      "byteLimit": 2048000,
      "rowLimit": 10000
     },
     "inputWidgets": {},
     "nuid": "290dd00b-8438-4572-b0fc-1d7ccf21028c",
     "showTitle": false,
     "tableResultSettingsMap": {},
     "title": ""
    }
   },
   "outputs": [],
   "source": [
    "num_sec = ['num_25',\n",
    " 'num_50',\n",
    " 'num_75',\n",
    " 'num_985',\n",
    " 'num_100',\n",
    " 'num_unq',\n",
    " 'total_secs']"
   ]
  },
  {
   "cell_type": "code",
   "execution_count": 0,
   "metadata": {
    "application/vnd.databricks.v1+cell": {
     "cellMetadata": {
      "byteLimit": 2048000,
      "rowLimit": 10000
     },
     "inputWidgets": {},
     "nuid": "cd0ea263-ceee-4ded-b0d6-f0e8fbd4bdf9",
     "showTitle": false,
     "tableResultSettingsMap": {},
     "title": ""
    }
   },
   "outputs": [],
   "source": [
    "for k in num_sec:\n",
    "    user_logs.select(k).describe().display()"
   ]
  },
  {
   "cell_type": "code",
   "execution_count": 0,
   "metadata": {
    "application/vnd.databricks.v1+cell": {
     "cellMetadata": {
      "byteLimit": 2048000,
      "rowLimit": 10000
     },
     "inputWidgets": {},
     "nuid": "31472e72-2037-446a-a565-7c9114619663",
     "showTitle": false,
     "tableResultSettingsMap": {},
     "title": ""
    }
   },
   "outputs": [],
   "source": [
    "user_logs.select('total_secs').summary().display()"
   ]
  },
  {
   "cell_type": "code",
   "execution_count": 0,
   "metadata": {
    "application/vnd.databricks.v1+cell": {
     "cellMetadata": {
      "byteLimit": 2048000,
      "rowLimit": 10000
     },
     "inputWidgets": {},
     "nuid": "88aca409-c171-4745-a7e4-6e6df7d63b97",
     "showTitle": false,
     "tableResultSettingsMap": {},
     "title": ""
    }
   },
   "outputs": [],
   "source": [
    "user_logs.groupBy('safra').agg(F.min('total_secs').alias('min_total_secs'), F.max('total_secs').alias('max_total_secs'), (F.max('total_secs')/32140800).alias('pct')).display()"
   ]
  },
  {
   "cell_type": "code",
   "execution_count": 0,
   "metadata": {
    "application/vnd.databricks.v1+cell": {
     "cellMetadata": {
      "byteLimit": 2048000,
      "rowLimit": 10000
     },
     "inputWidgets": {},
     "nuid": "29cdbc96-b9a6-4ef2-ab5d-7a3460c0470f",
     "showTitle": false,
     "tableResultSettingsMap": {},
     "title": ""
    }
   },
   "outputs": [],
   "source": [
    "9.223372036927922E15/(31*24*60*60)"
   ]
  },
  {
   "cell_type": "code",
   "execution_count": 0,
   "metadata": {
    "application/vnd.databricks.v1+cell": {
     "cellMetadata": {
      "byteLimit": 2048000,
      "rowLimit": 10000
     },
     "inputWidgets": {},
     "nuid": "febd0916-3232-48b2-b310-a6c561cfe388",
     "showTitle": false,
     "tableResultSettingsMap": {},
     "title": ""
    }
   },
   "outputs": [],
   "source": [
    "12*31*24*60*60"
   ]
  },
  {
   "cell_type": "code",
   "execution_count": 0,
   "metadata": {
    "application/vnd.databricks.v1+cell": {
     "cellMetadata": {
      "byteLimit": 2048000,
      "rowLimit": 10000
     },
     "inputWidgets": {},
     "nuid": "f3a3282a-f44c-4fbd-9755-2934465722f3",
     "showTitle": false,
     "tableResultSettingsMap": {},
     "title": ""
    }
   },
   "outputs": [],
   "source": [
    "user_logs.filter(F.col('total_secs')>2678400).groupBy('safra').count().display()"
   ]
  },
  {
   "cell_type": "code",
   "execution_count": 0,
   "metadata": {
    "application/vnd.databricks.v1+cell": {
     "cellMetadata": {
      "byteLimit": 2048000,
      "rowLimit": 10000
     },
     "inputWidgets": {},
     "nuid": "1d9178ab-cd9d-41ab-808a-1557b5e59cea",
     "showTitle": false,
     "tableResultSettingsMap": {},
     "title": ""
    }
   },
   "outputs": [],
   "source": [
    "user_logs.filter(F.col('total_secs')<0).groupBy('safra').count().display()"
   ]
  },
  {
   "cell_type": "code",
   "execution_count": 0,
   "metadata": {
    "application/vnd.databricks.v1+cell": {
     "cellMetadata": {
      "byteLimit": 2048000,
      "rowLimit": 10000
     },
     "inputWidgets": {},
     "nuid": "4a7d1194-a3a9-4022-a989-0dcf9789403f",
     "showTitle": false,
     "tableResultSettingsMap": {},
     "title": ""
    }
   },
   "outputs": [],
   "source": [
    "user_logs.filter(F.col('total_secs')>=0).filter(F.col('total_secs')<=2678400).groupBy('safra').agg(F.min('total_secs').alias('min_total_secs'), F.max('total_secs').alias('max_total_secs')).display()"
   ]
  },
  {
   "cell_type": "markdown",
   "metadata": {
    "application/vnd.databricks.v1+cell": {
     "cellMetadata": {
      "byteLimit": 2048000,
      "rowLimit": 10000
     },
     "inputWidgets": {},
     "nuid": "bfbe3a86-c791-4843-94ec-5684adc624b8",
     "showTitle": false,
     "tableResultSettingsMap": {},
     "title": ""
    }
   },
   "source": [
    "## Target"
   ]
  },
  {
   "cell_type": "code",
   "execution_count": 0,
   "metadata": {
    "application/vnd.databricks.v1+cell": {
     "cellMetadata": {
      "byteLimit": 2048000,
      "rowLimit": 10000
     },
     "inputWidgets": {},
     "nuid": "259c9cc9-3e26-4d02-bd38-8af6fdd16144",
     "showTitle": false,
     "tableResultSettingsMap": {},
     "title": ""
    }
   },
   "outputs": [],
   "source": [
    "user_logs.printSchema()"
   ]
  },
  {
   "cell_type": "code",
   "execution_count": 0,
   "metadata": {
    "application/vnd.databricks.v1+cell": {
     "cellMetadata": {
      "byteLimit": 2048000,
      "rowLimit": 10000
     },
     "inputWidgets": {},
     "nuid": "cf462687-3b91-436e-b928-02cbb9fe8b79",
     "showTitle": false,
     "tableResultSettingsMap": {},
     "title": ""
    }
   },
   "outputs": [],
   "source": [
    "user_logs = (user_logs\n",
    "             .withColumn('total_secs', F.when(F.col('total_secs')<0, 0)\n",
    "                         .when(F.col('total_secs')>2678400, 2678400)\n",
    "                         .otherwise(F.col('total_secs'))\n",
    "             )\n",
    ")\n",
    "user_logs.printSchema()"
   ]
  },
  {
   "cell_type": "code",
   "execution_count": 0,
   "metadata": {
    "application/vnd.databricks.v1+cell": {
     "cellMetadata": {
      "byteLimit": 2048000,
      "rowLimit": 10000
     },
     "inputWidgets": {},
     "nuid": "bc6694c3-b52a-4812-8372-9542dc44b399",
     "showTitle": false,
     "tableResultSettingsMap": {},
     "title": ""
    }
   },
   "outputs": [],
   "source": [
    "transactions = (transactions\n",
    "                .withColumn(\"payment_method_id\", F.col(\"payment_method_id\").cast(\"int\"))\n",
    "                .withColumn(\"payment_plan_days\", F.col(\"payment_plan_days\").cast(\"int\"))\n",
    "                .withColumn(\"plan_list_price\", F.col(\"plan_list_price\").cast(\"int\"))\n",
    "                .withColumn(\"actual_amount_paid\", F.col(\"actual_amount_paid\").cast(\"int\"))\n",
    "                .withColumn(\"is_auto_renew\", F.col(\"is_auto_renew\").cast(\"int\"))\n",
    "                .withColumn(\"transaction_date\", F.to_date(F.col(\"transaction_date\"), \"yyyyMMdd\"))\n",
    "                .withColumn(\"membership_expire_date\", F.to_date(F.col(\"membership_expire_date\"), \"yyyyMMdd\"))\n",
    "                .withColumn(\"is_cancel\", F.col(\"is_cancel\").cast(\"int\"))\n",
    "                )\n",
    "transactions.printSchema()"
   ]
  },
  {
   "cell_type": "code",
   "execution_count": 0,
   "metadata": {
    "application/vnd.databricks.v1+cell": {
     "cellMetadata": {
      "byteLimit": 2048000,
      "rowLimit": 10000
     },
     "inputWidgets": {},
     "nuid": "b3737ef4-6735-4987-b305-c2d894b474e1",
     "showTitle": false,
     "tableResultSettingsMap": {},
     "title": ""
    }
   },
   "outputs": [],
   "source": [
    "members = (members\n",
    "           .withColumn(\"safra\", F.col(\"safra\").cast(\"int\"))\n",
    "           .withColumn(\"registration_init_time\", F.to_date(F.col(\"registration_init_time\"), \"yyyyMMdd\"))\n",
    "           .withColumn(\"city\", F.col(\"city\").cast(\"int\"))\n",
    "           .withColumn(\"bd\", F.col(\"bd\").cast(\"int\"))\n",
    "           .withColumn(\"registered_via\", F.col(\"registered_via\").cast(\"int\"))\n",
    "           .withColumn(\"safra_init\", F.concat(F.substring(F.col(\"registration_init_time\"),0,4),F.substring(F.col(\"registration_init_time\"),6,2)).cast(\"int\"))\n",
    "           )\n",
    "members.printSchema()"
   ]
  },
  {
   "cell_type": "code",
   "execution_count": 0,
   "metadata": {
    "application/vnd.databricks.v1+cell": {
     "cellMetadata": {
      "byteLimit": 2048000,
      "rowLimit": 10000
     },
     "inputWidgets": {},
     "nuid": "28498fd7-66a7-4177-b731-73acea698d24",
     "showTitle": false,
     "tableResultSettingsMap": {},
     "title": ""
    }
   },
   "outputs": [],
   "source": [
    "# window = Window.partitionBy(\"msno\").orderBy(\"transaction_date\")\n",
    "\n",
    "# msno_target = (transactions\n",
    "#                 .withColumn(\"next_transaction\", F.lead(\"transaction_date\").over(window))\n",
    "#                 .withColumn(\"churn_window_end\", F.add_months(F.col(\"membership_expire_date\"), 3))\n",
    "#                 )\n",
    "\n",
    "# target = (msno_target.withColumn(\"target\", F.when(\n",
    "#     (F.col(\"next_transaction\").isNull()) |\n",
    "#     (F.col(\"next_transaction\") > F.col(\"churn_window_end\")) |\n",
    "#     (F.col(\"is_cancel\") == 1), 1).otherwise(0))\n",
    "#               )"
   ]
  },
  {
   "cell_type": "code",
   "execution_count": 0,
   "metadata": {
    "application/vnd.databricks.v1+cell": {
     "cellMetadata": {
      "byteLimit": 2048000,
      "rowLimit": 10000
     },
     "inputWidgets": {},
     "nuid": "601c6dbe-6232-4768-a4b5-ad1a0c52fb10",
     "showTitle": false,
     "tableResultSettingsMap": {},
     "title": ""
    }
   },
   "outputs": [],
   "source": [
    "window = Window.partitionBy(\"msno\").orderBy(\"transaction_date\")\n",
    "\n",
    "msno_target = (transactions\n",
    "                .withColumn(\"next_transaction\", F.lead(\"transaction_date\").over(window))\n",
    "                .withColumn(\"churn_window_end\", F.add_months(F.col(\"membership_expire_date\"), 3))\n",
    "                )\n",
    "\n",
    "target = (msno_target.withColumn(\"target\", F.when(\n",
    "    (F.col(\"next_transaction\").isNull()) |\n",
    "    (F.col(\"next_transaction\") > F.col(\"churn_window_end\")), 1).otherwise(0))\n",
    "              )"
   ]
  },
  {
   "cell_type": "code",
   "execution_count": 0,
   "metadata": {
    "application/vnd.databricks.v1+cell": {
     "cellMetadata": {
      "byteLimit": 2048000,
      "rowLimit": 10000
     },
     "inputWidgets": {},
     "nuid": "17dd72c8-1085-459d-be75-d6875e8aaf6e",
     "showTitle": false,
     "tableResultSettingsMap": {},
     "title": ""
    }
   },
   "outputs": [],
   "source": [
    "target.filter(F.col('target').isin(1)).select('msno', 'target', 'transaction_date', 'next_transaction', 'churn_window_end').display()"
   ]
  },
  {
   "cell_type": "code",
   "execution_count": 0,
   "metadata": {
    "application/vnd.databricks.v1+cell": {
     "cellMetadata": {
      "byteLimit": 2048000,
      "rowLimit": 10000
     },
     "inputWidgets": {},
     "nuid": "9041726b-1f36-4582-b7d4-34fdbce79ccd",
     "showTitle": false,
     "tableResultSettingsMap": {},
     "title": ""
    }
   },
   "outputs": [],
   "source": [
    "target.filter(F.col('msno').isin('++UrWpg7IekInPcWfxrDFdkYSS4saPUwYxrqcoirTbg=')).select('msno', 'target', 'transaction_date', 'next_transaction', 'churn_window_end').display()"
   ]
  },
  {
   "cell_type": "code",
   "execution_count": 0,
   "metadata": {
    "application/vnd.databricks.v1+cell": {
     "cellMetadata": {
      "byteLimit": 2048000,
      "rowLimit": 10000
     },
     "inputWidgets": {},
     "nuid": "0f1012f9-a4ef-422f-b87f-b835534093da",
     "showTitle": false,
     "tableResultSettingsMap": {},
     "title": ""
    }
   },
   "outputs": [],
   "source": [
    "target.filter(F.col('msno').isin('++ZahLG+SvfBCljmIaj/KNOo4/ueRqnvLi2/gARCdLs=')).select('msno', 'target', 'transaction_date', 'next_transaction', 'churn_window_end').display()"
   ]
  },
  {
   "cell_type": "code",
   "execution_count": 0,
   "metadata": {
    "application/vnd.databricks.v1+cell": {
     "cellMetadata": {
      "byteLimit": 2048000,
      "rowLimit": 10000
     },
     "inputWidgets": {},
     "nuid": "a1df36a4-10f4-4120-ab8b-bf77dda67db1",
     "showTitle": false,
     "tableResultSettingsMap": {},
     "title": ""
    }
   },
   "outputs": [],
   "source": [
    "#VERSÃO OFICIAL\n",
    "base_final_target = ((target.join(user_logs, on=['msno', 'safra'], how='left')\n",
    "                    .join(members.drop('safra'), on=['msno'], how='left')\n",
    "                    ).filter(F.col('safra').between(201501, 201611))\n",
    "                    .filter(F.col('is_ativo').isin(1))\n",
    "                    .drop(*['next_transaction', 'churn_window_end'])).dropDuplicates()\n",
    "base_final_target"
   ]
  },
  {
   "cell_type": "code",
   "execution_count": 0,
   "metadata": {
    "application/vnd.databricks.v1+cell": {
     "cellMetadata": {
      "byteLimit": 2048000,
      "rowLimit": 10000
     },
     "inputWidgets": {},
     "nuid": "cbd953a2-1f21-4858-a406-f67564fe7a44",
     "showTitle": false,
     "tableResultSettingsMap": {},
     "title": ""
    }
   },
   "outputs": [],
   "source": [
    "# #VERSÃO V2\n",
    "# base_final_target = ((target.join(user_logs, on=['msno', 'safra'], how='left')\n",
    "#                     .join(members.drop('safra'), on=['msno'], how='left')\n",
    "#                     ).filter(F.col('safra').between(201501, 201611))\n",
    "#                     .drop(*['next_transaction', 'churn_window_end'])).dropDuplicates()\n",
    "# base_final_target"
   ]
  },
  {
   "cell_type": "markdown",
   "metadata": {
    "application/vnd.databricks.v1+cell": {
     "cellMetadata": {
      "byteLimit": 2048000,
      "rowLimit": 10000
     },
     "inputWidgets": {},
     "nuid": "72a79da4-dfa9-4b5f-9beb-f88c3568fbbe",
     "showTitle": false,
     "tableResultSettingsMap": {},
     "title": ""
    }
   },
   "source": [
    "**Data Leakage**\n",
    "\n",
    "A variável is_cancel deve ser retirada da base, pois ela \"vaza\" informações da TARGET. \n",
    "\n",
    "is_ativo não é citado na documentação. Será excluída também."
   ]
  },
  {
   "cell_type": "markdown",
   "metadata": {
    "application/vnd.databricks.v1+cell": {
     "cellMetadata": {
      "byteLimit": 2048000,
      "rowLimit": 10000
     },
     "inputWidgets": {},
     "nuid": "0cfac355-abe1-43ca-80dc-f39bc8cecd04",
     "showTitle": false,
     "tableResultSettingsMap": {},
     "title": ""
    }
   },
   "source": [
    "# Análise da Base Final"
   ]
  },
  {
   "cell_type": "markdown",
   "metadata": {
    "application/vnd.databricks.v1+cell": {
     "cellMetadata": {
      "byteLimit": 2048000,
      "rowLimit": 10000
     },
     "inputWidgets": {},
     "nuid": "a3a24844-0a95-41bc-a8df-263b69dfbdd6",
     "showTitle": false,
     "tableResultSettingsMap": {},
     "title": ""
    }
   },
   "source": [
    "## Churn Geral"
   ]
  },
  {
   "cell_type": "code",
   "execution_count": 0,
   "metadata": {
    "application/vnd.databricks.v1+cell": {
     "cellMetadata": {
      "byteLimit": 2048000,
      "rowLimit": 10000
     },
     "inputWidgets": {},
     "nuid": "0ec9b4c4-66bb-4c8b-858a-b9cd9377305b",
     "showTitle": false,
     "tableResultSettingsMap": {},
     "title": ""
    }
   },
   "outputs": [],
   "source": [
    "base_final_target.groupBy('target').count().display()"
   ]
  },
  {
   "cell_type": "code",
   "execution_count": 0,
   "metadata": {
    "application/vnd.databricks.v1+cell": {
     "cellMetadata": {
      "byteLimit": 2048000,
      "rowLimit": 10000
     },
     "inputWidgets": {},
     "nuid": "89de5e2f-833c-4c68-9466-ab37b2a42c1c",
     "showTitle": false,
     "tableResultSettingsMap": {},
     "title": ""
    }
   },
   "outputs": [],
   "source": [
    "total_churn = base_final_target.filter(F.col('target') == 1).count()\n",
    "total_count = base_final_target.count()\n",
    "churn_rate = round((total_churn / total_count) * 100, 2)\n",
    "churn_rate"
   ]
  },
  {
   "cell_type": "code",
   "execution_count": 0,
   "metadata": {
    "application/vnd.databricks.v1+cell": {
     "cellMetadata": {
      "byteLimit": 2048000,
      "rowLimit": 10000
     },
     "inputWidgets": {},
     "nuid": "59516b52-81b3-4258-af58-a29b446b8393",
     "showTitle": false,
     "tableResultSettingsMap": {},
     "title": ""
    }
   },
   "outputs": [],
   "source": [
    "churn_safra = base_final_target.groupBy('safra').agg(F.round(F.avg(F.col('target')*100), 2).alias('churn_rate')).orderBy('safra')\n",
    "churn_safra_df = churn_safra.toPandas()\n",
    "churn_safra_df"
   ]
  },
  {
   "cell_type": "code",
   "execution_count": 0,
   "metadata": {
    "application/vnd.databricks.v1+cell": {
     "cellMetadata": {
      "byteLimit": 2048000,
      "rowLimit": 10000
     },
     "inputWidgets": {},
     "nuid": "a99bfe20-8769-40e6-a9e0-dd5977373a6f",
     "showTitle": false,
     "tableResultSettingsMap": {},
     "title": ""
    }
   },
   "outputs": [],
   "source": [
    "plt.figure(figsize=(10, 6))\n",
    "plt.bar([str(s) for s in churn_safra_df['safra']], churn_safra_df['churn_rate'], color='red')\n",
    "plt.xlabel('Safra')\n",
    "plt.ylabel('Churn Rate (%)')\n",
    "plt.title('Taxa de Churn por Safra')\n",
    "plt.xticks(rotation=45)\n",
    "plt.show()"
   ]
  },
  {
   "cell_type": "code",
   "execution_count": 0,
   "metadata": {
    "application/vnd.databricks.v1+cell": {
     "cellMetadata": {
      "byteLimit": 2048000,
      "rowLimit": 10000
     },
     "inputWidgets": {},
     "nuid": "faad2ce7-4d3a-40e2-b0e4-00466dc2e4aa",
     "showTitle": false,
     "tableResultSettingsMap": {},
     "title": ""
    }
   },
   "outputs": [],
   "source": [
    "plt.figure(figsize=(14, 8))\n",
    "bars = plt.bar([str(s) for s in churn_safra_df['safra']], churn_safra_df['churn_rate'], color='red')\n",
    "plt.xlabel('Safra')\n",
    "plt.ylabel('Churn Rate (%)')\n",
    "plt.title('Taxa de Churn por Safra')\n",
    "plt.xticks(rotation=45)\n",
    "\n",
    "for bar in bars:\n",
    "    height = bar.get_height()\n",
    "    plt.text(bar.get_x() + bar.get_width() / 2, height, f'{height:.1f}%', ha='center', va='bottom')\n",
    "\n",
    "plt.show()"
   ]
  },
  {
   "cell_type": "markdown",
   "metadata": {
    "application/vnd.databricks.v1+cell": {
     "cellMetadata": {
      "byteLimit": 2048000,
      "rowLimit": 10000
     },
     "inputWidgets": {},
     "nuid": "51e72057-7a3d-4264-a11d-e904f08dc5ab",
     "showTitle": false,
     "tableResultSettingsMap": {},
     "title": ""
    }
   },
   "source": [
    "## Churn Auto Renew"
   ]
  },
  {
   "cell_type": "code",
   "execution_count": 0,
   "metadata": {
    "application/vnd.databricks.v1+cell": {
     "cellMetadata": {
      "byteLimit": 2048000,
      "rowLimit": 10000
     },
     "inputWidgets": {},
     "nuid": "18b43f8c-c1e9-4d62-bf67-1ba593a6cce3",
     "showTitle": false,
     "tableResultSettingsMap": {},
     "title": ""
    }
   },
   "outputs": [],
   "source": [
    "is_auto_renew_rate = base_final_target.groupBy('safra').agg(F.round(F.avg(F.col('is_auto_renew')*100), 2).alias('is_auto_renew_rate')).orderBy('safra')\n",
    "is_auto_renew_rate = is_auto_renew_rate.toPandas()\n",
    "is_auto_renew_rate"
   ]
  },
  {
   "cell_type": "code",
   "execution_count": 0,
   "metadata": {
    "application/vnd.databricks.v1+cell": {
     "cellMetadata": {
      "byteLimit": 2048000,
      "rowLimit": 10000
     },
     "inputWidgets": {},
     "nuid": "0100d8db-a358-4692-92ae-6da037a4d5ee",
     "showTitle": false,
     "tableResultSettingsMap": {},
     "title": ""
    }
   },
   "outputs": [],
   "source": [
    "base_final_target.filter(F.col('is_auto_renew').isin(0)).groupBy('target').count().display()"
   ]
  },
  {
   "cell_type": "code",
   "execution_count": 0,
   "metadata": {
    "application/vnd.databricks.v1+cell": {
     "cellMetadata": {
      "byteLimit": 2048000,
      "rowLimit": 10000
     },
     "inputWidgets": {},
     "nuid": "ecd9aeba-c9d4-486c-934f-ce6639cea657",
     "showTitle": false,
     "tableResultSettingsMap": {},
     "title": ""
    }
   },
   "outputs": [],
   "source": [
    "total_churn = base_final_target.filter(F.col('target') == 1).filter(F.col('is_auto_renew').isin(0)).count()\n",
    "total_count = base_final_target.count()\n",
    "churn_rate = round((total_churn / total_count) * 100, 2)\n",
    "churn_rate"
   ]
  },
  {
   "cell_type": "code",
   "execution_count": 0,
   "metadata": {
    "application/vnd.databricks.v1+cell": {
     "cellMetadata": {
      "byteLimit": 2048000,
      "rowLimit": 10000
     },
     "inputWidgets": {},
     "nuid": "ed51a7e7-08e2-42ff-b2b0-9d3bceae73be",
     "showTitle": false,
     "tableResultSettingsMap": {},
     "title": ""
    }
   },
   "outputs": [],
   "source": [
    "base_final_target.filter(F.col('is_auto_renew').isin(1)).groupBy('target').count().display()"
   ]
  },
  {
   "cell_type": "code",
   "execution_count": 0,
   "metadata": {
    "application/vnd.databricks.v1+cell": {
     "cellMetadata": {
      "byteLimit": 2048000,
      "rowLimit": 10000
     },
     "inputWidgets": {},
     "nuid": "c9190b82-f1a7-4016-82c9-c50222a4b3c2",
     "showTitle": false,
     "tableResultSettingsMap": {},
     "title": ""
    }
   },
   "outputs": [],
   "source": [
    "total_churn = base_final_target.filter(F.col('target') == 1).filter(F.col('is_auto_renew').isin(1)).count()\n",
    "total_count = base_final_target.count()\n",
    "churn_rate = round((total_churn / total_count) * 100, 2)\n",
    "churn_rate"
   ]
  },
  {
   "cell_type": "code",
   "execution_count": 0,
   "metadata": {
    "application/vnd.databricks.v1+cell": {
     "cellMetadata": {
      "byteLimit": 2048000,
      "rowLimit": 10000
     },
     "inputWidgets": {},
     "nuid": "e9855999-824a-46e4-a5fa-c67e02d8a5c0",
     "showTitle": false,
     "tableResultSettingsMap": {},
     "title": ""
    }
   },
   "outputs": [],
   "source": [
    "churn_safra = base_final_target.filter(F.col('is_auto_renew').isin(0)).groupBy('safra').agg(F.round(F.avg(F.col('target')*100), 2).alias('churn_rate')).orderBy('safra')\n",
    "churn_safra_df = churn_safra.toPandas()\n",
    "churn_safra_df"
   ]
  },
  {
   "cell_type": "code",
   "execution_count": 0,
   "metadata": {
    "application/vnd.databricks.v1+cell": {
     "cellMetadata": {
      "byteLimit": 2048000,
      "rowLimit": 10000
     },
     "inputWidgets": {},
     "nuid": "75f64425-ac83-472e-aa75-c9e4221b9476",
     "showTitle": false,
     "tableResultSettingsMap": {},
     "title": ""
    }
   },
   "outputs": [],
   "source": [
    "plt.figure(figsize=(14, 8))\n",
    "bars = plt.bar([str(s) for s in churn_safra_df['safra']], churn_safra_df['churn_rate'], color='skyblue')\n",
    "plt.xlabel('Safra')\n",
    "plt.ylabel('Churn Rate (%)')\n",
    "plt.title('Taxa de Churn por Safra')\n",
    "plt.xticks(rotation=45)\n",
    "\n",
    "for bar in bars:\n",
    "    height = bar.get_height()\n",
    "    plt.text(bar.get_x() + bar.get_width() / 2, height, f'{height:.1f}%', ha='center', va='bottom')\n",
    "\n",
    "plt.show()"
   ]
  },
  {
   "cell_type": "code",
   "execution_count": 0,
   "metadata": {
    "application/vnd.databricks.v1+cell": {
     "cellMetadata": {
      "byteLimit": 2048000,
      "rowLimit": 10000
     },
     "inputWidgets": {},
     "nuid": "407b8d30-6b60-44da-ac49-08dbb864f626",
     "showTitle": false,
     "tableResultSettingsMap": {},
     "title": ""
    }
   },
   "outputs": [],
   "source": [
    "churn_safra = base_final_target.filter(F.col('is_auto_renew').isin(1)).groupBy('safra').agg(F.round(F.avg(F.col('target')*100), 2).alias('churn_rate')).orderBy('safra')\n",
    "churn_safra_df = churn_safra.toPandas()\n",
    "churn_safra_df"
   ]
  },
  {
   "cell_type": "code",
   "execution_count": 0,
   "metadata": {
    "application/vnd.databricks.v1+cell": {
     "cellMetadata": {
      "byteLimit": 2048000,
      "rowLimit": 10000
     },
     "inputWidgets": {},
     "nuid": "6160b5b5-46f2-4906-b299-36aca3266681",
     "showTitle": false,
     "tableResultSettingsMap": {},
     "title": ""
    }
   },
   "outputs": [],
   "source": [
    "plt.figure(figsize=(14, 8))\n",
    "bars = plt.bar([str(s) for s in churn_safra_df['safra']], churn_safra_df['churn_rate'], color='olivedrab')\n",
    "plt.xlabel('Safra')\n",
    "plt.ylabel('Churn Rate (%)')\n",
    "plt.title('Taxa de Churn por Safra')\n",
    "plt.xticks(rotation=45)\n",
    "\n",
    "for bar in bars:\n",
    "    height = bar.get_height()\n",
    "    plt.text(bar.get_x() + bar.get_width() / 2, height, f'{height:.1f}%', ha='center', va='bottom')\n",
    "\n",
    "plt.show()"
   ]
  },
  {
   "cell_type": "markdown",
   "metadata": {
    "application/vnd.databricks.v1+cell": {
     "cellMetadata": {
      "byteLimit": 2048000,
      "rowLimit": 10000
     },
     "inputWidgets": {},
     "nuid": "a1447b26-0306-4f4c-8411-6e1bf826125c",
     "showTitle": false,
     "tableResultSettingsMap": {},
     "title": ""
    }
   },
   "source": [
    "## Outras Análises"
   ]
  },
  {
   "cell_type": "code",
   "execution_count": 0,
   "metadata": {
    "application/vnd.databricks.v1+cell": {
     "cellMetadata": {
      "byteLimit": 2048000,
      "rowLimit": 10000
     },
     "inputWidgets": {},
     "nuid": "1704e5c8-9979-462b-ad6f-2a706b03c9bb",
     "showTitle": false,
     "tableResultSettingsMap": {},
     "title": ""
    }
   },
   "outputs": [],
   "source": [
    "base_final_target.groupby('safra').count().display()"
   ]
  },
  {
   "cell_type": "code",
   "execution_count": 0,
   "metadata": {
    "application/vnd.databricks.v1+cell": {
     "cellMetadata": {
      "byteLimit": 2048000,
      "rowLimit": 10000
     },
     "inputWidgets": {},
     "nuid": "cbedbd33-7eb4-4945-8882-24d1869568e4",
     "showTitle": false,
     "tableResultSettingsMap": {},
     "title": ""
    }
   },
   "outputs": [],
   "source": [
    "init_vars = ['payment_method_id',\n",
    " 'payment_plan_days',\n",
    " 'plan_list_price',\n",
    " 'actual_amount_paid',\n",
    " 'is_auto_renew',\n",
    " 'city',\n",
    " 'bd',\n",
    " 'gender',\n",
    " 'registered_via']"
   ]
  },
  {
   "cell_type": "code",
   "execution_count": 0,
   "metadata": {
    "application/vnd.databricks.v1+cell": {
     "cellMetadata": {
      "byteLimit": 2048000,
      "rowLimit": 10000
     },
     "inputWidgets": {},
     "nuid": "afb0d348-22ad-4805-8570-3a09a50fd75d",
     "showTitle": false,
     "tableResultSettingsMap": {},
     "title": ""
    }
   },
   "outputs": [],
   "source": [
    "for var in init_vars:\n",
    "    base_final_target.na.fill('Desconhecido').groupby(var).count().display()"
   ]
  },
  {
   "cell_type": "code",
   "execution_count": 0,
   "metadata": {
    "application/vnd.databricks.v1+cell": {
     "cellMetadata": {
      "byteLimit": 2048000,
      "rowLimit": 10000
     },
     "inputWidgets": {},
     "nuid": "cc008694-001c-4cbf-b34a-babadd11ac28",
     "showTitle": false,
     "tableResultSettingsMap": {},
     "title": ""
    }
   },
   "outputs": [],
   "source": [
    "null_vars = ['city',\n",
    "'bd',\n",
    "'gender',\n",
    "'registered_via']\n",
    "\n",
    "base_final_target_null = base_final_target\n",
    "\n",
    "for var in null_vars:\n",
    "    base_final_target_null = base_final_target_null.withColumn(var, F.when(F.col(var).isNull(), 'Desconhecido').otherwise(F.col(var)))"
   ]
  },
  {
   "cell_type": "code",
   "execution_count": 0,
   "metadata": {
    "application/vnd.databricks.v1+cell": {
     "cellMetadata": {
      "byteLimit": 2048000,
      "rowLimit": 10000
     },
     "inputWidgets": {},
     "nuid": "7f23d661-dd44-41f6-8729-2136a872ba63",
     "showTitle": false,
     "tableResultSettingsMap": {},
     "title": ""
    }
   },
   "outputs": [],
   "source": [
    "for var in null_vars:\n",
    "    base_final_target_null.groupby(var).count().display()"
   ]
  },
  {
   "cell_type": "markdown",
   "metadata": {
    "application/vnd.databricks.v1+cell": {
     "cellMetadata": {
      "byteLimit": 2048000,
      "rowLimit": 10000
     },
     "inputWidgets": {},
     "nuid": "833cd36a-15ed-4ae5-8e3b-19b344c9ef36",
     "showTitle": false,
     "tableResultSettingsMap": {},
     "title": ""
    }
   },
   "source": [
    "## Análises Base Final"
   ]
  },
  {
   "cell_type": "code",
   "execution_count": 0,
   "metadata": {
    "application/vnd.databricks.v1+cell": {
     "cellMetadata": {
      "byteLimit": 2048000,
      "rowLimit": 10000
     },
     "inputWidgets": {},
     "nuid": "9dbf55f4-b88f-4f24-90c7-b712981f9d36",
     "showTitle": false,
     "tableResultSettingsMap": {},
     "title": ""
    }
   },
   "outputs": [],
   "source": [
    "safra_aggroup(base_final_target_null, 'is_auto_renew', 'Is Auto Renew')"
   ]
  },
  {
   "cell_type": "markdown",
   "metadata": {
    "application/vnd.databricks.v1+cell": {
     "cellMetadata": {
      "byteLimit": 2048000,
      "rowLimit": 10000
     },
     "inputWidgets": {},
     "nuid": "edc1b6c5-8319-4e90-b858-eef70705e738",
     "showTitle": false,
     "tableResultSettingsMap": {},
     "title": ""
    }
   },
   "source": [
    "## Is_Ativo e Is_Cancel\n",
    "Ambos serão excluídos da base."
   ]
  },
  {
   "cell_type": "code",
   "execution_count": 0,
   "metadata": {
    "application/vnd.databricks.v1+cell": {
     "cellMetadata": {
      "byteLimit": 2048000,
      "rowLimit": 10000
     },
     "inputWidgets": {},
     "nuid": "6be528aa-5317-4cbc-bc88-24ba36b596fd",
     "showTitle": false,
     "tableResultSettingsMap": {},
     "title": ""
    }
   },
   "outputs": [],
   "source": [
    "data = base_final_target.groupby('is_ativo').count().toPandas()\n",
    "plt.bar(data['is_ativo'].astype(str), data['count'])\n",
    "plt.xlabel('is_ativo')\n",
    "plt.ylabel('Count')\n",
    "plt.title('Distribuição')\n",
    "plt.show()"
   ]
  },
  {
   "cell_type": "code",
   "execution_count": 0,
   "metadata": {
    "application/vnd.databricks.v1+cell": {
     "cellMetadata": {
      "byteLimit": 2048000,
      "rowLimit": 10000
     },
     "inputWidgets": {},
     "nuid": "9f090b54-48e1-43a4-8979-0f0046dba259",
     "showTitle": false,
     "tableResultSettingsMap": {},
     "title": ""
    }
   },
   "outputs": [],
   "source": [
    "data = base_final_target.groupby('is_cancel').count().toPandas()\n",
    "plt.bar(data['is_cancel'].astype(str), data['count'])\n",
    "plt.xlabel('is_cancel')\n",
    "plt.ylabel('Count')\n",
    "plt.title('Distribuição')\n",
    "plt.show()"
   ]
  },
  {
   "cell_type": "markdown",
   "metadata": {
    "application/vnd.databricks.v1+cell": {
     "cellMetadata": {
      "byteLimit": 2048000,
      "rowLimit": 10000
     },
     "inputWidgets": {},
     "nuid": "9db2fc2f-2bfc-47ef-b64f-51ee0ce1f2e3",
     "showTitle": false,
     "tableResultSettingsMap": {},
     "title": ""
    }
   },
   "source": [
    "Preciso avaliar quem vai fazer parte do público de Modelagem\n",
    "\n",
    "Avaliar:\n",
    "1. payment_plan_days == 0\n",
    "2. plan_list_price == 0 (Quem está usando o período grátis e quem pediu para cancelar e ganhou 3 meses grátis)\n",
    "3. actual_amount_paid == 0"
   ]
  },
  {
   "cell_type": "markdown",
   "metadata": {
    "application/vnd.databricks.v1+cell": {
     "cellMetadata": {
      "byteLimit": 2048000,
      "rowLimit": 10000
     },
     "inputWidgets": {},
     "nuid": "e199cd48-260d-43e2-9d24-a852540e8c0f",
     "showTitle": false,
     "tableResultSettingsMap": {},
     "title": ""
    }
   },
   "source": [
    "## payment_plan_days"
   ]
  },
  {
   "cell_type": "code",
   "execution_count": 0,
   "metadata": {
    "application/vnd.databricks.v1+cell": {
     "cellMetadata": {
      "byteLimit": 2048000,
      "rowLimit": 10000
     },
     "inputWidgets": {},
     "nuid": "a2b17154-ece9-4bf7-bf2f-e248faf0fc3d",
     "showTitle": false,
     "tableResultSettingsMap": {},
     "title": ""
    }
   },
   "outputs": [],
   "source": [
    "base_final_target.filter(F.col('payment_plan_days').isin(0)).groupBy('safra', 'target').count().display()"
   ]
  },
  {
   "cell_type": "code",
   "execution_count": 0,
   "metadata": {
    "application/vnd.databricks.v1+cell": {
     "cellMetadata": {
      "byteLimit": 2048000,
      "rowLimit": 10000
     },
     "inputWidgets": {},
     "nuid": "a34784f2-6175-4d1d-b7a7-2fb2ff33701c",
     "showTitle": false,
     "tableResultSettingsMap": {},
     "title": ""
    }
   },
   "outputs": [],
   "source": [
    "churn_safra = base_final_target.filter(F.col('payment_plan_days').isin(0)).groupBy('safra').agg(F.round(F.avg(F.col('target')*100), 2).alias('churn_rate')).orderBy('safra')\n",
    "churn_safra_df = churn_safra.toPandas()\n",
    "churn_safra_df"
   ]
  },
  {
   "cell_type": "code",
   "execution_count": 0,
   "metadata": {
    "application/vnd.databricks.v1+cell": {
     "cellMetadata": {
      "byteLimit": 2048000,
      "rowLimit": 10000
     },
     "inputWidgets": {},
     "nuid": "e6b19b3c-050e-48db-bf30-58e81308d5e1",
     "showTitle": false,
     "tableResultSettingsMap": {},
     "title": ""
    }
   },
   "outputs": [],
   "source": [
    "plt.figure(figsize=(14, 8))\n",
    "bars = plt.bar([str(s) for s in churn_safra_df['safra']], churn_safra_df['churn_rate'], color='olivedrab')\n",
    "plt.xlabel('Safra')\n",
    "plt.ylabel('Churn Rate (%)')\n",
    "plt.title('Taxa de Churn por Safra')\n",
    "plt.xticks(rotation=45)\n",
    "\n",
    "for bar in bars:\n",
    "    height = bar.get_height()\n",
    "    plt.text(bar.get_x() + bar.get_width() / 2, height, f'{height:.1f}%', ha='center', va='bottom')\n",
    "\n",
    "plt.show()"
   ]
  },
  {
   "cell_type": "markdown",
   "metadata": {
    "application/vnd.databricks.v1+cell": {
     "cellMetadata": {
      "byteLimit": 2048000,
      "rowLimit": 10000
     },
     "inputWidgets": {},
     "nuid": "1b67ff39-13ac-4f18-a5f3-70a13e8d682e",
     "showTitle": false,
     "tableResultSettingsMap": {},
     "title": ""
    }
   },
   "source": [
    "## plan_list_price"
   ]
  },
  {
   "cell_type": "code",
   "execution_count": 0,
   "metadata": {
    "application/vnd.databricks.v1+cell": {
     "cellMetadata": {
      "byteLimit": 2048000,
      "rowLimit": 10000
     },
     "inputWidgets": {},
     "nuid": "6d42f243-6603-494b-8790-b48c2939c15e",
     "showTitle": false,
     "tableResultSettingsMap": {},
     "title": ""
    }
   },
   "outputs": [],
   "source": [
    "base_final_target.filter(F.col('plan_list_price').isin(0)).groupBy('safra', 'target').count().display()"
   ]
  },
  {
   "cell_type": "code",
   "execution_count": 0,
   "metadata": {
    "application/vnd.databricks.v1+cell": {
     "cellMetadata": {
      "byteLimit": 2048000,
      "rowLimit": 10000
     },
     "inputWidgets": {},
     "nuid": "508d1e4b-14e6-407e-b8fd-5ea8d0835a12",
     "showTitle": false,
     "tableResultSettingsMap": {},
     "title": ""
    }
   },
   "outputs": [],
   "source": [
    "churn_safra = base_final_target.filter(F.col('plan_list_price').isin(0)).groupBy('safra').agg(F.round(F.avg(F.col('target')*100), 2).alias('churn_rate')).orderBy('safra')\n",
    "churn_safra_df = churn_safra.toPandas()\n",
    "churn_safra_df"
   ]
  },
  {
   "cell_type": "code",
   "execution_count": 0,
   "metadata": {
    "application/vnd.databricks.v1+cell": {
     "cellMetadata": {
      "byteLimit": 2048000,
      "rowLimit": 10000
     },
     "inputWidgets": {},
     "nuid": "c07034ca-ad82-4714-880f-90cb6d91ba6d",
     "showTitle": false,
     "tableResultSettingsMap": {},
     "title": ""
    }
   },
   "outputs": [],
   "source": [
    "plt.figure(figsize=(14, 8))\n",
    "bars = plt.bar([str(s) for s in churn_safra_df['safra']], churn_safra_df['churn_rate'], color='olivedrab')\n",
    "plt.xlabel('Safra')\n",
    "plt.ylabel('Churn Rate (%)')\n",
    "plt.title('Taxa de Churn por Safra')\n",
    "plt.xticks(rotation=45)\n",
    "\n",
    "for bar in bars:\n",
    "    height = bar.get_height()\n",
    "    plt.text(bar.get_x() + bar.get_width() / 2, height, f'{height:.1f}%', ha='center', va='bottom')\n",
    "\n",
    "plt.show()"
   ]
  },
  {
   "cell_type": "markdown",
   "metadata": {
    "application/vnd.databricks.v1+cell": {
     "cellMetadata": {
      "byteLimit": 2048000,
      "rowLimit": 10000
     },
     "inputWidgets": {},
     "nuid": "482bbbed-d798-4466-bcf5-e070e15bbd1c",
     "showTitle": false,
     "tableResultSettingsMap": {},
     "title": ""
    }
   },
   "source": [
    "## actual_amount_paid"
   ]
  },
  {
   "cell_type": "code",
   "execution_count": 0,
   "metadata": {
    "application/vnd.databricks.v1+cell": {
     "cellMetadata": {
      "byteLimit": 2048000,
      "rowLimit": 10000
     },
     "inputWidgets": {},
     "nuid": "3d43ba23-8717-4b1a-8926-c476df69c0ee",
     "showTitle": false,
     "tableResultSettingsMap": {},
     "title": ""
    }
   },
   "outputs": [],
   "source": [
    "base_final_target.filter(F.col('actual_amount_paid').isin(0)).groupBy('safra', 'target').count().display()"
   ]
  },
  {
   "cell_type": "code",
   "execution_count": 0,
   "metadata": {
    "application/vnd.databricks.v1+cell": {
     "cellMetadata": {
      "byteLimit": 2048000,
      "rowLimit": 10000
     },
     "inputWidgets": {},
     "nuid": "e865025b-fbe3-4e19-b779-c30607868a96",
     "showTitle": false,
     "tableResultSettingsMap": {},
     "title": ""
    }
   },
   "outputs": [],
   "source": [
    "churn_safra = base_final_target.filter(F.col('actual_amount_paid').isin(0)).groupBy('safra').agg(F.round(F.avg(F.col('target')*100), 2).alias('churn_rate')).orderBy('safra')\n",
    "churn_safra_df = churn_safra.toPandas()\n",
    "churn_safra_df"
   ]
  },
  {
   "cell_type": "code",
   "execution_count": 0,
   "metadata": {
    "application/vnd.databricks.v1+cell": {
     "cellMetadata": {
      "byteLimit": 2048000,
      "rowLimit": 10000
     },
     "inputWidgets": {},
     "nuid": "d5e8901f-aceb-476b-a907-dfd0c039c191",
     "showTitle": false,
     "tableResultSettingsMap": {},
     "title": ""
    }
   },
   "outputs": [],
   "source": [
    "plt.figure(figsize=(14, 8))\n",
    "bars = plt.bar([str(s) for s in churn_safra_df['safra']], churn_safra_df['churn_rate'], color='olivedrab')\n",
    "plt.xlabel('Safra')\n",
    "plt.ylabel('Churn Rate (%)')\n",
    "plt.title('Taxa de Churn por Safra')\n",
    "plt.xticks(rotation=45)\n",
    "\n",
    "for bar in bars:\n",
    "    height = bar.get_height()\n",
    "    plt.text(bar.get_x() + bar.get_width() / 2, height, f'{height:.1f}%', ha='center', va='bottom')\n",
    "\n",
    "plt.show()"
   ]
  },
  {
   "cell_type": "markdown",
   "metadata": {
    "application/vnd.databricks.v1+cell": {
     "cellMetadata": {
      "byteLimit": 2048000,
      "rowLimit": 10000
     },
     "inputWidgets": {},
     "nuid": "a1d60a16-6a23-4daf-b137-d51919230474",
     "showTitle": false,
     "tableResultSettingsMap": {},
     "title": ""
    }
   },
   "source": [
    "## Churn Ativo/Não Ativo"
   ]
  },
  {
   "cell_type": "code",
   "execution_count": 0,
   "metadata": {
    "application/vnd.databricks.v1+cell": {
     "cellMetadata": {
      "byteLimit": 2048000,
      "rowLimit": 10000
     },
     "inputWidgets": {},
     "nuid": "3df18b7a-010c-4372-98aa-24e13aee9157",
     "showTitle": false,
     "tableResultSettingsMap": {},
     "title": ""
    }
   },
   "outputs": [],
   "source": [
    "base_final_target = ((target.join(user_logs, on=['msno', 'safra'], how='left')\n",
    "                    .join(members.drop('safra'), on=['msno'], how='left')\n",
    "                    ).filter(F.col('safra').between(201501, 201611))\n",
    "                    .drop(*['next_transaction', 'churn_window_end'])).dropDuplicates()\n",
    "base_final_target"
   ]
  },
  {
   "cell_type": "code",
   "execution_count": 0,
   "metadata": {
    "application/vnd.databricks.v1+cell": {
     "cellMetadata": {
      "byteLimit": 2048000,
      "rowLimit": 10000
     },
     "inputWidgets": {},
     "nuid": "98ffe9ec-619c-4dde-adee-913fac7387e6",
     "showTitle": false,
     "tableResultSettingsMap": {},
     "title": ""
    }
   },
   "outputs": [],
   "source": [
    "safra_aggroup(base_final_target.filter(F.col('is_ativo').isNotNull()), 'is_ativo', 'Is Ativo')"
   ]
  },
  {
   "cell_type": "code",
   "execution_count": 0,
   "metadata": {
    "application/vnd.databricks.v1+cell": {
     "cellMetadata": {
      "byteLimit": 2048000,
      "rowLimit": 10000
     },
     "inputWidgets": {},
     "nuid": "1a522773-c245-4681-845c-36916fb37b69",
     "showTitle": false,
     "tableResultSettingsMap": {},
     "title": ""
    }
   },
   "outputs": [],
   "source": [
    "churn_safra = base_final_target.groupBy('safra').agg(F.round(F.avg(F.col('target')*100), 2).alias('churn_rate')).orderBy('safra')\n",
    "churn_safra_df = churn_safra.toPandas()\n",
    "churn_safra_df"
   ]
  },
  {
   "cell_type": "code",
   "execution_count": 0,
   "metadata": {
    "application/vnd.databricks.v1+cell": {
     "cellMetadata": {
      "byteLimit": 2048000,
      "rowLimit": 10000
     },
     "inputWidgets": {},
     "nuid": "5e9bec93-64e8-41da-924c-1b67c6498017",
     "showTitle": false,
     "tableResultSettingsMap": {},
     "title": ""
    }
   },
   "outputs": [],
   "source": [
    "plt.figure(figsize=(14, 8))\n",
    "bars = plt.bar([str(s) for s in churn_safra_df['safra']], churn_safra_df['churn_rate'], color='olivedrab')\n",
    "plt.xlabel('Safra')\n",
    "plt.ylabel('Churn Rate (%)')\n",
    "plt.title('Taxa de Churn por Safra')\n",
    "plt.xticks(rotation=45)\n",
    "\n",
    "for bar in bars:\n",
    "    height = bar.get_height()\n",
    "    plt.text(bar.get_x() + bar.get_width() / 2, height, f'{height:.1f}%', ha='center', va='bottom')\n",
    "\n",
    "plt.show()"
   ]
  },
  {
   "cell_type": "code",
   "execution_count": 0,
   "metadata": {
    "application/vnd.databricks.v1+cell": {
     "cellMetadata": {
      "byteLimit": 2048000,
      "rowLimit": 10000
     },
     "inputWidgets": {},
     "nuid": "b14d75bd-5581-4932-874f-590613462cb1",
     "showTitle": false,
     "tableResultSettingsMap": {},
     "title": ""
    }
   },
   "outputs": [],
   "source": [
    "churn_safra = base_final_target.filter(F.col('is_ativo').isin(0)).groupBy('safra').agg(F.round(F.avg(F.col('target')*100), 2).alias('churn_rate')).orderBy('safra')\n",
    "churn_safra_df = churn_safra.toPandas()\n",
    "churn_safra_df"
   ]
  },
  {
   "cell_type": "code",
   "execution_count": 0,
   "metadata": {
    "application/vnd.databricks.v1+cell": {
     "cellMetadata": {
      "byteLimit": 2048000,
      "rowLimit": 10000
     },
     "inputWidgets": {},
     "nuid": "c6cf04c2-9de7-4fef-9254-9f9c61e18e39",
     "showTitle": false,
     "tableResultSettingsMap": {},
     "title": ""
    }
   },
   "outputs": [],
   "source": [
    "plt.figure(figsize=(14, 8))\n",
    "bars = plt.bar([str(s) for s in churn_safra_df['safra']], churn_safra_df['churn_rate'], color='olivedrab')\n",
    "plt.xlabel('Safra')\n",
    "plt.ylabel('Churn Rate (%)')\n",
    "plt.title('Taxa de Churn por Safra')\n",
    "plt.xticks(rotation=45)\n",
    "\n",
    "for bar in bars:\n",
    "    height = bar.get_height()\n",
    "    plt.text(bar.get_x() + bar.get_width() / 2, height, f'{height:.1f}%', ha='center', va='bottom')\n",
    "\n",
    "plt.show()"
   ]
  },
  {
   "cell_type": "code",
   "execution_count": 0,
   "metadata": {
    "application/vnd.databricks.v1+cell": {
     "cellMetadata": {
      "byteLimit": 2048000,
      "rowLimit": 10000
     },
     "inputWidgets": {},
     "nuid": "8c81b747-1609-4a9b-84af-9c954bbc81dd",
     "showTitle": false,
     "tableResultSettingsMap": {},
     "title": ""
    }
   },
   "outputs": [],
   "source": [
    "churn_safra = base_final_target.filter(F.col('is_ativo').isin(1)).groupBy('safra').agg(F.round(F.avg(F.col('target')*100), 2).alias('churn_rate')).orderBy('safra')\n",
    "churn_safra_df = churn_safra.toPandas()\n",
    "churn_safra_df"
   ]
  },
  {
   "cell_type": "code",
   "execution_count": 0,
   "metadata": {
    "application/vnd.databricks.v1+cell": {
     "cellMetadata": {
      "byteLimit": 2048000,
      "rowLimit": 10000
     },
     "inputWidgets": {},
     "nuid": "e6e8115e-d7f5-4a2e-bcab-0d5218c0d4be",
     "showTitle": false,
     "tableResultSettingsMap": {},
     "title": ""
    }
   },
   "outputs": [],
   "source": [
    "plt.figure(figsize=(14, 8))\n",
    "bars = plt.bar([str(s) for s in churn_safra_df['safra']], churn_safra_df['churn_rate'], color='olivedrab')\n",
    "plt.xlabel('Safra')\n",
    "plt.ylabel('Churn Rate (%)')\n",
    "plt.title('Taxa de Churn por Safra')\n",
    "plt.xticks(rotation=45)\n",
    "\n",
    "for bar in bars:\n",
    "    height = bar.get_height()\n",
    "    plt.text(bar.get_x() + bar.get_width() / 2, height, f'{height:.1f}%', ha='center', va='bottom')\n",
    "\n",
    "plt.show()"
   ]
  },
  {
   "cell_type": "markdown",
   "metadata": {
    "application/vnd.databricks.v1+cell": {
     "cellMetadata": {
      "byteLimit": 2048000,
      "rowLimit": 10000
     },
     "inputWidgets": {},
     "nuid": "1ce8cf07-6f2d-4693-bc96-acefe25133ca",
     "showTitle": false,
     "tableResultSettingsMap": {},
     "title": ""
    }
   },
   "source": [
    "# Salvar Base"
   ]
  },
  {
   "cell_type": "code",
   "execution_count": 0,
   "metadata": {
    "application/vnd.databricks.v1+cell": {
     "cellMetadata": {
      "byteLimit": 2048000,
      "rowLimit": 10000
     },
     "inputWidgets": {},
     "nuid": "6c5e3c5c-4e1a-4944-961b-434c820255db",
     "showTitle": false,
     "tableResultSettingsMap": {},
     "title": ""
    }
   },
   "outputs": [],
   "source": [
    "drop_vars = ['is_ativo', 'is_cancel']"
   ]
  },
  {
   "cell_type": "code",
   "execution_count": 0,
   "metadata": {
    "application/vnd.databricks.v1+cell": {
     "cellMetadata": {
      "byteLimit": 2048000,
      "rowLimit": 10000
     },
     "inputWidgets": {},
     "nuid": "d5425f5c-ee74-4224-8143-cd959d65967b",
     "showTitle": false,
     "tableResultSettingsMap": {},
     "title": ""
    }
   },
   "outputs": [],
   "source": [
    "# VERSÃO OFICIAL\n",
    "# base_final_target_null.drop(*drop_vars).write.mode(\"overwrite\").saveAsTable('sand_riscos_pm_pf.T789778_spine_target_dm')\n",
    "print('sand_riscos_pm_pf.T789778_spine_target_dm')"
   ]
  },
  {
   "cell_type": "code",
   "execution_count": 0,
   "metadata": {
    "application/vnd.databricks.v1+cell": {
     "cellMetadata": {
      "byteLimit": 2048000,
      "rowLimit": 10000
     },
     "inputWidgets": {},
     "nuid": "a7eec68c-3e2e-4210-af14-1202f50ed45b",
     "showTitle": false,
     "tableResultSettingsMap": {},
     "title": ""
    }
   },
   "outputs": [],
   "source": [
    "# #VERSÃO V2\n",
    "# base_final_target_null.write.mode(\"overwrite\").saveAsTable('sand_riscos_pm_pf.T789778_spine_target_dm_v2')\n",
    "print('sand_riscos_pm_pf.T789778_spine_target_dm_v2')"
   ]
  },
  {
   "cell_type": "code",
   "execution_count": 0,
   "metadata": {
    "application/vnd.databricks.v1+cell": {
     "cellMetadata": {
      "byteLimit": 2048000,
      "rowLimit": 10000
     },
     "inputWidgets": {},
     "nuid": "c761dcc3-f473-4fb5-b4d6-0c6e04ccba6d",
     "showTitle": false,
     "tableResultSettingsMap": {},
     "title": ""
    }
   },
   "outputs": [],
   "source": [
    "#VERSÃO V2\n",
    "base_final_target_null.write.mode(\"overwrite\").saveAsTable('sand_riscos_pm_pf.T789778_spine_target_dm_v3')\n",
    "print('sand_riscos_pm_pf.T789778_spine_target_dm_v3')"
   ]
  }
 ],
 "metadata": {
  "application/vnd.databricks.v1+notebook": {
   "computePreferences": null,
   "dashboards": [],
   "environmentMetadata": {
    "base_environment": "",
    "environment_version": "1"
   },
   "inputWidgetPreferences": null,
   "language": "python",
   "notebookMetadata": {
    "pythonIndentUnit": 4
   },
   "notebookName": "01.Target_EDA",
   "widgets": {}
  },
  "language_info": {
   "name": "python"
  }
 },
 "nbformat": 4,
 "nbformat_minor": 0
}
