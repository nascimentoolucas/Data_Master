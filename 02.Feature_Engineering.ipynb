{
 "cells": [
  {
   "cell_type": "markdown",
   "metadata": {
    "application/vnd.databricks.v1+cell": {
     "cellMetadata": {
      "byteLimit": 2048000,
      "rowLimit": 10000
     },
     "inputWidgets": {},
     "nuid": "6174ec0d-222c-484f-ae74-c6943537dfef",
     "showTitle": false,
     "tableResultSettingsMap": {},
     "title": ""
    }
   },
   "source": [
    "## Imports"
   ]
  },
  {
   "cell_type": "code",
   "execution_count": 0,
   "metadata": {
    "application/vnd.databricks.v1+cell": {
     "cellMetadata": {
      "byteLimit": 2048000,
      "rowLimit": 10000
     },
     "inputWidgets": {},
     "nuid": "bf82305e-107a-4fff-bab3-508fbbd4aa0e",
     "showTitle": false,
     "tableResultSettingsMap": {},
     "title": ""
    }
   },
   "outputs": [],
   "source": [
    "import matplotlib.pyplot as plt\n",
    "import numpy as np\n",
    "import pandas as pd\n",
    "import pyspark\n",
    "import pyspark.sql.functions as F\n",
    "from pyspark.sql.window import Window\n",
    "from pyspark.sql.types import *\n",
    "from pyspark.sql import DataFrame,SparkSession"
   ]
  },
  {
   "cell_type": "markdown",
   "metadata": {
    "application/vnd.databricks.v1+cell": {
     "cellMetadata": {
      "byteLimit": 2048000,
      "rowLimit": 10000
     },
     "inputWidgets": {},
     "nuid": "694526ac-9a95-4775-bd40-a0acfe915926",
     "showTitle": false,
     "tableResultSettingsMap": {},
     "title": ""
    }
   },
   "source": [
    "## Spine Inicial"
   ]
  },
  {
   "cell_type": "code",
   "execution_count": 0,
   "metadata": {
    "application/vnd.databricks.v1+cell": {
     "cellMetadata": {
      "byteLimit": 2048000,
      "rowLimit": 10000
     },
     "inputWidgets": {},
     "nuid": "5cb2f594-a9b4-4748-814c-c8ca57177d2d",
     "showTitle": false,
     "tableResultSettingsMap": {},
     "title": ""
    }
   },
   "outputs": [],
   "source": [
    "base = (spark.table('sand_riscos_pm_pf.T789778_spine_target_dm_v3')\n",
    "        #.filter(~F.col('plan_list_price').isin(0))\n",
    "        .filter(~F.col('actual_amount_paid').isin(0))\n",
    "        .filter(~F.col('payment_plan_days').isin(0))\n",
    "        )\n",
    "base"
   ]
  },
  {
   "cell_type": "markdown",
   "metadata": {
    "application/vnd.databricks.v1+cell": {
     "cellMetadata": {
      "byteLimit": 2048000,
      "rowLimit": 10000
     },
     "inputWidgets": {},
     "nuid": "32d4d3d5-ceb9-4e09-93ae-bd999130111d",
     "showTitle": false,
     "tableResultSettingsMap": {},
     "title": ""
    }
   },
   "source": [
    "## Construção de Variáveis de Janelas Temporais"
   ]
  },
  {
   "cell_type": "code",
   "execution_count": 0,
   "metadata": {
    "application/vnd.databricks.v1+cell": {
     "cellMetadata": {
      "byteLimit": 2048000,
      "rowLimit": 10000
     },
     "inputWidgets": {},
     "nuid": "32006f55-cb88-4b41-b576-8d55a06f3a82",
     "showTitle": false,
     "tableResultSettingsMap": {},
     "title": ""
    }
   },
   "outputs": [],
   "source": [
    "base = (base\n",
    "       .withColumn('interaction', F.col(\"num_25\") + F.col(\"num_50\") + F.col(\"num_75\") + F.col(\"num_985\") + F.col(\"num_100\") + F.col(\"num_unq\"))\n",
    "       .withColumn('avg_music_time', F.round(F.col('total_secs')/F.col('interaction'),2))\n",
    "       .withColumn('completion_rate_25', F.round((F.col('num_25')*(.25)/ F.col('avg_music_time'))*100,2))\n",
    "       .withColumn('completion_rate_50', F.round((F.col('num_50')*(.50)/ F.col('avg_music_time'))*100,2))\n",
    "       .withColumn('completion_rate_75', F.round((F.col('num_75')*(.75)/ F.col('avg_music_time'))*100,2))\n",
    "       .withColumn('completion_rate_985', F.round((F.col('num_985')*(.985)/ F.col('avg_music_time'))*100,2))\n",
    "       .withColumn('completion_rate_100', F.round((F.col('num_100')/ F.col('avg_music_time'))*100,2))\n",
    "       .withColumn(\"repeat_rate\",  F.round((F.col(\"interaction\") - F.col(\"num_unq\")) / F.col('interaction')*100,2))\n",
    "       .withColumn(\"diversity_score\", F.round(F.col('num_unq')/F.col('interaction')*100,2))\n",
    "       .withColumn(\"low_intensity_score\", F.round(F.col(\"num_25\") / F.col('interaction')*100,2))\n",
    "       .withColumn(\"medium_intensity_score\", F.round((F.col(\"num_50\")+F.col(\"num_75\")) / F.col('interaction')*100,2))\n",
    "       .withColumn(\"hight_intensity_score\", F.round((F.col(\"num_100\")+F.col(\"num_985\")) / F.col('interaction')*100,2))\n",
    "       )"
   ]
  },
  {
   "cell_type": "code",
   "execution_count": 0,
   "metadata": {
    "application/vnd.databricks.v1+cell": {
     "cellMetadata": {
      "byteLimit": 2048000,
      "rowLimit": 10000
     },
     "inputWidgets": {},
     "nuid": "eac44128-4629-4b64-8771-7c077f61a221",
     "showTitle": false,
     "tableResultSettingsMap": {},
     "title": ""
    }
   },
   "outputs": [],
   "source": [
    "#Janelas Temporais\n",
    "window_2_months = Window.partitionBy(\"msno\").orderBy(\"safra_date\").rowsBetween(-2, -1)\n",
    "window_3_months = Window.partitionBy(\"msno\").orderBy(\"safra_date\").rowsBetween(-3, -1)\n",
    "window_4_months = Window.partitionBy(\"msno\").orderBy(\"safra_date\").rowsBetween(-4, -1)"
   ]
  },
  {
   "cell_type": "code",
   "execution_count": 0,
   "metadata": {
    "application/vnd.databricks.v1+cell": {
     "cellMetadata": {
      "byteLimit": 2048000,
      "rowLimit": 10000
     },
     "inputWidgets": {},
     "nuid": "7282e17f-e255-4a63-9b49-b22182c68c0f",
     "showTitle": false,
     "tableResultSettingsMap": {},
     "title": ""
    }
   },
   "outputs": [],
   "source": [
    "profile_members = [\"num_25\", \"num_50\", \"num_75\", \"num_985\", \"num_100\", \"num_unq\", \"total_secs\",\n",
    "'interaction',\n",
    "'avg_music_time',\n",
    "'completion_rate_25',\n",
    "'completion_rate_50',\n",
    "'completion_rate_75',\n",
    "'completion_rate_985',\n",
    "'completion_rate_100',\n",
    "'diversity_score',\n",
    "'repeat_rate',\n",
    "'low_intensity_score',\n",
    "'medium_intensity_score',\n",
    "'hight_intensity_score',\n",
    "'plan_list_price', 'actual_amount_paid']"
   ]
  },
  {
   "cell_type": "code",
   "execution_count": 0,
   "metadata": {
    "application/vnd.databricks.v1+cell": {
     "cellMetadata": {
      "byteLimit": 2048000,
      "rowLimit": 10000
     },
     "inputWidgets": {},
     "nuid": "1f1f0cb8-9e9a-4c9b-ab6f-dce4b227ed76",
     "showTitle": false,
     "tableResultSettingsMap": {},
     "title": ""
    }
   },
   "outputs": [],
   "source": [
    "for k in profile_members:\n",
    "    base.select(k).describe().display()"
   ]
  },
  {
   "cell_type": "code",
   "execution_count": 0,
   "metadata": {
    "application/vnd.databricks.v1+cell": {
     "cellMetadata": {
      "byteLimit": 2048000,
      "rowLimit": 10000
     },
     "inputWidgets": {},
     "nuid": "976c40a2-a5d7-4406-93d9-43fa1aca91a0",
     "showTitle": false,
     "tableResultSettingsMap": {},
     "title": ""
    }
   },
   "outputs": [],
   "source": [
    "base = base.withColumn(\"safra_date\", F.to_date(F.concat(F.col(\"safra\").cast(\"string\").substr(1, 4), F.lit(\"-\"), F.col(\"safra\").cast(\"string\").substr(5, 2), F.lit(\"-01\")), \"yyyy-MM-dd\"))\n",
    "\n",
    "#Aplicar Janelas Temporais\n",
    "for col in profile_members:\n",
    "    base = base \\\n",
    "        .withColumn(f\"{col}_min_2m\", F.min(col).over(window_2_months)) \\\n",
    "        .withColumn(f\"{col}_max_2m\", F.max(col).over(window_2_months)) \\\n",
    "        .withColumn(f\"{col}_avg_2m\", F.avg(col).over(window_2_months)) \\\n",
    "        .withColumn(f\"{col}_median_2m\", F.expr(f\"percentile_approx({col}, 0.5)\").over(window_2_months)) \\\n",
    "        .withColumn(f\"{col}_min_3m\", F.min(col).over(window_3_months)) \\\n",
    "        .withColumn(f\"{col}_max_3m\", F.max(col).over(window_3_months)) \\\n",
    "        .withColumn(f\"{col}_avg_3m\", F.avg(col).over(window_3_months)) \\\n",
    "        .withColumn(f\"{col}_median_3m\", F.expr(f\"percentile_approx({col}, 0.5)\").over(window_3_months)) \\\n",
    "        .withColumn(f\"{col}_min_4m\", F.min(col).over(window_4_months)) \\\n",
    "        .withColumn(f\"{col}_max_4m\", F.max(col).over(window_4_months)) \\\n",
    "        .withColumn(f\"{col}_avg_4m\", F.avg(col).over(window_4_months)) \\\n",
    "        .withColumn(f\"{col}_median_4m\", F.expr(f\"percentile_approx({col}, 0.5)\").over(window_4_months))"
   ]
  },
  {
   "cell_type": "code",
   "execution_count": 0,
   "metadata": {
    "application/vnd.databricks.v1+cell": {
     "cellMetadata": {
      "byteLimit": 2048000,
      "rowLimit": 10000
     },
     "inputWidgets": {},
     "nuid": "ae943f1b-1b46-4749-ac49-c5b2c4e50222",
     "showTitle": false,
     "tableResultSettingsMap": {},
     "title": ""
    }
   },
   "outputs": [],
   "source": [
    "base = (base\n",
    "        .withColumn(\"safra_init_date\", F.to_date(F.concat(F.col(\"safra_init\").substr(1, 4), F.lit(\"-\"), F.col(\"safra_init\").substr(5, 2), F.lit(\"-01\")), \"yyyy-MM-dd\"))\n",
    "        .withColumn(\"account_time\", F.floor(F.months_between(\"safra_date\", \"safra_init_date\") / 12))\n",
    "        .withColumn(\"current_age\", F.col(\"bd\") + F.col(\"account_time\"))\n",
    "        .withColumn(\"age_group\",\n",
    "                   F.when((F.col(\"current_age\") >= 13) & (F.col(\"current_age\") <= 18), \"13-18\")\n",
    "                    .when((F.col(\"current_age\") >= 19) & (F.col(\"current_age\") <= 29), \"19-29\")\n",
    "                    .when((F.col(\"current_age\") >= 30) & (F.col(\"current_age\") <= 45), \"30-45\")\n",
    "                    .when((F.col(\"current_age\") >= 46) & (F.col(\"current_age\") <= 65), \"46-65\")\n",
    "                    .when((F.col(\"current_age\") >= 66) & (F.col(\"current_age\") <= 76), \"66-76\")\n",
    "                    .when((F.col(\"current_age\") >= 77) & (F.col(\"current_age\") <= 88), \"77-88\")\n",
    "                    .otherwise(\"Desconhecido\")\n",
    "                )\n",
    "           )\n",
    "\n",
    "base = (base.withColumn(\"gender\", F.when(F.col(\"gender\").isin(\"male\"), F.lit(\"M\"))\n",
    "                    .when(F.col(\"gender\").isin(\"female\"), F.lit(\"F\"))\n",
    "                    .otherwise(F.lit(\"Desconhecido\"))\n",
    "        ))\n",
    "\n",
    "profile_change = [\"payment_method_id\", 'payment_plan_days', 'plan_list_price', 'is_auto_renew', 'city', 'actual_amount_paid', 'age_group', 'current_age', 'gender', 'account_time']\n",
    "\n",
    "for col in profile_change:\n",
    "    window_spec = Window.partitionBy(\"msno\").orderBy(\"safra_date\")\n",
    "\n",
    "    base = (base\n",
    "        .withColumn(f\"{col}_1m\", F.lag(col, 1).over(window_spec))\n",
    "        )"
   ]
  },
  {
   "cell_type": "code",
   "execution_count": 0,
   "metadata": {
    "application/vnd.databricks.v1+cell": {
     "cellMetadata": {
      "byteLimit": 2048000,
      "rowLimit": 10000
     },
     "inputWidgets": {},
     "nuid": "6ca7522d-a3b0-437a-a639-adedcb7045d4",
     "showTitle": false,
     "tableResultSettingsMap": {},
     "title": ""
    }
   },
   "outputs": [],
   "source": [
    "len(base.columns)"
   ]
  },
  {
   "cell_type": "markdown",
   "metadata": {
    "application/vnd.databricks.v1+cell": {
     "cellMetadata": {
      "byteLimit": 2048000,
      "rowLimit": 10000
     },
     "inputWidgets": {},
     "nuid": "fa67a9cd-d73e-4f06-b7bd-bdda10c576e6",
     "showTitle": false,
     "tableResultSettingsMap": {},
     "title": ""
    }
   },
   "source": [
    "## Excluir Variáveis - Data Leakage\n",
    "\n",
    "Como temos fechamentos mensais, o que queremos neste processo de modelagem é prever o chrun no mês atual usando variáveis de meses anteriores, pois não temos o fechamento do mês atual. Ou seja, para prever o churn de um usuário no mês 2021601, eu não terei as variáveis fechadas referentes a 201601, somente as variáveis anteriores a 201512 (<=201512).\n",
    "\n",
    "Basicamente, excluir variáveis do M0"
   ]
  },
  {
   "cell_type": "code",
   "execution_count": 0,
   "metadata": {
    "application/vnd.databricks.v1+cell": {
     "cellMetadata": {
      "byteLimit": 2048000,
      "rowLimit": 10000
     },
     "inputWidgets": {},
     "nuid": "ecbc903e-d7e7-469e-8c16-1dd867a38e9f",
     "showTitle": false,
     "tableResultSettingsMap": {},
     "title": ""
    }
   },
   "outputs": [],
   "source": [
    "drop = ['payment_method_id',\n",
    " 'payment_plan_days',\n",
    " 'plan_list_price',\n",
    " 'actual_amount_paid',\n",
    " 'is_auto_renew',\n",
    " 'transaction_date',\n",
    " 'membership_expire_date',\n",
    " 'is_cancel',\n",
    " 'num_25',\n",
    " 'num_50',\n",
    " 'num_75',\n",
    " 'num_985',\n",
    " 'num_100',\n",
    " 'num_unq',\n",
    " 'total_secs',\n",
    " 'registration_init_time',\n",
    " 'city',\n",
    " 'bd',\n",
    " 'gender',\n",
    " 'registered_via',\n",
    "#  'is_ativo',\n",
    " 'safra_init',\n",
    "  'safra_date']+profile_members+profile_change"
   ]
  },
  {
   "cell_type": "code",
   "execution_count": 0,
   "metadata": {
    "application/vnd.databricks.v1+cell": {
     "cellMetadata": {
      "byteLimit": 2048000,
      "rowLimit": 10000
     },
     "inputWidgets": {},
     "nuid": "a1907732-4e54-4e9d-bab9-edab12766ec7",
     "showTitle": false,
     "tableResultSettingsMap": {},
     "title": ""
    }
   },
   "outputs": [],
   "source": [
    "base_spine = base.drop(*drop)\n",
    "base_spine"
   ]
  },
  {
   "cell_type": "code",
   "execution_count": 0,
   "metadata": {
    "application/vnd.databricks.v1+cell": {
     "cellMetadata": {
      "byteLimit": 2048000,
      "rowLimit": 10000
     },
     "inputWidgets": {},
     "nuid": "87960de2-05ea-4f03-b873-e2ec4d0e7c18",
     "showTitle": false,
     "tableResultSettingsMap": {},
     "title": ""
    }
   },
   "outputs": [],
   "source": [
    "len(base_spine.columns)"
   ]
  },
  {
   "cell_type": "markdown",
   "metadata": {
    "application/vnd.databricks.v1+cell": {
     "cellMetadata": {
      "byteLimit": 2048000,
      "rowLimit": 10000
     },
     "inputWidgets": {},
     "nuid": "c51a69b5-b547-4950-99b5-51aeb2ce8863",
     "showTitle": false,
     "tableResultSettingsMap": {},
     "title": ""
    }
   },
   "source": [
    "## Variáveis Categóricas"
   ]
  },
  {
   "cell_type": "code",
   "execution_count": 0,
   "metadata": {
    "application/vnd.databricks.v1+cell": {
     "cellMetadata": {
      "byteLimit": 2048000,
      "rowLimit": 10000
     },
     "inputWidgets": {},
     "nuid": "68c65ac8-957a-4933-b59d-c55b4d15bb94",
     "showTitle": false,
     "tableResultSettingsMap": {},
     "title": ""
    }
   },
   "outputs": [],
   "source": [
    "init_vars = base_spine.columns\n",
    "init_vars.remove('msno')\n",
    "init_vars.remove('safra')\n",
    "init_vars.remove('safra_init_date')\n",
    "init_vars.remove('target')\n",
    "\n",
    "ident_vars = ['msno', 'safra']"
   ]
  },
  {
   "cell_type": "code",
   "execution_count": 0,
   "metadata": {
    "application/vnd.databricks.v1+cell": {
     "cellMetadata": {
      "byteLimit": 2048000,
      "rowLimit": 10000
     },
     "inputWidgets": {},
     "nuid": "16bc5eb7-5ccb-4074-ab79-4ee67add11c0",
     "showTitle": false,
     "tableResultSettingsMap": {},
     "title": ""
    }
   },
   "outputs": [],
   "source": [
    "base_spine = base_spine.withColumn('target', F.col('target').cast('int')).select(ident_vars+init_vars+['target'])"
   ]
  },
  {
   "cell_type": "code",
   "execution_count": 0,
   "metadata": {
    "application/vnd.databricks.v1+cell": {
     "cellMetadata": {
      "byteLimit": 2048000,
      "rowLimit": 10000
     },
     "inputWidgets": {},
     "nuid": "db9c4c51-75e7-4282-b97c-3f5e43efca77",
     "showTitle": false,
     "tableResultSettingsMap": {},
     "title": ""
    }
   },
   "outputs": [],
   "source": [
    "num_vars = [k for k in base_spine.columns if k.startswith('num_')]+[k for k in base_spine.columns if k.startswith('total')]+\\\n",
    " [k for k in base_spine.columns if k.startswith('completion')]+[k for k in base_spine.columns if k.startswith('repeat_')]+ \\\n",
    " [k for k in base_spine.columns if k.startswith('diversity')]+[k for k in base_spine.columns if k.startswith('intensity')]+ \\\n",
    " [k for k in base_spine.columns if k.startswith('plan_list')]+[k for k in base_spine.columns if k.startswith('actual_amount')]+ \\\n",
    " [k for k in base_spine.columns if k.startswith('payment_plan_days')]+ [k for k in base_spine.columns if k.startswith('account')]+ \\\n",
    " [k for k in base_spine.columns if k.startswith('plan_list_price')]\n",
    "\n",
    "\n",
    "categorical_columns = [k for k in base_spine.columns if k.startswith('payment_method')]+[k for k in base_spine.columns if k.startswith('city')]+\\\n",
    "[k for k in base_spine.columns if k.startswith('is_auto_renew')]+[k for k in base_spine.columns if k.startswith('age_group')]+[k for k in base_spine.columns if k.startswith('gender')]"
   ]
  },
  {
   "cell_type": "code",
   "execution_count": 0,
   "metadata": {
    "application/vnd.databricks.v1+cell": {
     "cellMetadata": {
      "byteLimit": 2048000,
      "rowLimit": 10000
     },
     "inputWidgets": {},
     "nuid": "f09974b7-4318-4c15-ac23-fb25102d81c5",
     "showTitle": false,
     "tableResultSettingsMap": {},
     "title": ""
    }
   },
   "outputs": [],
   "source": [
    "for var in categorical_columns:\n",
    "    base_spine.groupby(var).count().display()"
   ]
  },
  {
   "cell_type": "markdown",
   "metadata": {
    "application/vnd.databricks.v1+cell": {
     "cellMetadata": {
      "byteLimit": 2048000,
      "rowLimit": 10000
     },
     "inputWidgets": {},
     "nuid": "b80f0487-5fd7-4ed4-9600-854b5746956f",
     "showTitle": false,
     "tableResultSettingsMap": {},
     "title": ""
    }
   },
   "source": []
  },
  {
   "cell_type": "code",
   "execution_count": 0,
   "metadata": {
    "application/vnd.databricks.v1+cell": {
     "cellMetadata": {
      "byteLimit": 2048000,
      "rowLimit": 10000
     },
     "inputWidgets": {},
     "nuid": "d091b695-3232-41fc-bc43-45373fdef891",
     "showTitle": false,
     "tableResultSettingsMap": {},
     "title": ""
    }
   },
   "outputs": [],
   "source": [
    "for col in num_vars:\n",
    "  base_spine = base_spine.withColumn(col, F.when(F.col(col).isNull(), 0).otherwise(F.col(col)))\n",
    "  base_spine = base_spine.withColumn(col, F.col(col).cast(\"double\"))"
   ]
  },
  {
   "cell_type": "code",
   "execution_count": 0,
   "metadata": {
    "application/vnd.databricks.v1+cell": {
     "cellMetadata": {
      "byteLimit": 2048000,
      "rowLimit": 10000
     },
     "inputWidgets": {},
     "nuid": "93d532c9-2c66-4d85-9ab1-2b4ebc8e5d0d",
     "showTitle": false,
     "tableResultSettingsMap": {},
     "title": ""
    }
   },
   "outputs": [],
   "source": [
    "for col in categorical_columns:\n",
    "    base_spine = base_spine.withColumn(col, F.when(F.col(col).isNull(), 'Desconhecido').otherwise(F.col(col)))"
   ]
  },
  {
   "cell_type": "markdown",
   "metadata": {
    "application/vnd.databricks.v1+cell": {
     "cellMetadata": {
      "byteLimit": 2048000,
      "rowLimit": 10000
     },
     "inputWidgets": {},
     "nuid": "fa4c9141-5196-450f-8bf0-8baa4c731175",
     "showTitle": false,
     "tableResultSettingsMap": {},
     "title": ""
    }
   },
   "source": [
    "## Salvar Base"
   ]
  },
  {
   "cell_type": "code",
   "execution_count": 0,
   "metadata": {
    "application/vnd.databricks.v1+cell": {
     "cellMetadata": {
      "byteLimit": 2048000,
      "rowLimit": 10000
     },
     "inputWidgets": {},
     "nuid": "2b1f29c6-af9e-41b4-8d94-7a280d39c86f",
     "showTitle": false,
     "tableResultSettingsMap": {},
     "title": ""
    }
   },
   "outputs": [],
   "source": [
    "# #VERSÃO OFICIAL\n",
    "# spark.sql('drop table if exists sand_riscos_pm_pf.T789778_spine_final_variaveis_dm')\n",
    "# base_spine.write.mode(\"overwrite\").saveAsTable('sand_riscos_pm_pf.T789778_spine_final_variaveis_dm')\n",
    "# print('sand_riscos_pm_pf.T789778_spine_final_variaveis_dm')"
   ]
  },
  {
   "cell_type": "code",
   "execution_count": 0,
   "metadata": {
    "application/vnd.databricks.v1+cell": {
     "cellMetadata": {
      "byteLimit": 2048000,
      "rowLimit": 10000
     },
     "inputWidgets": {},
     "nuid": "86da54a2-ed05-4300-8c9d-7fa9be61a3bd",
     "showTitle": false,
     "tableResultSettingsMap": {},
     "title": ""
    }
   },
   "outputs": [],
   "source": [
    "#VERSÃO V2\n",
    "# spark.sql('drop table if exists sand_riscos_pm_pf.T789778_spine_final_variaveis_dm_v2')\n",
    "# base_spine.write.mode(\"overwrite\").saveAsTable('sand_riscos_pm_pf.T789778_spine_final_variaveis_dm_v2')\n",
    "print('sand_riscos_pm_pf.T789778_spine_final_variaveis_dm_v2')"
   ]
  },
  {
   "cell_type": "code",
   "execution_count": 0,
   "metadata": {
    "application/vnd.databricks.v1+cell": {
     "cellMetadata": {
      "byteLimit": 2048000,
      "rowLimit": 10000
     },
     "inputWidgets": {},
     "nuid": "3072de58-f3a3-4538-9ed4-480903a52250",
     "showTitle": false,
     "tableResultSettingsMap": {},
     "title": ""
    }
   },
   "outputs": [],
   "source": [
    "#VERSÃO V3\n",
    "spark.sql('drop table if exists sand_riscos_pm_pf.T789778_spine_final_variaveis_dm_v3')\n",
    "base_spine.write.mode(\"overwrite\").saveAsTable('sand_riscos_pm_pf.T789778_spine_final_variaveis_dm_v3')\n",
    "print('sand_riscos_pm_pf.T789778_spine_final_variaveis_dm_v3')"
   ]
  }
 ],
 "metadata": {
  "application/vnd.databricks.v1+notebook": {
   "computePreferences": null,
   "dashboards": [],
   "environmentMetadata": {
    "base_environment": "",
    "environment_version": "1"
   },
   "inputWidgetPreferences": null,
   "language": "python",
   "notebookMetadata": {
    "pythonIndentUnit": 4
   },
   "notebookName": "02.Feature_Engineering",
   "widgets": {}
  },
  "language_info": {
   "name": "python"
  }
 },
 "nbformat": 4,
 "nbformat_minor": 0
}
