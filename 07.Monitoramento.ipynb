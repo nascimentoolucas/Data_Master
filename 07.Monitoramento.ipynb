{
 "cells": [
  {
   "cell_type": "markdown",
   "metadata": {
    "application/vnd.databricks.v1+cell": {
     "cellMetadata": {},
     "inputWidgets": {},
     "nuid": "b847ab47-a50b-4df7-8689-13c62dc046b6",
     "showTitle": false,
     "tableResultSettingsMap": {},
     "title": ""
    }
   },
   "source": [
    "## Imports"
   ]
  },
  {
   "cell_type": "code",
   "execution_count": 0,
   "metadata": {
    "application/vnd.databricks.v1+cell": {
     "cellMetadata": {
      "byteLimit": 2048000,
      "rowLimit": 10000
     },
     "inputWidgets": {},
     "nuid": "033499f8-eb97-419e-8004-861a110f8a46",
     "showTitle": false,
     "tableResultSettingsMap": {},
     "title": ""
    }
   },
   "outputs": [],
   "source": [
    "import matplotlib.pyplot as plt\n",
    "import numpy as np\n",
    "import pandas as pd\n",
    "import pyspark\n",
    "import pyspark.sql.functions as F\n",
    "from pyspark.sql.window import Window\n",
    "from pyspark.sql.types import *\n",
    "from pyspark.sql import DataFrame,SparkSession"
   ]
  },
  {
   "cell_type": "markdown",
   "metadata": {
    "application/vnd.databricks.v1+cell": {
     "cellMetadata": {},
     "inputWidgets": {},
     "nuid": "96ad3d5d-993d-48f2-8717-ef4120edae0e",
     "showTitle": false,
     "tableResultSettingsMap": {},
     "title": ""
    }
   },
   "source": [
    "## PSI"
   ]
  },
  {
   "cell_type": "code",
   "execution_count": 0,
   "metadata": {
    "application/vnd.databricks.v1+cell": {
     "cellMetadata": {
      "byteLimit": 2048000,
      "rowLimit": 10000
     },
     "inputWidgets": {},
     "nuid": "b082e936-0327-48d4-9649-c14f5cc0ced7",
     "showTitle": false,
     "tableResultSettingsMap": {},
     "title": ""
    }
   },
   "outputs": [],
   "source": [
    "def calculate_psi(expected, actual, buckettype='bins', buckets=10):\n",
    "    if buckettype == 'bins':\n",
    "        expected_perc = expected.groupBy('bucket').agg(F.count('*').alias('expected_count'))\n",
    "        actual_perc = actual.groupBy('bucket').agg(F.count('*').alias('actual_count'))\n",
    "    else:\n",
    "        expected_perc = expected.groupBy('value').agg(F.count('*').alias('expected_count'))\n",
    "        actual_perc = actual.groupBy('value').agg(F.count('*').alias('actual_count'))\n",
    "\n",
    "    expected_perc = expected_perc.withColumn('expected_perc', F.col('expected_count') / expected_perc.agg(F.sum('expected_count')).first()[0])\n",
    "    actual_perc = actual_perc.withColumn('actual_perc', F.col('actual_count') / actual_perc.agg(F.sum('actual_count')).first()[0])\n",
    "\n",
    "    psi_df = expected_perc.join(actual_perc, on='bucket', how='outer').fillna(0)\n",
    "    psi_df = psi_df.withColumn('psi', (F.col('actual_perc') - F.col('expected_perc')) * F.log(F.col('actual_perc') / F.col('expected_perc')))\n",
    "    \n",
    "    return psi_df.agg(F.sum('psi')).first()[0]"
   ]
  },
  {
   "cell_type": "markdown",
   "metadata": {
    "application/vnd.databricks.v1+cell": {
     "cellMetadata": {},
     "inputWidgets": {},
     "nuid": "4de42929-f275-48dc-a819-75048959e220",
     "showTitle": false,
     "tableResultSettingsMap": {},
     "title": ""
    }
   },
   "source": [
    "## Variáveis"
   ]
  },
  {
   "cell_type": "code",
   "execution_count": 0,
   "metadata": {
    "application/vnd.databricks.v1+cell": {
     "cellMetadata": {
      "byteLimit": 2048000,
      "rowLimit": 10000
     },
     "inputWidgets": {},
     "nuid": "bb04f513-fac3-430d-a3ca-31354ba9ff2d",
     "showTitle": false,
     "tableResultSettingsMap": {},
     "title": ""
    }
   },
   "outputs": [],
   "source": [
    "variaveis_unico = [\n",
    "'payment_method_id_1m_index',\n",
    "'is_auto_renew_1m_index',\n",
    "'actual_amount_paid_1m',\n",
    "'payment_plan_days_1m',\n",
    "'account_time_1m',\n",
    "'actual_amount_paid_avg_2m',\n",
    "'city_1m_index',\n",
    "'actual_amount_paid_median_2m',\n",
    "'age_group_1m_index',\n",
    "'num_unq_median_2m',\n",
    "'num_25_max_2m',\n",
    "'num_100_min_2m',\n",
    "'actual_amount_paid_max_3m',\n",
    "'actual_amount_paid_avg_3m',\n",
    "'plan_list_price_median_2m',\n",
    "'plan_list_price_avg_4m',\n",
    "'num_unq_max_4m',\n",
    "'plan_list_price_1m',\n",
    "'plan_list_price_min_2m',\n",
    "'actual_amount_paid_median_4m',\n",
    "'num_25_max_4m',\n",
    "'num_100_avg_2m',\n",
    "'num_unq_avg_4m',\n",
    "'plan_list_price_min_4m',\n",
    "'actual_amount_paid_max_2m',\n",
    "'diversity_score_median_3m',\n",
    "'plan_list_price_avg_3m',\n",
    "'num_50_max_3m',\n",
    "]"
   ]
  },
  {
   "cell_type": "markdown",
   "metadata": {
    "application/vnd.databricks.v1+cell": {
     "cellMetadata": {},
     "inputWidgets": {},
     "nuid": "b545f589-d7b6-46dc-976b-7c9b7ff562b8",
     "showTitle": false,
     "tableResultSettingsMap": {},
     "title": ""
    }
   },
   "source": [
    "## Base"
   ]
  },
  {
   "cell_type": "code",
   "execution_count": 0,
   "metadata": {
    "application/vnd.databricks.v1+cell": {
     "cellMetadata": {
      "byteLimit": 2048000,
      "rowLimit": 10000
     },
     "inputWidgets": {},
     "nuid": "a1b927d5-429b-4607-956e-d42cf4b2c61b",
     "showTitle": false,
     "tableResultSettingsMap": {},
     "title": ""
    }
   },
   "outputs": [],
   "source": [
    "base_spine = spark.table(\"sand_riscos_pm_pf.T789778_base_final_dm\").sample(0.25).drop('features').select(variaveis_unico)\n",
    "base_spine"
   ]
  },
  {
   "cell_type": "code",
   "execution_count": 0,
   "metadata": {
    "application/vnd.databricks.v1+cell": {
     "cellMetadata": {
      "byteLimit": 2048000,
      "rowLimit": 10000
     },
     "inputWidgets": {},
     "nuid": "49a2905e-9a7d-4b18-94d1-6e60e5598f11",
     "showTitle": false,
     "tableResultSettingsMap": {},
     "title": ""
    }
   },
   "outputs": [],
   "source": [
    "train_test_data = base_spine.filter(~F.col('safra').isin(201601)).filter(F.col('safra').between(201505,201607))\n",
    "validation_data = base_spine.filter(F.col('safra').between(201608,201611))"
   ]
  },
  {
   "cell_type": "code",
   "execution_count": 0,
   "metadata": {
    "application/vnd.databricks.v1+cell": {
     "cellMetadata": {
      "byteLimit": 2048000,
      "rowLimit": 10000
     },
     "inputWidgets": {},
     "nuid": "05d611ca-ced7-4e30-8628-affeefa4b527",
     "showTitle": false,
     "tableResultSettingsMap": {},
     "title": ""
    }
   },
   "outputs": [],
   "source": [
    "psi_results = {}\n",
    "for column in variaveis_unico:\n",
    "    expected_data = train_test_data.select(column).withColumn('bucket', F.ntile(10).over(Window.orderBy(column)))\n",
    "    actual_data = validation_data.select(column).withColumn('bucket', F.ntile(10).over(Window.orderBy(column)))\n",
    "    psi_value = calculate_psi(expected_data, actual_data)\n",
    "    psi_results[column] = psi_value\n",
    "\n",
    "psi_results_df = spark.createDataFrame(psi_results.items(), [\"Variável\", \"PSI\"])\n",
    "psi_results_df.display()"
   ]
  },
  {
   "cell_type": "code",
   "execution_count": 0,
   "metadata": {
    "application/vnd.databricks.v1+cell": {
     "cellMetadata": {
      "byteLimit": 2048000,
      "rowLimit": 10000
     },
     "inputWidgets": {},
     "nuid": "c2eed26c-6160-41ee-9ff9-35fdd1e30c32",
     "showTitle": false,
     "tableResultSettingsMap": {},
     "title": ""
    }
   },
   "outputs": [],
   "source": [
    "psi_results_df.toPandas()"
   ]
  },
  {
   "cell_type": "code",
   "execution_count": 0,
   "metadata": {
    "application/vnd.databricks.v1+cell": {
     "cellMetadata": {},
     "inputWidgets": {},
     "nuid": "1f1ff79e-6ddd-4a0e-a351-10bc3bceeac1",
     "showTitle": false,
     "tableResultSettingsMap": {},
     "title": ""
    }
   },
   "outputs": [],
   "source": []
  }
 ],
 "metadata": {
  "application/vnd.databricks.v1+notebook": {
   "computePreferences": null,
   "dashboards": [],
   "environmentMetadata": {
    "base_environment": "",
    "environment_version": "2"
   },
   "inputWidgetPreferences": null,
   "language": "python",
   "notebookMetadata": {
    "pythonIndentUnit": 4
   },
   "notebookName": "07.Monitoramento",
   "widgets": {}
  },
  "language_info": {
   "name": "python"
  }
 },
 "nbformat": 4,
 "nbformat_minor": 0
}
