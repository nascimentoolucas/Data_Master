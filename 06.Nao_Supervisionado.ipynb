{
 "cells": [
  {
   "cell_type": "markdown",
   "metadata": {
    "application/vnd.databricks.v1+cell": {
     "cellMetadata": {
      "byteLimit": 2048000,
      "rowLimit": 10000
     },
     "inputWidgets": {},
     "nuid": "8c445f8d-5ec4-4d83-a516-8c6b9dd1a201",
     "showTitle": false,
     "tableResultSettingsMap": {},
     "title": ""
    }
   },
   "source": [
    "## Imports"
   ]
  },
  {
   "cell_type": "code",
   "execution_count": 0,
   "metadata": {
    "application/vnd.databricks.v1+cell": {
     "cellMetadata": {
      "byteLimit": 2048000,
      "rowLimit": 10000
     },
     "inputWidgets": {},
     "nuid": "0963787e-0e72-4516-9cda-d3f289707975",
     "showTitle": false,
     "tableResultSettingsMap": {},
     "title": ""
    }
   },
   "outputs": [],
   "source": [
    "pip install hdbscan"
   ]
  },
  {
   "cell_type": "code",
   "execution_count": 0,
   "metadata": {
    "application/vnd.databricks.v1+cell": {
     "cellMetadata": {
      "byteLimit": 2048000,
      "rowLimit": 10000
     },
     "inputWidgets": {},
     "nuid": "e5cc7c7f-2663-45c6-9ee3-f8add37a4197",
     "showTitle": false,
     "tableResultSettingsMap": {},
     "title": ""
    }
   },
   "outputs": [],
   "source": [
    "dbutils.library.restartPython()"
   ]
  },
  {
   "cell_type": "code",
   "execution_count": 0,
   "metadata": {
    "application/vnd.databricks.v1+cell": {
     "cellMetadata": {
      "byteLimit": 2048000,
      "rowLimit": 10000
     },
     "inputWidgets": {},
     "nuid": "984dbb5a-aeef-4c80-b688-9f2a2486423f",
     "showTitle": false,
     "tableResultSettingsMap": {},
     "title": ""
    }
   },
   "outputs": [],
   "source": [
    "import matplotlib.pyplot as plt\n",
    "import numpy as np\n",
    "import pandas as pd\n",
    "import seaborn as sns\n",
    "import pyspark\n",
    "import pyspark.sql.functions as F\n",
    "from pyspark.sql.window import Window\n",
    "from pyspark.sql.types import *\n",
    "from pyspark.sql import DataFrame,SparkSession\n",
    "\n",
    "from sklearn.cluster import KMeans\n",
    "from sklearn.preprocessing import StandardScaler\n",
    "from sklearn.decomposition import PCA\n",
    "from sklearn.ensemble import IsolationForest\n",
    "from sklearn.metrics import silhouette_score\n",
    "from sklearn.cluster import DBSCAN\n",
    "import hdbscan\n",
    "\n",
    "from sklearn.feature_selection import VarianceThreshold"
   ]
  },
  {
   "cell_type": "markdown",
   "metadata": {
    "application/vnd.databricks.v1+cell": {
     "cellMetadata": {
      "byteLimit": 2048000,
      "rowLimit": 10000
     },
     "inputWidgets": {},
     "nuid": "99039260-b410-4b33-bc94-fcfdc08bebca",
     "showTitle": false,
     "tableResultSettingsMap": {},
     "title": ""
    }
   },
   "source": [
    "## Funções"
   ]
  },
  {
   "cell_type": "code",
   "execution_count": 0,
   "metadata": {
    "application/vnd.databricks.v1+cell": {
     "cellMetadata": {
      "byteLimit": 2048000,
      "rowLimit": 10000
     },
     "inputWidgets": {},
     "nuid": "5cf32e07-ee4a-4b4d-a752-a8c6326709a9",
     "showTitle": false,
     "tableResultSettingsMap": {},
     "title": ""
    }
   },
   "outputs": [],
   "source": [
    "def vars_baixa_variancia(X_train, threshold=0.0):\n",
    "    selector = VarianceThreshold(threshold=threshold)\n",
    "    selector.fit(X_train)\n",
    "    low_variance_features = [column for column, var in zip(X_train.columns, selector.variances_) if var <= threshold]\n",
    "    constant_features = [column for column, var in zip(X_train.columns, selector.variances_) if var == 0]\n",
    "    return low_variance_features, constant_features"
   ]
  },
  {
   "cell_type": "markdown",
   "metadata": {
    "application/vnd.databricks.v1+cell": {
     "cellMetadata": {
      "byteLimit": 2048000,
      "rowLimit": 10000
     },
     "inputWidgets": {},
     "nuid": "8439d667-7d2e-4d6a-bc14-835e11c71043",
     "showTitle": false,
     "tableResultSettingsMap": {},
     "title": ""
    }
   },
   "source": [
    "## Base"
   ]
  },
  {
   "cell_type": "code",
   "execution_count": 0,
   "metadata": {
    "application/vnd.databricks.v1+cell": {
     "cellMetadata": {
      "byteLimit": 2048000,
      "rowLimit": 10000
     },
     "inputWidgets": {},
     "nuid": "56c34589-2109-44a3-9d2c-0616c098d7c2",
     "showTitle": false,
     "tableResultSettingsMap": {},
     "title": ""
    }
   },
   "outputs": [],
   "source": [
    "base_spine = spark.table(\"sand_riscos_pm_pf.T789778_base_final_dm\").filter(F.col('safra').between(201504,201611)).sample(0.05).drop('features')\n",
    "base_spine"
   ]
  },
  {
   "cell_type": "code",
   "execution_count": 0,
   "metadata": {
    "application/vnd.databricks.v1+cell": {
     "cellMetadata": {
      "byteLimit": 2048000,
      "rowLimit": 10000
     },
     "inputWidgets": {},
     "nuid": "6d37e042-418a-42e1-96d9-50161889c368",
     "showTitle": false,
     "tableResultSettingsMap": {},
     "title": ""
    }
   },
   "outputs": [],
   "source": [
    "base_spine = base_spine.fillna(0)"
   ]
  },
  {
   "cell_type": "code",
   "execution_count": 0,
   "metadata": {
    "application/vnd.databricks.v1+cell": {
     "cellMetadata": {
      "byteLimit": 2048000,
      "rowLimit": 10000
     },
     "inputWidgets": {},
     "nuid": "c69bf99d-8f54-4344-9456-a392824b37c3",
     "showTitle": false,
     "tableResultSettingsMap": {},
     "title": ""
    }
   },
   "outputs": [],
   "source": [
    "null_columns = [column for column in base_spine.columns if base_spine.filter(F.col(column).isNull()).count() > 0]\n",
    "null_columns"
   ]
  },
  {
   "cell_type": "code",
   "execution_count": 0,
   "metadata": {
    "application/vnd.databricks.v1+cell": {
     "cellMetadata": {
      "byteLimit": 2048000,
      "rowLimit": 10000
     },
     "inputWidgets": {},
     "nuid": "a13a0dbe-7358-46dd-8b48-7b17d5b73ef6",
     "showTitle": false,
     "tableResultSettingsMap": {},
     "title": ""
    }
   },
   "outputs": [],
   "source": [
    "base_spine.groupBy('safra').count().display()"
   ]
  },
  {
   "cell_type": "markdown",
   "metadata": {
    "application/vnd.databricks.v1+cell": {
     "cellMetadata": {
      "byteLimit": 2048000,
      "rowLimit": 10000
     },
     "inputWidgets": {},
     "nuid": "648aafad-8c1b-4a4f-a674-9dee9b5c4264",
     "showTitle": false,
     "tableResultSettingsMap": {},
     "title": ""
    }
   },
   "source": [
    "## Variáveis"
   ]
  },
  {
   "cell_type": "code",
   "execution_count": 0,
   "metadata": {
    "application/vnd.databricks.v1+cell": {
     "cellMetadata": {
      "byteLimit": 2048000,
      "rowLimit": 10000
     },
     "inputWidgets": {},
     "nuid": "6b18b344-3e0b-41b8-92d4-7b2d9ecc8dfb",
     "showTitle": false,
     "tableResultSettingsMap": {},
     "title": ""
    }
   },
   "outputs": [],
   "source": [
    "id_vars = ['msno', 'safra']\n",
    "target = ['target']\n",
    "vars_init = [k for k in base_spine.columns if k not in id_vars+target]\n",
    "vars_cat_index = [k for k in vars_init if k.endswith('_index')]\n",
    "\n",
    "vars_cat = ['payment_method_id_1m',\n",
    " 'city_1m',\n",
    " 'is_auto_renew_1m',\n",
    " 'age_group_1m',\n",
    " 'gender_1m',\n",
    " 'current_age_1m',\n",
    " 'account_time_1m'\n",
    " ]\n",
    "\n",
    "variaveis = [k for k in vars_init if k not in vars_cat+vars_cat_index]"
   ]
  },
  {
   "cell_type": "markdown",
   "metadata": {
    "application/vnd.databricks.v1+cell": {
     "cellMetadata": {
      "byteLimit": 2048000,
      "rowLimit": 10000
     },
     "inputWidgets": {},
     "nuid": "181d659c-07d9-4b60-b96c-63ed07beb9ab",
     "showTitle": false,
     "tableResultSettingsMap": {},
     "title": ""
    }
   },
   "source": [
    "## Treino - Teste - Validação"
   ]
  },
  {
   "cell_type": "code",
   "execution_count": 0,
   "metadata": {
    "application/vnd.databricks.v1+cell": {
     "cellMetadata": {
      "byteLimit": 2048000,
      "rowLimit": 10000
     },
     "inputWidgets": {},
     "nuid": "2a313697-836a-4b0e-86e0-d984baff607e",
     "showTitle": false,
     "tableResultSettingsMap": {},
     "title": ""
    }
   },
   "outputs": [],
   "source": [
    "train_data = base_spine.filter(~F.col('safra').isin(201601)).filter(F.col('safra').between(201505,201604)).select(id_vars+variaveis+target).toPandas()\n",
    "test_data = base_spine.filter(F.col('safra').between(201605,201607)).select(id_vars+variaveis+target).toPandas()\n",
    "validation_data = base_spine.filter(F.col('safra').between(201608,201611)).select(id_vars+variaveis+target).toPandas()"
   ]
  },
  {
   "cell_type": "code",
   "execution_count": 0,
   "metadata": {
    "application/vnd.databricks.v1+cell": {
     "cellMetadata": {
      "byteLimit": 2048000,
      "rowLimit": 10000
     },
     "inputWidgets": {},
     "nuid": "e91d1057-cb04-426d-b048-2479eaebe401",
     "showTitle": false,
     "tableResultSettingsMap": {},
     "title": ""
    }
   },
   "outputs": [],
   "source": [
    "base_final = pd.concat([train_data, test_data, validation_data])\n",
    "base_final"
   ]
  },
  {
   "cell_type": "code",
   "execution_count": 0,
   "metadata": {
    "application/vnd.databricks.v1+cell": {
     "cellMetadata": {
      "byteLimit": 2048000,
      "rowLimit": 10000
     },
     "inputWidgets": {},
     "nuid": "0de4b243-8174-4e4f-b18d-198695c6f2c1",
     "showTitle": false,
     "tableResultSettingsMap": {},
     "title": ""
    }
   },
   "outputs": [],
   "source": [
    "X_train, y_train = train_data[variaveis], train_data[target]\n",
    "X_test, y_test = test_data[variaveis], test_data[target]\n",
    "X_val, y_val = validation_data[variaveis], validation_data[target]"
   ]
  },
  {
   "cell_type": "markdown",
   "metadata": {
    "application/vnd.databricks.v1+cell": {
     "cellMetadata": {
      "byteLimit": 2048000,
      "rowLimit": 10000
     },
     "inputWidgets": {},
     "nuid": "ac1ce228-85b8-4526-8d4c-8b01a6d634bb",
     "showTitle": false,
     "tableResultSettingsMap": {},
     "title": ""
    }
   },
   "source": [
    "## Variância e Nulos"
   ]
  },
  {
   "cell_type": "code",
   "execution_count": 0,
   "metadata": {
    "application/vnd.databricks.v1+cell": {
     "cellMetadata": {
      "byteLimit": 2048000,
      "rowLimit": 10000
     },
     "inputWidgets": {},
     "nuid": "d248ad02-c3b9-4bb8-96c5-bc5548c116ac",
     "showTitle": false,
     "tableResultSettingsMap": {},
     "title": ""
    }
   },
   "outputs": [],
   "source": [
    "low_variance, cte_vars = vars_baixa_variancia(base_final[variaveis], threshold=0.1)\n",
    "low_variance, cte_vars"
   ]
  },
  {
   "cell_type": "markdown",
   "metadata": {
    "application/vnd.databricks.v1+cell": {
     "cellMetadata": {
      "byteLimit": 2048000,
      "rowLimit": 10000
     },
     "inputWidgets": {},
     "nuid": "fc19eb11-ef52-46fd-84c1-7c9a6009c2da",
     "showTitle": false,
     "tableResultSettingsMap": {},
     "title": ""
    }
   },
   "source": [
    "## Normalização"
   ]
  },
  {
   "cell_type": "code",
   "execution_count": 0,
   "metadata": {
    "application/vnd.databricks.v1+cell": {
     "cellMetadata": {
      "byteLimit": 2048000,
      "rowLimit": 10000
     },
     "inputWidgets": {},
     "nuid": "11f59b56-c8d8-4ff1-8075-ced1c75bc54f",
     "showTitle": false,
     "tableResultSettingsMap": {},
     "title": ""
    }
   },
   "outputs": [],
   "source": [
    "scaler = StandardScaler()\n",
    "df_norm = scaler.fit_transform(base_final[variaveis])"
   ]
  },
  {
   "cell_type": "markdown",
   "metadata": {
    "application/vnd.databricks.v1+cell": {
     "cellMetadata": {
      "byteLimit": 2048000,
      "rowLimit": 10000
     },
     "inputWidgets": {},
     "nuid": "cf995221-86a4-40fd-8880-05c734147438",
     "showTitle": false,
     "tableResultSettingsMap": {},
     "title": ""
    }
   },
   "source": [
    "# PCA"
   ]
  },
  {
   "cell_type": "code",
   "execution_count": 0,
   "metadata": {
    "application/vnd.databricks.v1+cell": {
     "cellMetadata": {
      "byteLimit": 2048000,
      "rowLimit": 10000
     },
     "inputWidgets": {},
     "nuid": "c65c364f-4433-44f6-8c5f-4d7cec8c5aa9",
     "showTitle": false,
     "tableResultSettingsMap": {},
     "title": ""
    }
   },
   "outputs": [],
   "source": [
    "n_components = 20\n",
    "pca = PCA(n_components=n_components)\n",
    "principal_components = pca.fit_transform(df_norm)\n",
    "PCA_columns = ['PC1', 'PC2', 'PC3', 'PC4', 'PC5', 'PC6', 'PC7', 'PC8', 'PC9', 'PC10', 'PC11', 'PC12', 'PC13', 'PC14', 'PC15', 'PC16', 'PC17', 'PC18', 'PC19', 'PC20']\n",
    "\n",
    "df_pca = pd.DataFrame(data=principal_components, \n",
    "                      columns=PCA_columns)\n",
    "\n",
    "df_pca"
   ]
  },
  {
   "cell_type": "code",
   "execution_count": 0,
   "metadata": {
    "application/vnd.databricks.v1+cell": {
     "cellMetadata": {
      "byteLimit": 2048000,
      "rowLimit": 10000
     },
     "inputWidgets": {},
     "nuid": "76c5fbd2-e2c6-458d-bde9-8310d2991542",
     "showTitle": false,
     "tableResultSettingsMap": {},
     "title": ""
    }
   },
   "outputs": [],
   "source": [
    "explained_variance = pca.explained_variance_ratio_\n",
    "cumulative_explained_variance = explained_variance.cumsum()\n",
    "\n",
    "plt.figure(figsize=(10, 5))\n",
    "plt.bar(range(1, n_components+1), cumulative_explained_variance, alpha=0.7, align='center', color='blue')\n",
    "plt.axhline(y=0.9, color='r', linestyle='--')\n",
    "plt.xlabel('Componentes Principais')\n",
    "plt.ylabel('Variância Explicada Acumulada')\n",
    "plt.title(f'PCA Variância Explicada Acumulada (Total: {cumulative_explained_variance[-1]:.2f})')\n",
    "plt.show()"
   ]
  },
  {
   "cell_type": "code",
   "execution_count": 0,
   "metadata": {
    "application/vnd.databricks.v1+cell": {
     "cellMetadata": {
      "byteLimit": 2048000,
      "rowLimit": 10000
     },
     "inputWidgets": {},
     "nuid": "9084fae0-db81-4638-a5da-b27c838e4bb5",
     "showTitle": false,
     "tableResultSettingsMap": {},
     "title": ""
    }
   },
   "outputs": [],
   "source": [
    "PCA_vig = ['PC1', 'PC2', 'PC3', 'PC4', 'PC5', 'PC6', 'PC7', 'PC8', 'PC9', 'PC10', 'PC11', 'PC12']\n",
    "df_final = df_pca[PCA_vig]\n",
    "df_final"
   ]
  },
  {
   "cell_type": "code",
   "execution_count": 0,
   "metadata": {
    "application/vnd.databricks.v1+cell": {
     "cellMetadata": {
      "byteLimit": 2048000,
      "rowLimit": 10000
     },
     "inputWidgets": {},
     "nuid": "1ed1d573-9f37-4d87-a8b1-c2efb51088b8",
     "showTitle": false,
     "tableResultSettingsMap": {},
     "title": ""
    }
   },
   "outputs": [],
   "source": [
    "df_final['msno'] = base_final['msno'].ravel()\n",
    "df_final['safra'] = base_final['safra'].ravel()\n",
    "df_final['target'] = base_final['target'].ravel()\n",
    "df_final"
   ]
  },
  {
   "cell_type": "markdown",
   "metadata": {
    "application/vnd.databricks.v1+cell": {
     "cellMetadata": {
      "byteLimit": 2048000,
      "rowLimit": 10000
     },
     "inputWidgets": {},
     "nuid": "c8b54c08-f7ec-4fd3-b16e-110ec4f7ec9f",
     "showTitle": false,
     "tableResultSettingsMap": {},
     "title": ""
    }
   },
   "source": [
    "# K-Means"
   ]
  },
  {
   "cell_type": "markdown",
   "metadata": {
    "application/vnd.databricks.v1+cell": {
     "cellMetadata": {
      "byteLimit": 2048000,
      "rowLimit": 10000
     },
     "inputWidgets": {},
     "nuid": "7512469b-1940-4813-abe5-39bafae86e55",
     "showTitle": false,
     "tableResultSettingsMap": {},
     "title": ""
    }
   },
   "source": [
    "## Número de Clusters"
   ]
  },
  {
   "cell_type": "code",
   "execution_count": 0,
   "metadata": {
    "application/vnd.databricks.v1+cell": {
     "cellMetadata": {
      "byteLimit": 2048000,
      "rowLimit": 10000
     },
     "collapsed": true,
     "inputWidgets": {},
     "nuid": "60c88af2-73c6-4723-98da-cd3e91eb31b5",
     "showTitle": false,
     "tableResultSettingsMap": {},
     "title": ""
    }
   },
   "outputs": [],
   "source": [
    "elbow = []\n",
    "for k in range(2, 20):\n",
    "    kmeans = KMeans(n_clusters=k, random_state=0).fit(df_final[PCA_vig])\n",
    "    elbow.append(kmeans.inertia_)"
   ]
  },
  {
   "cell_type": "code",
   "execution_count": 0,
   "metadata": {
    "application/vnd.databricks.v1+cell": {
     "cellMetadata": {
      "byteLimit": 2048000,
      "rowLimit": 10000
     },
     "inputWidgets": {},
     "nuid": "cd2af99c-3f1f-464e-bf7f-4b504f7ba349",
     "showTitle": false,
     "tableResultSettingsMap": {},
     "title": ""
    }
   },
   "outputs": [],
   "source": [
    "plt.figure(figsize=(10,5))\n",
    "plt.plot([str(k) for k in range(2, 20)], elbow, marker='o', linestyle='--')\n",
    "plt.xlabel('Número de Clusters')\n",
    "plt.ylabel('Inercia')\n",
    "plt.title('Curva de Elbow')\n",
    "plt.show()"
   ]
  },
  {
   "cell_type": "code",
   "execution_count": 0,
   "metadata": {
    "application/vnd.databricks.v1+cell": {
     "cellMetadata": {
      "byteLimit": 2048000,
      "rowLimit": 10000
     },
     "inputWidgets": {},
     "nuid": "8ed6c49c-b23e-4927-b537-d80cfae25e48",
     "showTitle": false,
     "tableResultSettingsMap": {},
     "title": ""
    }
   },
   "outputs": [],
   "source": [
    "elbow"
   ]
  },
  {
   "cell_type": "code",
   "execution_count": 0,
   "metadata": {
    "application/vnd.databricks.v1+cell": {
     "cellMetadata": {
      "byteLimit": 2048000,
      "rowLimit": 10000
     },
     "inputWidgets": {},
     "nuid": "da257914-f9de-4342-af3e-ec81d990cc17",
     "showTitle": false,
     "tableResultSettingsMap": {},
     "title": ""
    }
   },
   "outputs": [],
   "source": [
    "diffs = sorted([(i, abs(elbow[i] - elbow[i+1])) for i in range(len(elbow)-1)], key=lambda x: x[1], reverse=True)\n",
    "diffs_indices = [i for i, diff in diffs]\n",
    "diffs_indices"
   ]
  },
  {
   "cell_type": "code",
   "execution_count": 0,
   "metadata": {
    "application/vnd.databricks.v1+cell": {
     "cellMetadata": {
      "byteLimit": 2048000,
      "rowLimit": 10000
     },
     "inputWidgets": {},
     "nuid": "705fba31-0272-44ee-b2b9-f1a10c7c8b76",
     "showTitle": false,
     "tableResultSettingsMap": {},
     "title": ""
    }
   },
   "outputs": [],
   "source": [
    "len(elbow), len(diffs_indices)"
   ]
  },
  {
   "cell_type": "markdown",
   "metadata": {
    "application/vnd.databricks.v1+cell": {
     "cellMetadata": {
      "byteLimit": 2048000,
      "rowLimit": 10000
     },
     "inputWidgets": {},
     "nuid": "c0de2e63-3630-45d2-88cf-c3c9eeb5231e",
     "showTitle": false,
     "tableResultSettingsMap": {},
     "title": ""
    }
   },
   "source": [
    "## Escolha Cotovelo"
   ]
  },
  {
   "cell_type": "code",
   "execution_count": 0,
   "metadata": {
    "application/vnd.databricks.v1+cell": {
     "cellMetadata": {
      "byteLimit": 2048000,
      "rowLimit": 10000
     },
     "inputWidgets": {},
     "nuid": "0c2084db-b646-4820-8c29-fbb8a5345257",
     "showTitle": false,
     "tableResultSettingsMap": {},
     "title": ""
    }
   },
   "outputs": [],
   "source": [
    "k = 8\n",
    "kmeans =KMeans(n_clusters=k, random_state=0)\n",
    "df_final['cluster_kmeans'] = kmeans.fit_predict(df_final[PCA_vig])"
   ]
  },
  {
   "cell_type": "code",
   "execution_count": 0,
   "metadata": {
    "application/vnd.databricks.v1+cell": {
     "cellMetadata": {
      "byteLimit": 2048000,
      "rowLimit": 10000
     },
     "inputWidgets": {},
     "nuid": "d8d0a77a-4ab3-4e4d-a7b6-af00354d4483",
     "showTitle": false,
     "tableResultSettingsMap": {},
     "title": ""
    }
   },
   "outputs": [],
   "source": [
    "df_final"
   ]
  },
  {
   "cell_type": "code",
   "execution_count": 0,
   "metadata": {
    "application/vnd.databricks.v1+cell": {
     "cellMetadata": {
      "byteLimit": 2048000,
      "rowLimit": 10000
     },
     "inputWidgets": {},
     "nuid": "8316712d-cb94-40e3-8cbc-9f1e90e03505",
     "showTitle": false,
     "tableResultSettingsMap": {},
     "title": ""
    }
   },
   "outputs": [],
   "source": [
    "cluster_mean = df_final.groupby('cluster_kmeans')['target'].mean().reset_index()\n",
    "cluster_mean['target'] = (cluster_mean['target']*100).round(2)\n",
    "cluster_mean"
   ]
  },
  {
   "cell_type": "code",
   "execution_count": 0,
   "metadata": {
    "application/vnd.databricks.v1+cell": {
     "cellMetadata": {
      "byteLimit": 2048000,
      "rowLimit": 10000
     },
     "inputWidgets": {},
     "nuid": "f81e32f4-7a42-4561-a888-09fb81eeec3e",
     "showTitle": false,
     "tableResultSettingsMap": {},
     "title": ""
    }
   },
   "outputs": [],
   "source": [
    "sns.barplot(x='cluster_kmeans', y='target', data=cluster_mean)\n",
    "plt.title('Inadimplência Média por Cluster')\n",
    "plt.show()"
   ]
  },
  {
   "cell_type": "code",
   "execution_count": 0,
   "metadata": {
    "application/vnd.databricks.v1+cell": {
     "cellMetadata": {
      "byteLimit": 2048000,
      "rowLimit": 10000
     },
     "inputWidgets": {},
     "nuid": "e83c8621-66a8-4451-bd03-756f0f86738c",
     "showTitle": false,
     "tableResultSettingsMap": {},
     "title": ""
    }
   },
   "outputs": [],
   "source": [
    "df_final.groupby('cluster_kmeans').count()['target']"
   ]
  },
  {
   "cell_type": "code",
   "execution_count": 0,
   "metadata": {
    "application/vnd.databricks.v1+cell": {
     "cellMetadata": {
      "byteLimit": 2048000,
      "rowLimit": 10000
     },
     "inputWidgets": {},
     "nuid": "3665555e-64f7-4061-8dd8-63f87c2f6f4f",
     "showTitle": false,
     "tableResultSettingsMap": {},
     "title": ""
    }
   },
   "outputs": [],
   "source": [
    "plt.figure(figsize=(10, 6))\n",
    "sns.scatterplot(x='PC1', y='PC2', hue='cluster_kmeans', data=df_final, palette='viridis')\n",
    "plt.title('PC1 vs PC2 por Clusterização KMeans')\n",
    "plt.show()"
   ]
  },
  {
   "cell_type": "code",
   "execution_count": 0,
   "metadata": {
    "application/vnd.databricks.v1+cell": {
     "cellMetadata": {
      "byteLimit": 2048000,
      "rowLimit": 10000
     },
     "inputWidgets": {},
     "nuid": "901db306-6598-49e0-9ac5-4ef9936fa02f",
     "showTitle": false,
     "tableResultSettingsMap": {},
     "title": ""
    }
   },
   "outputs": [],
   "source": [
    "plt.figure(figsize=(10, 6))\n",
    "sns.scatterplot(x='PC1', y='PC3', hue='cluster_kmeans', data=df_final, palette='viridis')\n",
    "plt.title('PC1 vs PC3 por Clusterização KMeans')\n",
    "plt.show()"
   ]
  },
  {
   "cell_type": "code",
   "execution_count": 0,
   "metadata": {
    "application/vnd.databricks.v1+cell": {
     "cellMetadata": {
      "byteLimit": 2048000,
      "rowLimit": 10000
     },
     "inputWidgets": {},
     "nuid": "4c73a089-9b60-4429-bc16-7dd5077b2732",
     "showTitle": false,
     "tableResultSettingsMap": {},
     "title": ""
    }
   },
   "outputs": [],
   "source": [
    "plt.figure(figsize=(10, 6))\n",
    "sns.scatterplot(x='PC3', y='PC2', hue='cluster_kmeans', data=df_final, palette='viridis')\n",
    "plt.title('PC3 vs PC2 por Clusterização KMeans')\n",
    "plt.show()"
   ]
  },
  {
   "cell_type": "markdown",
   "metadata": {
    "application/vnd.databricks.v1+cell": {
     "cellMetadata": {
      "byteLimit": 2048000,
      "rowLimit": 10000
     },
     "inputWidgets": {},
     "nuid": "7be19c94-72a0-49d4-bd69-2e4ed1f7f3b3",
     "showTitle": false,
     "tableResultSettingsMap": {},
     "title": ""
    }
   },
   "source": [
    "# HDBSCAN"
   ]
  },
  {
   "cell_type": "code",
   "execution_count": 0,
   "metadata": {
    "application/vnd.databricks.v1+cell": {
     "cellMetadata": {
      "byteLimit": 2048000,
      "rowLimit": 10000
     },
     "inputWidgets": {},
     "nuid": "52633a3d-7e49-4cc8-acd1-77ce7d484276",
     "showTitle": false,
     "tableResultSettingsMap": {},
     "title": ""
    }
   },
   "outputs": [],
   "source": [
    "dbscan = hdbscan.HDBSCAN(min_cluster_size=500)\n",
    "df_final['cluster_hdbscan'] = dbscan.fit_predict(df_final[PCA_vig])"
   ]
  },
  {
   "cell_type": "code",
   "execution_count": 0,
   "metadata": {
    "application/vnd.databricks.v1+cell": {
     "cellMetadata": {
      "byteLimit": 2048000,
      "rowLimit": 10000
     },
     "inputWidgets": {},
     "nuid": "f185ec11-273a-4b91-b7fc-c1b854cf5493",
     "showTitle": false,
     "tableResultSettingsMap": {},
     "title": ""
    }
   },
   "outputs": [],
   "source": [
    "df_final"
   ]
  },
  {
   "cell_type": "code",
   "execution_count": 0,
   "metadata": {
    "application/vnd.databricks.v1+cell": {
     "cellMetadata": {
      "byteLimit": 2048000,
      "rowLimit": 10000
     },
     "inputWidgets": {},
     "nuid": "890b09f5-4b23-4990-8c97-7507cadf42fc",
     "showTitle": false,
     "tableResultSettingsMap": {},
     "title": ""
    }
   },
   "outputs": [],
   "source": [
    "df_final.groupby('cluster_hdbscan').count()"
   ]
  },
  {
   "cell_type": "code",
   "execution_count": 0,
   "metadata": {
    "application/vnd.databricks.v1+cell": {
     "cellMetadata": {
      "byteLimit": 2048000,
      "rowLimit": 10000
     },
     "inputWidgets": {},
     "nuid": "78473419-9c0d-4fe1-aa3c-e92f25227fe5",
     "showTitle": false,
     "tableResultSettingsMap": {},
     "title": ""
    }
   },
   "outputs": [],
   "source": [
    "cluster_mean = df_final.groupby('cluster_hdbscan')['target'].mean().reset_index()\n",
    "cluster_mean['target'] = (cluster_mean['target']*100).round(2)\n",
    "cluster_mean"
   ]
  },
  {
   "cell_type": "code",
   "execution_count": 0,
   "metadata": {
    "application/vnd.databricks.v1+cell": {
     "cellMetadata": {
      "byteLimit": 2048000,
      "rowLimit": 10000
     },
     "inputWidgets": {},
     "nuid": "1ec22b7f-1581-489c-8949-721838fdd354",
     "showTitle": false,
     "tableResultSettingsMap": {},
     "title": ""
    }
   },
   "outputs": [],
   "source": [
    "sns.barplot(x='cluster_hdbscan', y='target', data=cluster_mean)\n",
    "plt.title('Inadimplência Média por Cluster')\n",
    "plt.show()"
   ]
  },
  {
   "cell_type": "code",
   "execution_count": 0,
   "metadata": {
    "application/vnd.databricks.v1+cell": {
     "cellMetadata": {
      "byteLimit": 2048000,
      "rowLimit": 10000
     },
     "inputWidgets": {},
     "nuid": "97d0964c-4ce0-49be-ae2c-ad801d07f264",
     "showTitle": false,
     "tableResultSettingsMap": {},
     "title": ""
    }
   },
   "outputs": [],
   "source": [
    "df_final.groupby('cluster_hdbscan').count()['target']"
   ]
  },
  {
   "cell_type": "code",
   "execution_count": 0,
   "metadata": {
    "application/vnd.databricks.v1+cell": {
     "cellMetadata": {
      "byteLimit": 2048000,
      "rowLimit": 10000
     },
     "inputWidgets": {},
     "nuid": "d41feee7-0c3b-43c1-bbac-d5214827bbb3",
     "showTitle": false,
     "tableResultSettingsMap": {},
     "title": ""
    }
   },
   "outputs": [],
   "source": [
    "plt.figure(figsize=(10, 6))\n",
    "sns.scatterplot(x='PC1', y='PC2', hue='cluster_hdbscan', data=df_final, palette='viridis')\n",
    "plt.title('PC1 vs PC2 por Clusterização HDBSCAN')\n",
    "plt.show()"
   ]
  },
  {
   "cell_type": "code",
   "execution_count": 0,
   "metadata": {
    "application/vnd.databricks.v1+cell": {
     "cellMetadata": {
      "byteLimit": 2048000,
      "rowLimit": 10000
     },
     "inputWidgets": {},
     "nuid": "a180d626-b6d7-4fd6-b3a1-b2d5aa7261c0",
     "showTitle": false,
     "tableResultSettingsMap": {},
     "title": ""
    }
   },
   "outputs": [],
   "source": [
    "plt.figure(figsize=(10, 6))\n",
    "sns.scatterplot(x='PC1', y='PC3', hue='cluster_hdbscan', data=df_final, palette='viridis')\n",
    "plt.title('PC1 vs PC3 por Clusterização HDBSCAN')\n",
    "plt.show()"
   ]
  },
  {
   "cell_type": "code",
   "execution_count": 0,
   "metadata": {
    "application/vnd.databricks.v1+cell": {
     "cellMetadata": {
      "byteLimit": 2048000,
      "rowLimit": 10000
     },
     "inputWidgets": {},
     "nuid": "439801ff-9852-4d6e-a555-15207d6d9f9b",
     "showTitle": false,
     "tableResultSettingsMap": {},
     "title": ""
    }
   },
   "outputs": [],
   "source": [
    "plt.figure(figsize=(10, 6))\n",
    "sns.scatterplot(x='PC3', y='PC2', hue='cluster_hdbscan', data=df_final, palette='viridis')\n",
    "plt.title('PC3 vs PC2 por Clusterização HDBSCAN')\n",
    "plt.show()"
   ]
  },
  {
   "cell_type": "markdown",
   "metadata": {
    "application/vnd.databricks.v1+cell": {
     "cellMetadata": {
      "byteLimit": 2048000,
      "rowLimit": 10000
     },
     "inputWidgets": {},
     "nuid": "4e78036e-c344-43b4-bf34-d2c6571b9eec",
     "showTitle": false,
     "tableResultSettingsMap": {},
     "title": ""
    }
   },
   "source": [
    "## Salvar Base"
   ]
  },
  {
   "cell_type": "code",
   "execution_count": 0,
   "metadata": {
    "application/vnd.databricks.v1+cell": {
     "cellMetadata": {
      "byteLimit": 2048000,
      "rowLimit": 10000
     },
     "inputWidgets": {},
     "nuid": "83cbce4a-aa6c-4454-b4a1-3a0cb90f2ed7",
     "showTitle": false,
     "tableResultSettingsMap": {},
     "title": ""
    }
   },
   "outputs": [],
   "source": [
    "df_final"
   ]
  },
  {
   "cell_type": "code",
   "execution_count": 0,
   "metadata": {
    "application/vnd.databricks.v1+cell": {
     "cellMetadata": {
      "byteLimit": 2048000,
      "rowLimit": 10000
     },
     "inputWidgets": {},
     "nuid": "31e001de-7f45-4d6b-898a-999df66ecd90",
     "showTitle": false,
     "tableResultSettingsMap": {},
     "title": ""
    }
   },
   "outputs": [],
   "source": [
    "df_final_spark = spark.createDataFrame(df_final)\n",
    "# df_final_spark.write.mode('overwrite').saveAsTable('sand_riscos_pm_pf.T789778_base_clustering')\n",
    "# print('sand_riscos_pm_pf.T789778_base_clustering')"
   ]
  },
  {
   "cell_type": "markdown",
   "metadata": {
    "application/vnd.databricks.v1+cell": {
     "cellMetadata": {
      "byteLimit": 2048000,
      "rowLimit": 10000
     },
     "inputWidgets": {},
     "nuid": "cb0d035d-10aa-499b-881b-96a78cac4c5e",
     "showTitle": false,
     "tableResultSettingsMap": {},
     "title": ""
    }
   },
   "source": [
    "## Trazendo de Volta o problema de Classificação"
   ]
  },
  {
   "cell_type": "code",
   "execution_count": 0,
   "metadata": {
    "application/vnd.databricks.v1+cell": {
     "cellMetadata": {
      "byteLimit": 2048000,
      "rowLimit": 10000
     },
     "inputWidgets": {},
     "nuid": "db422049-ecab-416e-99d5-8be773f0efa8",
     "showTitle": false,
     "tableResultSettingsMap": {},
     "title": ""
    }
   },
   "outputs": [],
   "source": [
    "base_score = spark.table('sand_riscos_pm_pf.T789778_base_score_unico')\n",
    "base_score"
   ]
  },
  {
   "cell_type": "code",
   "execution_count": 0,
   "metadata": {
    "application/vnd.databricks.v1+cell": {
     "cellMetadata": {
      "byteLimit": 2048000,
      "rowLimit": 10000
     },
     "inputWidgets": {},
     "nuid": "3c7c930c-6351-48f5-80f8-d3c49c43c5f2",
     "showTitle": false,
     "tableResultSettingsMap": {},
     "title": ""
    }
   },
   "outputs": [],
   "source": [
    "base_ar0 = spark.table('sand_riscos_pm_pf.T789778_base_score_ar0')\n",
    "base_ar0"
   ]
  },
  {
   "cell_type": "code",
   "execution_count": 0,
   "metadata": {
    "application/vnd.databricks.v1+cell": {
     "cellMetadata": {
      "byteLimit": 2048000,
      "rowLimit": 10000
     },
     "inputWidgets": {},
     "nuid": "f72c4970-a2f1-4f23-9519-7c52cba1c366",
     "showTitle": false,
     "tableResultSettingsMap": {},
     "title": ""
    }
   },
   "outputs": [],
   "source": [
    "base_ar1 = spark.table('sand_riscos_pm_pf.T789778_base_score_ar1')\n",
    "base_ar1"
   ]
  },
  {
   "cell_type": "code",
   "execution_count": 0,
   "metadata": {
    "application/vnd.databricks.v1+cell": {
     "cellMetadata": {
      "byteLimit": 2048000,
      "rowLimit": 10000
     },
     "inputWidgets": {},
     "nuid": "71dc4c17-7835-47b3-b03e-21e1c225f9ea",
     "showTitle": false,
     "tableResultSettingsMap": {},
     "title": ""
    }
   },
   "outputs": [],
   "source": [
    "df_final_spark"
   ]
  },
  {
   "cell_type": "markdown",
   "metadata": {
    "application/vnd.databricks.v1+cell": {
     "cellMetadata": {
      "byteLimit": 2048000,
      "rowLimit": 10000
     },
     "inputWidgets": {},
     "nuid": "58938a51-6bda-4906-8a05-7da4934ae8eb",
     "showTitle": false,
     "tableResultSettingsMap": {},
     "title": ""
    }
   },
   "source": [
    "## Avaliação de Clusters"
   ]
  },
  {
   "cell_type": "code",
   "execution_count": 0,
   "metadata": {
    "application/vnd.databricks.v1+cell": {
     "cellMetadata": {
      "byteLimit": 2048000,
      "rowLimit": 10000
     },
     "inputWidgets": {},
     "nuid": "d748c4ba-4cda-4a47-b9fa-ba5484254df7",
     "showTitle": false,
     "tableResultSettingsMap": {},
     "title": ""
    }
   },
   "outputs": [],
   "source": [
    "df_clusters = df_final_spark.join(base_score, on=['msno', 'safra', 'target'], how='left')\n",
    "df_clusters"
   ]
  },
  {
   "cell_type": "code",
   "execution_count": 0,
   "metadata": {
    "application/vnd.databricks.v1+cell": {
     "cellMetadata": {
      "byteLimit": 2048000,
      "rowLimit": 10000
     },
     "inputWidgets": {},
     "nuid": "bc7dd88d-680b-4f2a-aca4-d21bce9abeee",
     "showTitle": false,
     "tableResultSettingsMap": {},
     "title": ""
    }
   },
   "outputs": [],
   "source": [
    "df_clusters_ar0 = df_final_spark.join(base_ar0, on=['msno', 'safra', 'target'], how='inner')\n",
    "df_clusters_ar0"
   ]
  },
  {
   "cell_type": "code",
   "execution_count": 0,
   "metadata": {
    "application/vnd.databricks.v1+cell": {
     "cellMetadata": {
      "byteLimit": 2048000,
      "rowLimit": 10000
     },
     "inputWidgets": {},
     "nuid": "4a2d1bf5-46e5-4b3f-9cf7-6c522b20aba2",
     "showTitle": false,
     "tableResultSettingsMap": {},
     "title": ""
    }
   },
   "outputs": [],
   "source": [
    "df_clusters_ar1 = df_final_spark.join(base_ar1, on=['msno', 'safra', 'target'], how='inner')\n",
    "df_clusters_ar1"
   ]
  },
  {
   "cell_type": "code",
   "execution_count": 0,
   "metadata": {
    "application/vnd.databricks.v1+cell": {
     "cellMetadata": {
      "byteLimit": 2048000,
      "rowLimit": 10000
     },
     "inputWidgets": {},
     "nuid": "65028830-85cc-43a5-831a-862b49b69293",
     "showTitle": false,
     "tableResultSettingsMap": {},
     "title": ""
    }
   },
   "outputs": [],
   "source": [
    "df_clusters_pd = df_clusters.toPandas()\n",
    "df_clusters_ar0 = df_clusters_ar0.toPandas()\n",
    "df_clusters_ar1 = df_clusters_ar1.toPandas()"
   ]
  },
  {
   "cell_type": "markdown",
   "metadata": {
    "application/vnd.databricks.v1+cell": {
     "cellMetadata": {
      "byteLimit": 2048000,
      "rowLimit": 10000
     },
     "inputWidgets": {},
     "nuid": "06296198-2e36-48c9-b960-df26846413ea",
     "showTitle": false,
     "tableResultSettingsMap": {},
     "title": ""
    }
   },
   "source": [
    "## Modelo único"
   ]
  },
  {
   "cell_type": "code",
   "execution_count": 0,
   "metadata": {
    "application/vnd.databricks.v1+cell": {
     "cellMetadata": {
      "byteLimit": 2048000,
      "rowLimit": 10000
     },
     "inputWidgets": {},
     "nuid": "18ec1024-d128-4ab0-9a69-78e7028170e9",
     "showTitle": false,
     "tableResultSettingsMap": {},
     "title": ""
    }
   },
   "outputs": [],
   "source": [
    "inadimplencia_kmeans = df_clusters_pd.groupby('cluster_kmeans').agg(\n",
    "    inadimplencia_real=('target', 'mean'),\n",
    "    inadimplencia_predita=('y_pred_lgbm_unico', 'mean')\n",
    ").reset_index()\n",
    "\n",
    "inadimplencia_kmeans['inadimplencia_real'] *= 100\n",
    "inadimplencia_kmeans['inadimplencia_predita'] *= 100\n",
    "\n",
    "inadimplencia_kmeans"
   ]
  },
  {
   "cell_type": "code",
   "execution_count": 0,
   "metadata": {
    "application/vnd.databricks.v1+cell": {
     "cellMetadata": {
      "byteLimit": 2048000,
      "rowLimit": 10000
     },
     "inputWidgets": {},
     "nuid": "52d26614-4abf-44c1-b2a8-60571a922d08",
     "showTitle": false,
     "tableResultSettingsMap": {},
     "title": ""
    }
   },
   "outputs": [],
   "source": [
    "fig, ax = plt.subplots(figsize=(10, 6))\n",
    "width = 0.35\n",
    "\n",
    "bars_real = ax.bar(inadimplencia_kmeans['cluster_kmeans'] - width/2, inadimplencia_kmeans['inadimplencia_real'], width, label='Inadimplência Real')\n",
    "bars_predita = ax.bar(inadimplencia_kmeans['cluster_kmeans'] + width/2, inadimplencia_kmeans['inadimplencia_predita'], width, label='Inadimplência Predita')\n",
    "\n",
    "ax.set_xlabel('Cluster KMeans')\n",
    "ax.set_ylabel('Inadimplência (%)')\n",
    "ax.set_title('Inadimplência Real vs Predita por Cluster KMeans')\n",
    "ax.legend()\n",
    "\n",
    "for bar in bars_real:\n",
    "    height = bar.get_height()\n",
    "    ax.annotate(f'{height:.0f}%', xy=(bar.get_x() + bar.get_width() / 2, height),\n",
    "                xytext=(0, 3), textcoords=\"offset points\", ha='center', va='bottom')\n",
    "\n",
    "for bar in bars_predita:\n",
    "    height = bar.get_height()\n",
    "    ax.annotate(f'{height:.0f}%', xy=(bar.get_x() + bar.get_width() / 2, height),\n",
    "                xytext=(0, 3), textcoords=\"offset points\", ha='center', va='bottom')\n",
    "\n",
    "plt.show()"
   ]
  },
  {
   "cell_type": "code",
   "execution_count": 0,
   "metadata": {
    "application/vnd.databricks.v1+cell": {
     "cellMetadata": {
      "byteLimit": 2048000,
      "rowLimit": 10000
     },
     "inputWidgets": {},
     "nuid": "51b6a700-d8f7-4f69-9756-b8b43bab2aef",
     "showTitle": false,
     "tableResultSettingsMap": {},
     "title": ""
    }
   },
   "outputs": [],
   "source": [
    "inadimplencia_hdbscan = df_clusters_pd.groupby('cluster_hdbscan').agg(\n",
    "    inadimplencia_real=('target', 'mean'),\n",
    "    inadimplencia_predita=('y_pred_lgbm_unico', 'mean')\n",
    ").reset_index()\n",
    "\n",
    "inadimplencia_hdbscan['inadimplencia_real'] *= 100\n",
    "inadimplencia_hdbscan['inadimplencia_predita'] *= 100\n",
    "\n",
    "inadimplencia_hdbscan"
   ]
  },
  {
   "cell_type": "code",
   "execution_count": 0,
   "metadata": {
    "application/vnd.databricks.v1+cell": {
     "cellMetadata": {
      "byteLimit": 2048000,
      "rowLimit": 10000
     },
     "inputWidgets": {},
     "nuid": "342f28e7-c4aa-471a-ba93-2f44184adaef",
     "showTitle": false,
     "tableResultSettingsMap": {},
     "title": ""
    }
   },
   "outputs": [],
   "source": [
    "fig, ax = plt.subplots(figsize=(10, 6))\n",
    "width = 0.35\n",
    "\n",
    "bars_real = ax.bar(inadimplencia_hdbscan['cluster_hdbscan'] - width/2, inadimplencia_hdbscan['inadimplencia_real'], width, label='Inadimplência Real')\n",
    "bars_predita = ax.bar(inadimplencia_hdbscan['cluster_hdbscan'] + width/2, inadimplencia_hdbscan['inadimplencia_predita'], width, label='Inadimplência Predita')\n",
    "\n",
    "ax.set_xlabel('Cluster HDBSCAN')\n",
    "ax.set_ylabel('Inadimplência (%)')\n",
    "ax.set_title('Inadimplência Real vs Predita por Cluster HDBSCAN')\n",
    "ax.legend()\n",
    "\n",
    "for bar in bars_real:\n",
    "    height = bar.get_height()\n",
    "    ax.annotate(f'{height:.0f}%', xy=(bar.get_x() + bar.get_width() / 2, height),\n",
    "                xytext=(0, 3), textcoords=\"offset points\", ha='center', va='bottom')\n",
    "\n",
    "for bar in bars_predita:\n",
    "    height = bar.get_height()\n",
    "    ax.annotate(f'{height:.0f}%', xy=(bar.get_x() + bar.get_width() / 2, height),\n",
    "                xytext=(0, 3), textcoords=\"offset points\", ha='center', va='bottom')\n",
    "\n",
    "plt.show()"
   ]
  },
  {
   "cell_type": "markdown",
   "metadata": {
    "application/vnd.databricks.v1+cell": {
     "cellMetadata": {
      "byteLimit": 2048000,
      "rowLimit": 10000
     },
     "inputWidgets": {},
     "nuid": "d1e0f0aa-7619-41f4-8e10-0bdf016bbab5",
     "showTitle": false,
     "tableResultSettingsMap": {},
     "title": ""
    }
   },
   "source": [
    "## Modelo AR0"
   ]
  },
  {
   "cell_type": "code",
   "execution_count": 0,
   "metadata": {
    "application/vnd.databricks.v1+cell": {
     "cellMetadata": {
      "byteLimit": 2048000,
      "rowLimit": 10000
     },
     "inputWidgets": {},
     "nuid": "d9f05e7c-6004-40b1-ad05-c2b964cbfce6",
     "showTitle": false,
     "tableResultSettingsMap": {},
     "title": ""
    }
   },
   "outputs": [],
   "source": [
    "inadimplencia_kmeans = df_clusters_ar0.groupby('cluster_kmeans').agg(\n",
    "    inadimplencia_real=('target', 'mean'),\n",
    "    inadimplencia_predita=('y_pred_lgbm_ar0', 'mean')\n",
    ").reset_index()\n",
    "\n",
    "inadimplencia_kmeans['inadimplencia_real'] *= 100\n",
    "inadimplencia_kmeans['inadimplencia_predita'] *= 100\n",
    "\n",
    "inadimplencia_kmeans"
   ]
  },
  {
   "cell_type": "code",
   "execution_count": 0,
   "metadata": {
    "application/vnd.databricks.v1+cell": {
     "cellMetadata": {
      "byteLimit": 2048000,
      "rowLimit": 10000
     },
     "inputWidgets": {},
     "nuid": "3e1ec065-49a9-4239-a8a3-bae9164e49b9",
     "showTitle": false,
     "tableResultSettingsMap": {},
     "title": ""
    }
   },
   "outputs": [],
   "source": [
    "fig, ax = plt.subplots(figsize=(10, 6))\n",
    "width = 0.35\n",
    "\n",
    "bars_real = ax.bar(inadimplencia_kmeans['cluster_kmeans'] - width/2, inadimplencia_kmeans['inadimplencia_real'], width, label='Inadimplência Real')\n",
    "bars_predita = ax.bar(inadimplencia_kmeans['cluster_kmeans'] + width/2, inadimplencia_kmeans['inadimplencia_predita'], width, label='Inadimplência Predita')\n",
    "\n",
    "ax.set_xlabel('Cluster KMeans')\n",
    "ax.set_ylabel('Inadimplência (%)')\n",
    "ax.set_title('Inadimplência Real vs Predita por Cluster KMeans')\n",
    "ax.legend()\n",
    "\n",
    "for bar in bars_real:\n",
    "    height = bar.get_height()\n",
    "    ax.annotate(f'{height:.0f}%', xy=(bar.get_x() + bar.get_width() / 2, height),\n",
    "                xytext=(0, 3), textcoords=\"offset points\", ha='center', va='bottom')\n",
    "\n",
    "for bar in bars_predita:\n",
    "    height = bar.get_height()\n",
    "    ax.annotate(f'{height:.0f}%', xy=(bar.get_x() + bar.get_width() / 2, height),\n",
    "                xytext=(0, 3), textcoords=\"offset points\", ha='center', va='bottom')\n",
    "\n",
    "plt.show()"
   ]
  },
  {
   "cell_type": "code",
   "execution_count": 0,
   "metadata": {
    "application/vnd.databricks.v1+cell": {
     "cellMetadata": {
      "byteLimit": 2048000,
      "rowLimit": 10000
     },
     "inputWidgets": {},
     "nuid": "c4b993a6-4999-4c0b-8e72-6f1a8ba3a415",
     "showTitle": false,
     "tableResultSettingsMap": {},
     "title": ""
    }
   },
   "outputs": [],
   "source": [
    "inadimplencia_hdbscan = df_clusters_ar0.groupby('cluster_hdbscan').agg(\n",
    "    inadimplencia_real=('target', 'mean'),\n",
    "    inadimplencia_predita=('y_pred_lgbm_ar0', 'mean')\n",
    ").reset_index()\n",
    "\n",
    "inadimplencia_hdbscan['inadimplencia_real'] *= 100\n",
    "inadimplencia_hdbscan['inadimplencia_predita'] *= 100\n",
    "\n",
    "inadimplencia_hdbscan"
   ]
  },
  {
   "cell_type": "code",
   "execution_count": 0,
   "metadata": {
    "application/vnd.databricks.v1+cell": {
     "cellMetadata": {
      "byteLimit": 2048000,
      "rowLimit": 10000
     },
     "inputWidgets": {},
     "nuid": "7b1d3dbb-b426-4553-81c2-edb4f75a7da1",
     "showTitle": false,
     "tableResultSettingsMap": {},
     "title": ""
    }
   },
   "outputs": [],
   "source": [
    "fig, ax = plt.subplots(figsize=(10, 6))\n",
    "width = 0.35\n",
    "\n",
    "bars_real = ax.bar(inadimplencia_hdbscan['cluster_hdbscan'] - width/2, inadimplencia_hdbscan['inadimplencia_real'], width, label='Inadimplência Real')\n",
    "bars_predita = ax.bar(inadimplencia_hdbscan['cluster_hdbscan'] + width/2, inadimplencia_hdbscan['inadimplencia_predita'], width, label='Inadimplência Predita')\n",
    "\n",
    "ax.set_xlabel('Cluster HDBSCAN')\n",
    "ax.set_ylabel('Inadimplência (%)')\n",
    "ax.set_title('Inadimplência Real vs Predita por Cluster HDBSCAN')\n",
    "ax.legend()\n",
    "\n",
    "for bar in bars_real:\n",
    "    height = bar.get_height()\n",
    "    ax.annotate(f'{height:.0f}%', xy=(bar.get_x() + bar.get_width() / 2, height),\n",
    "                xytext=(0, 3), textcoords=\"offset points\", ha='center', va='bottom')\n",
    "\n",
    "for bar in bars_predita:\n",
    "    height = bar.get_height()\n",
    "    ax.annotate(f'{height:.0f}%', xy=(bar.get_x() + bar.get_width() / 2, height),\n",
    "                xytext=(0, 3), textcoords=\"offset points\", ha='center', va='bottom')\n",
    "\n",
    "plt.show()"
   ]
  },
  {
   "cell_type": "markdown",
   "metadata": {
    "application/vnd.databricks.v1+cell": {
     "cellMetadata": {
      "byteLimit": 2048000,
      "rowLimit": 10000
     },
     "inputWidgets": {},
     "nuid": "b88db4e1-35d1-4688-adbc-d1ad2637a43c",
     "showTitle": false,
     "tableResultSettingsMap": {},
     "title": ""
    }
   },
   "source": [
    "## Modelo AR1"
   ]
  },
  {
   "cell_type": "code",
   "execution_count": 0,
   "metadata": {
    "application/vnd.databricks.v1+cell": {
     "cellMetadata": {
      "byteLimit": 2048000,
      "rowLimit": 10000
     },
     "inputWidgets": {},
     "nuid": "4cc71920-c665-4ce8-8b3b-d9510c9e2c7d",
     "showTitle": false,
     "tableResultSettingsMap": {},
     "title": ""
    }
   },
   "outputs": [],
   "source": [
    "inadimplencia_kmeans = df_clusters_ar1.groupby('cluster_kmeans').agg(\n",
    "    inadimplencia_real=('target', 'mean'),\n",
    "    inadimplencia_predita=('y_pred_log_ar1', 'mean')\n",
    ").reset_index()\n",
    "\n",
    "inadimplencia_kmeans['inadimplencia_real'] *= 100\n",
    "inadimplencia_kmeans['inadimplencia_predita'] *= 100\n",
    "\n",
    "inadimplencia_kmeans"
   ]
  },
  {
   "cell_type": "code",
   "execution_count": 0,
   "metadata": {
    "application/vnd.databricks.v1+cell": {
     "cellMetadata": {
      "byteLimit": 2048000,
      "rowLimit": 10000
     },
     "inputWidgets": {},
     "nuid": "c83fd70e-6df2-4bb3-8094-99fcd3d44cad",
     "showTitle": false,
     "tableResultSettingsMap": {},
     "title": ""
    }
   },
   "outputs": [],
   "source": [
    "fig, ax = plt.subplots(figsize=(10, 6))\n",
    "width = 0.35\n",
    "\n",
    "bars_real = ax.bar(inadimplencia_kmeans['cluster_kmeans'] - width/2, inadimplencia_kmeans['inadimplencia_real'], width, label='Inadimplência Real')\n",
    "bars_predita = ax.bar(inadimplencia_kmeans['cluster_kmeans'] + width/2, inadimplencia_kmeans['inadimplencia_predita'], width, label='Inadimplência Predita')\n",
    "\n",
    "ax.set_xlabel('Cluster KMeans')\n",
    "ax.set_ylabel('Inadimplência (%)')\n",
    "ax.set_title('Inadimplência Real vs Predita por Cluster KMeans')\n",
    "ax.legend()\n",
    "\n",
    "for bar in bars_real:\n",
    "    height = bar.get_height()\n",
    "    ax.annotate(f'{height:.0f}%', xy=(bar.get_x() + bar.get_width() / 2, height),\n",
    "                xytext=(0, 3), textcoords=\"offset points\", ha='center', va='bottom')\n",
    "\n",
    "for bar in bars_predita:\n",
    "    height = bar.get_height()\n",
    "    ax.annotate(f'{height:.0f}%', xy=(bar.get_x() + bar.get_width() / 2, height),\n",
    "                xytext=(0, 3), textcoords=\"offset points\", ha='center', va='bottom')\n",
    "\n",
    "plt.show()"
   ]
  },
  {
   "cell_type": "code",
   "execution_count": 0,
   "metadata": {
    "application/vnd.databricks.v1+cell": {
     "cellMetadata": {
      "byteLimit": 2048000,
      "rowLimit": 10000
     },
     "inputWidgets": {},
     "nuid": "a88925b0-f44b-4849-a216-3a036cd10a38",
     "showTitle": false,
     "tableResultSettingsMap": {},
     "title": ""
    }
   },
   "outputs": [],
   "source": [
    "inadimplencia_hdbscan = df_clusters_ar1.groupby('cluster_hdbscan').agg(\n",
    "    inadimplencia_real=('target', 'mean'),\n",
    "    inadimplencia_predita=('y_pred_log_ar1', 'mean')\n",
    ").reset_index()\n",
    "\n",
    "inadimplencia_hdbscan['inadimplencia_real'] *= 100\n",
    "inadimplencia_hdbscan['inadimplencia_predita'] *= 100\n",
    "\n",
    "inadimplencia_hdbscan"
   ]
  },
  {
   "cell_type": "code",
   "execution_count": 0,
   "metadata": {
    "application/vnd.databricks.v1+cell": {
     "cellMetadata": {
      "byteLimit": 2048000,
      "rowLimit": 10000
     },
     "inputWidgets": {},
     "nuid": "8bc9e3e4-5178-4843-9807-5439238a169d",
     "showTitle": false,
     "tableResultSettingsMap": {},
     "title": ""
    }
   },
   "outputs": [],
   "source": [
    "fig, ax = plt.subplots(figsize=(10, 6))\n",
    "width = 0.35\n",
    "\n",
    "bars_real = ax.bar(inadimplencia_hdbscan['cluster_hdbscan'] - width/2, inadimplencia_hdbscan['inadimplencia_real'], width, label='Inadimplência Real')\n",
    "bars_predita = ax.bar(inadimplencia_hdbscan['cluster_hdbscan'] + width/2, inadimplencia_hdbscan['inadimplencia_predita'], width, label='Inadimplência Predita')\n",
    "\n",
    "ax.set_xlabel('Cluster HDBSCAN')\n",
    "ax.set_ylabel('Inadimplência (%)')\n",
    "ax.set_title('Inadimplência Real vs Predita por Cluster HDBSCAN')\n",
    "ax.legend()\n",
    "\n",
    "for bar in bars_real:\n",
    "    height = bar.get_height()\n",
    "    ax.annotate(f'{height:.0f}%', xy=(bar.get_x() + bar.get_width() / 2, height),\n",
    "                xytext=(0, 3), textcoords=\"offset points\", ha='center', va='bottom')\n",
    "\n",
    "for bar in bars_predita:\n",
    "    height = bar.get_height()\n",
    "    ax.annotate(f'{height:.0f}%', xy=(bar.get_x() + bar.get_width() / 2, height),\n",
    "                xytext=(0, 3), textcoords=\"offset points\", ha='center', va='bottom')\n",
    "\n",
    "plt.show()"
   ]
  },
  {
   "cell_type": "code",
   "execution_count": 0,
   "metadata": {
    "application/vnd.databricks.v1+cell": {
     "cellMetadata": {
      "byteLimit": 2048000,
      "rowLimit": 10000
     },
     "inputWidgets": {},
     "nuid": "db4bee37-43e9-4530-9617-a1b1a018c2af",
     "showTitle": false,
     "tableResultSettingsMap": {},
     "title": ""
    }
   },
   "outputs": [],
   "source": []
  }
 ],
 "metadata": {
  "application/vnd.databricks.v1+notebook": {
   "computePreferences": null,
   "dashboards": [],
   "environmentMetadata": {
    "base_environment": "",
    "environment_version": "2"
   },
   "inputWidgetPreferences": null,
   "language": "python",
   "notebookMetadata": {
    "pythonIndentUnit": 4
   },
   "notebookName": "06.Nao_Supervisionado",
   "widgets": {}
  },
  "language_info": {
   "name": "python"
  }
 },
 "nbformat": 4,
 "nbformat_minor": 0
}
