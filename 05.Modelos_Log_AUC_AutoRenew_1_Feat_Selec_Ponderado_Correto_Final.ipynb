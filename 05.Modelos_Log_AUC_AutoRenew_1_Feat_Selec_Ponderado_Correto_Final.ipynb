{
 "cells": [
  {
   "cell_type": "markdown",
   "metadata": {
    "application/vnd.databricks.v1+cell": {
     "cellMetadata": {
      "byteLimit": 2048000,
      "rowLimit": 10000
     },
     "inputWidgets": {},
     "nuid": "be4bf637-bb46-4acf-89e3-053970a81d29",
     "showTitle": false,
     "tableResultSettingsMap": {},
     "title": ""
    }
   },
   "source": [
    "## Imports"
   ]
  },
  {
   "cell_type": "code",
   "execution_count": 0,
   "metadata": {
    "application/vnd.databricks.v1+cell": {
     "cellMetadata": {
      "byteLimit": 2048000,
      "rowLimit": 10000
     },
     "inputWidgets": {},
     "nuid": "8a253321-042b-4c17-a1ad-6f8dd047cd3f",
     "showTitle": false,
     "tableResultSettingsMap": {},
     "title": ""
    }
   },
   "outputs": [],
   "source": [
    "import matplotlib.pyplot as plt\n",
    "import numpy as np\n",
    "import pandas as pd\n",
    "import pyspark\n",
    "import pyspark.sql.functions as F\n",
    "from pyspark.sql.window import Window\n",
    "from pyspark.sql.types import *\n",
    "from pyspark.sql import DataFrame, SparkSession\n",
    "\n",
    "from sklearn.metrics import roc_auc_score, precision_score, recall_score, f1_score, accuracy_score, confusion_matrix, roc_curve, auc\n",
    "import seaborn as sns\n",
    "from sklearn.metrics import roc_curve, auc, confusion_matrix, classification_report, precision_recall_curve\n",
    "from scipy.stats import ks_2samp\n",
    "from scipy import stats\n",
    "\n",
    "from sklearn.linear_model import LogisticRegression\n",
    "from sklearn.model_selection import GridSearchCV, cross_val_score, cross_val_predict\n",
    "from sklearn.metrics import roc_auc_score\n",
    "from hyperopt import fmin, tpe, hp, STATUS_OK, Trials\n",
    "from sklearn.preprocessing import StandardScaler, OneHotEncoder\n",
    "\n",
    "import shap"
   ]
  },
  {
   "cell_type": "markdown",
   "metadata": {
    "application/vnd.databricks.v1+cell": {
     "cellMetadata": {
      "byteLimit": 2048000,
      "rowLimit": 10000
     },
     "inputWidgets": {},
     "nuid": "adb93949-22e6-4b24-b00e-bebf4f6d78d0",
     "showTitle": false,
     "tableResultSettingsMap": {},
     "title": ""
    }
   },
   "source": [
    "## Funções Objetivo"
   ]
  },
  {
   "cell_type": "code",
   "execution_count": 0,
   "metadata": {
    "application/vnd.databricks.v1+cell": {
     "cellMetadata": {
      "byteLimit": 2048000,
      "rowLimit": 10000
     },
     "collapsed": true,
     "inputWidgets": {},
     "nuid": "74669fdd-2de3-4127-b692-6dd1214c93f9",
     "showTitle": false,
     "tableResultSettingsMap": {},
     "title": ""
    }
   },
   "outputs": [],
   "source": [
    "def plot_roc_curve(model, X_test, y_test):\n",
    "    y_pred_proba = model.predict_proba(X_test)[:, 1]\n",
    "    fpr, tpr, _ = roc_curve(y_test, y_pred_proba)\n",
    "    roc_auc = auc(fpr, tpr)\n",
    "    \n",
    "    plt.figure()\n",
    "    plt.plot(fpr, tpr, color='darkorange', lw=2, label='ROC curve (area = %0.2f)' % roc_auc)\n",
    "    plt.plot([0, 1], [0, 1], color='navy', lw=2, linestyle='--')\n",
    "    plt.xlim([0.0, 1.0])\n",
    "    plt.ylim([0.0, 1.05])\n",
    "    plt.xlabel('False Positive Rate')\n",
    "    plt.ylabel('True Positive Rate')\n",
    "    plt.title('Receiver Operating Characteristic')\n",
    "    plt.legend(loc=\"lower right\")\n",
    "    plt.show()\n",
    "\n",
    "def plot_confusion_matrix(model, X_test, y_test, threshold):\n",
    "    y_pred_proba = model.predict_proba(X_test)[:, 1]\n",
    "    y_pred = [1 if pred >= threshold else 0 for pred in y_pred_proba]\n",
    "    cm = confusion_matrix(y_test, y_pred)\n",
    "    \n",
    "    plt.figure(figsize=(10, 7))\n",
    "    sns.heatmap(cm, annot=True, fmt='d', cmap='Blues')\n",
    "    plt.xlabel('Predicted')\n",
    "    plt.ylabel('Actual')\n",
    "    plt.title('Confusion Matrix')\n",
    "    plt.show()\n",
    "\n",
    "def plot_feature_importances(model, feature_names):\n",
    "    importances = model.feature_importances_\n",
    "    indices = np.argsort(importances)[::-1]\n",
    "    \n",
    "    plt.figure(figsize=(12, 6))\n",
    "    plt.title('Feature Importances')\n",
    "    plt.bar(range(len(importances)), importances[indices], align='center')\n",
    "    plt.xticks(range(len(importances)), [feature_names[i] for i in indices], rotation=90)\n",
    "    plt.tight_layout()\n",
    "    plt.show()\n",
    "\n",
    "def plot_classification_report(model, X_test, y_test, threshold):\n",
    "    y_pred_proba = model.predict_proba(X_test)[:, 1]\n",
    "    y_pred = [1 if pred >= threshold else 0 for pred in y_pred_proba]\n",
    "    report = classification_report(y_test, y_pred, output_dict=True)\n",
    "    \n",
    "    plt.figure(figsize=(10, 6))\n",
    "    sns.heatmap(pd.DataFrame(report).iloc[:-1, :].T, annot=True, cmap='Blues')\n",
    "    plt.title('Classification Report')\n",
    "    plt.show()"
   ]
  },
  {
   "cell_type": "code",
   "execution_count": 0,
   "metadata": {
    "application/vnd.databricks.v1+cell": {
     "cellMetadata": {
      "byteLimit": 2048000,
      "rowLimit": 10000
     },
     "collapsed": true,
     "inputWidgets": {},
     "nuid": "f522e401-1a57-4006-a79a-861b53c2574c",
     "showTitle": false,
     "tableResultSettingsMap": {},
     "title": ""
    }
   },
   "outputs": [],
   "source": [
    "def ks_grouped_by_safra(df, target_col, prob_col, safras):\n",
    "    ks_df = pd.DataFrame(columns=['safra', 'ks_stat', 'p_value'])\n",
    "    for safra in sorted(safras):\n",
    "        df_safra = df[df['safra'] == safra]\n",
    "        ks_stat, p_value = stats.ks_2samp(df_safra[df_safra[target_col] == 1][prob_col], df_safra[df_safra[target_col] == 0][prob_col])\n",
    "        ks_df = ks_df.append({'safra': safra, 'ks_stat': ks_stat, 'p_value': p_value}, ignore_index=True)\n",
    "    return ks_df"
   ]
  },
  {
   "cell_type": "code",
   "execution_count": 0,
   "metadata": {
    "application/vnd.databricks.v1+cell": {
     "cellMetadata": {
      "byteLimit": 2048000,
      "rowLimit": 10000
     },
     "collapsed": true,
     "inputWidgets": {},
     "nuid": "19a4cfd2-cc14-4962-9849-69f572d2ca6f",
     "showTitle": false,
     "tableResultSettingsMap": {},
     "title": ""
    }
   },
   "outputs": [],
   "source": [
    "def calculate_churn_percentage(df, target_col, pred_col, pred_col_bin, threshold):\n",
    "    actual_churn_rate = df[target_col].mean()\n",
    "    df[pred_col_bin] = (df[pred_col] >= threshold).astype(int)\n",
    "    predicted_churn_rate = df[pred_col_bin].mean()\n",
    "    return actual_churn_rate, predicted_churn_rate\n",
    "\n",
    "def calculate_churn_by_safra(df, target_col, pred_col):\n",
    "    grouped = df.groupby('safra').agg(\n",
    "        actual_churn_rate=(target_col, 'mean'),\n",
    "        predicted_churn_rate=(pred_col, 'mean')\n",
    "    ).reset_index()\n",
    "    return grouped"
   ]
  },
  {
   "cell_type": "code",
   "execution_count": 0,
   "metadata": {
    "application/vnd.databricks.v1+cell": {
     "cellMetadata": {
      "byteLimit": 2048000,
      "rowLimit": 10000
     },
     "collapsed": true,
     "inputWidgets": {},
     "nuid": "615d5f14-e450-4cbc-a4c2-114e62238c9c",
     "showTitle": false,
     "tableResultSettingsMap": {},
     "title": ""
    }
   },
   "outputs": [],
   "source": [
    "\n",
    "def balance_dataset(df, target_col):\n",
    "    counts = df.groupBy(target_col).count().collect()\n",
    "    min_count = min(row['count'] for row in counts)\n",
    "    \n",
    "    fractions = {row[target_col]: min_count / row['count'] for row in counts}\n",
    "    balanced_df = df.sampleBy(target_col, fractions, seed=42)\n",
    "    \n",
    "    return balanced_df"
   ]
  },
  {
   "cell_type": "markdown",
   "metadata": {
    "application/vnd.databricks.v1+cell": {
     "cellMetadata": {
      "byteLimit": 2048000,
      "rowLimit": 10000
     },
     "inputWidgets": {},
     "nuid": "d6fbbfd1-b8f2-45d9-909e-26710dac0d6f",
     "showTitle": false,
     "tableResultSettingsMap": {},
     "title": ""
    }
   },
   "source": [
    "## Base de Modelagem"
   ]
  },
  {
   "cell_type": "code",
   "execution_count": 0,
   "metadata": {
    "application/vnd.databricks.v1+cell": {
     "cellMetadata": {
      "byteLimit": 2048000,
      "rowLimit": 10000
     },
     "inputWidgets": {},
     "nuid": "d58130bc-36ea-454e-b0d5-535f76b7a53f",
     "showTitle": false,
     "tableResultSettingsMap": {},
     "title": ""
    }
   },
   "outputs": [],
   "source": [
    "base_spine = spark.table('sand_riscos_pm_pf.t789778_base_spine_norm_log')\n",
    "base_spine"
   ]
  },
  {
   "cell_type": "markdown",
   "metadata": {
    "application/vnd.databricks.v1+cell": {
     "cellMetadata": {
      "byteLimit": 2048000,
      "rowLimit": 10000
     },
     "inputWidgets": {},
     "nuid": "f8548306-b932-4f6c-8847-f856d962be0d",
     "showTitle": false,
     "tableResultSettingsMap": {},
     "title": ""
    }
   },
   "source": [
    "## Variáveis"
   ]
  },
  {
   "cell_type": "code",
   "execution_count": 0,
   "metadata": {
    "application/vnd.databricks.v1+cell": {
     "cellMetadata": {
      "byteLimit": 2048000,
      "rowLimit": 10000
     },
     "inputWidgets": {},
     "nuid": "fddbf32c-2cd9-4e06-8078-3b5da4da6dd5",
     "showTitle": false,
     "tableResultSettingsMap": {},
     "title": ""
    }
   },
   "outputs": [],
   "source": [
    "id_vars = ['msno', 'safra']\n",
    "target = ['target']"
   ]
  },
  {
   "cell_type": "code",
   "execution_count": 0,
   "metadata": {
    "application/vnd.databricks.v1+cell": {
     "cellMetadata": {
      "byteLimit": 2048000,
      "rowLimit": 10000
     },
     "inputWidgets": {},
     "nuid": "b69bbe5f-ac0e-428f-908b-1e298c056bad",
     "showTitle": false,
     "tableResultSettingsMap": {},
     "title": ""
    }
   },
   "outputs": [],
   "source": [
    "variaveis = ['actual_amount_paid_1m',\n",
    " 'payment_method_id_1m_index_22_0',\n",
    " 'payment_method_id_1m_index_21_0',\n",
    " 'payment_method_id_1m_index_12_0',\n",
    " 'payment_method_id_1m_index_13_0',\n",
    " 'gender_1m_index_0_0',\n",
    " 'payment_method_id_1m_index_0_0',\n",
    " 'age_group_1m_index_2_0',\n",
    " 'city_1m_index_17_0',\n",
    " 'age_group_1m_index_6_0',\n",
    " 'city_1m_index_1_0',\n",
    " 'city_1m_index_16_0',\n",
    " 'actual_amount_paid_max_2m',\n",
    " 'payment_method_id_1m_index_3_0',\n",
    " 'city_1m_index_4_0',\n",
    " 'payment_method_id_1m_index_1_0',\n",
    " 'city_1m_index_5_0',\n",
    " 'actual_amount_paid_avg_3m',\n",
    " 'city_1m_index_10_0',\n",
    " 'city_1m_index_18_0',\n",
    " 'gender_1m_index_2_0',\n",
    " 'city_1m_index_8_0',\n",
    " 'city_1m_index_9_0',\n",
    " 'city_1m_index_7_0',\n",
    " 'payment_method_id_1m_index_5_0',\n",
    " 'actual_amount_paid_median_4m',\n",
    " 'city_1m_index_12_0',\n",
    " 'actual_amount_paid_min_2m',\n",
    " 'actual_amount_paid_median_2m',\n",
    " 'city_1m_index_15_0',\n",
    " 'payment_method_id_1m_index_8_0',\n",
    " 'payment_plan_days_1m',\n",
    " 'actual_amount_paid_min_3m',\n",
    " 'age_group_1m_index_5_0',\n",
    " 'age_group_1m_index_3_0',\n",
    " 'city_1m_index_0_0',\n",
    " 'age_group_1m_index_0_0',\n",
    " 'payment_method_id_1m_index_16_0',\n",
    " 'payment_method_id_1m_index_18_0',\n",
    " 'payment_method_id_1m_index_9_0',\n",
    " 'payment_method_id_1m_index_7_0']"
   ]
  },
  {
   "cell_type": "code",
   "execution_count": 0,
   "metadata": {
    "application/vnd.databricks.v1+cell": {
     "cellMetadata": {
      "byteLimit": 2048000,
      "rowLimit": 10000
     },
     "inputWidgets": {},
     "nuid": "ffd32356-5495-43bc-9d7b-42b730342d61",
     "showTitle": false,
     "tableResultSettingsMap": {},
     "title": ""
    }
   },
   "outputs": [],
   "source": [
    "len(variaveis)"
   ]
  },
  {
   "cell_type": "markdown",
   "metadata": {
    "application/vnd.databricks.v1+cell": {
     "cellMetadata": {
      "byteLimit": 2048000,
      "rowLimit": 10000
     },
     "inputWidgets": {},
     "nuid": "cb73e39d-bd22-4031-a1e6-ce06922eadaa",
     "showTitle": false,
     "tableResultSettingsMap": {},
     "title": ""
    }
   },
   "source": [
    "## Treino - Teste - Validação"
   ]
  },
  {
   "cell_type": "code",
   "execution_count": 0,
   "metadata": {
    "application/vnd.databricks.v1+cell": {
     "cellMetadata": {
      "byteLimit": 2048000,
      "rowLimit": 10000
     },
     "inputWidgets": {},
     "nuid": "ac78c0ae-5b05-44ba-87d1-bbc498b8c675",
     "showTitle": false,
     "tableResultSettingsMap": {},
     "title": ""
    }
   },
   "outputs": [],
   "source": [
    "train_data = base_spine.filter(~F.col('safra').isin(201601)).filter(F.col('safra').between(201505,201604)).select(id_vars+variaveis+target).toPandas()\n",
    "test_data = base_spine.filter(F.col('safra').between(201605,201607)).select(id_vars+variaveis+target).toPandas()\n",
    "validation_data = base_spine.filter(F.col('safra').between(201608,201611)).select(id_vars+variaveis+target).toPandas()"
   ]
  },
  {
   "cell_type": "code",
   "execution_count": 0,
   "metadata": {
    "application/vnd.databricks.v1+cell": {
     "cellMetadata": {
      "byteLimit": 2048000,
      "rowLimit": 10000
     },
     "inputWidgets": {},
     "nuid": "44fdd5ad-d442-4587-9ae5-d54c4753f4c5",
     "showTitle": false,
     "tableResultSettingsMap": {},
     "title": ""
    }
   },
   "outputs": [],
   "source": [
    "X_train, y_train = train_data[variaveis], train_data[target]\n",
    "X_test, y_test = test_data[variaveis], test_data[target]\n",
    "X_val, y_val = validation_data[variaveis], validation_data[target]"
   ]
  },
  {
   "cell_type": "markdown",
   "metadata": {
    "application/vnd.databricks.v1+cell": {
     "cellMetadata": {
      "byteLimit": 2048000,
      "rowLimit": 10000
     },
     "inputWidgets": {},
     "nuid": "460cacc0-c6a1-494f-9745-702efbcc0891",
     "showTitle": false,
     "tableResultSettingsMap": {},
     "title": ""
    }
   },
   "source": [
    "# Regressão Logística"
   ]
  },
  {
   "cell_type": "markdown",
   "metadata": {
    "application/vnd.databricks.v1+cell": {
     "cellMetadata": {
      "byteLimit": 2048000,
      "rowLimit": 10000
     },
     "inputWidgets": {},
     "nuid": "ed8f03d4-de36-41d4-a19e-84034705205b",
     "showTitle": false,
     "tableResultSettingsMap": {},
     "title": ""
    }
   },
   "source": [
    "## Optimização de Hiperparâmetros"
   ]
  },
  {
   "cell_type": "code",
   "execution_count": 0,
   "metadata": {
    "application/vnd.databricks.v1+cell": {
     "cellMetadata": {
      "byteLimit": 2048000,
      "rowLimit": 10000
     },
     "inputWidgets": {},
     "nuid": "cf7507dd-5872-4e2e-818b-1bb75a934315",
     "showTitle": false,
     "tableResultSettingsMap": {},
     "title": ""
    }
   },
   "outputs": [],
   "source": [
    "def objective(params):\n",
    "    clf = LogisticRegression(**params)\n",
    "    score = cross_val_score(clf, X_train, y_train, scoring='roc_auc', cv=5).mean()\n",
    "    return {'loss': -score, 'status': STATUS_OK}"
   ]
  },
  {
   "cell_type": "code",
   "execution_count": 0,
   "metadata": {
    "application/vnd.databricks.v1+cell": {
     "cellMetadata": {
      "byteLimit": 2048000,
      "rowLimit": 10000
     },
     "inputWidgets": {},
     "nuid": "9dce1696-91b6-456a-a47c-d341d0791a1c",
     "showTitle": false,
     "tableResultSettingsMap": {},
     "title": ""
    }
   },
   "outputs": [],
   "source": [
    "space = {\n",
    "    'C': hp.loguniform('C', -4, 4),\n",
    "    'solver': hp.choice('solver', ['liblinear', 'saga']),\n",
    "    'max_iter': hp.choice('max_iter', [100, 200, 300]),\n",
    "    # 'class_weight': hp.choice('class_weight', ['balanced'])\n",
    "    'penalty': hp.choice('penalty', ['l1', 'l2'])\n",
    "}"
   ]
  },
  {
   "cell_type": "code",
   "execution_count": 0,
   "metadata": {
    "application/vnd.databricks.v1+cell": {
     "cellMetadata": {
      "byteLimit": 2048000,
      "rowLimit": 10000
     },
     "inputWidgets": {},
     "nuid": "fd00772c-5c30-4969-8230-fddf507e39fc",
     "showTitle": false,
     "tableResultSettingsMap": {},
     "title": ""
    }
   },
   "outputs": [],
   "source": [
    "trials = Trials()"
   ]
  },
  {
   "cell_type": "code",
   "execution_count": 0,
   "metadata": {
    "application/vnd.databricks.v1+cell": {
     "cellMetadata": {
      "byteLimit": 2048000,
      "rowLimit": 10000
     },
     "collapsed": true,
     "inputWidgets": {},
     "nuid": "10fb82f5-f540-48af-b4c2-3e61280fe1e0",
     "showTitle": false,
     "tableResultSettingsMap": {},
     "title": ""
    }
   },
   "outputs": [],
   "source": [
    "# best_params = fmin(fn=objective, \n",
    "#                    space=space, \n",
    "#                    algo=tpe.suggest, \n",
    "#                    max_evals=50, \n",
    "#                    trials=trials)"
   ]
  },
  {
   "cell_type": "code",
   "execution_count": 0,
   "metadata": {
    "application/vnd.databricks.v1+cell": {
     "cellMetadata": {
      "byteLimit": 2048000,
      "rowLimit": 10000
     },
     "inputWidgets": {},
     "nuid": "123d016a-bf53-4e1d-9bd7-edc5f457e09f",
     "showTitle": false,
     "tableResultSettingsMap": {},
     "title": ""
    }
   },
   "outputs": [],
   "source": [
    "# best_params['solver'] = ['liblinear','saga'][best_params['solver']]\n",
    "# best_params['max_iter'] = [100, 200, 300][best_params['max_iter']]\n",
    "# # best_params['class_weight'] = ['balanced'][best_params['class_weight']]\n",
    "# best_params['penalty'] = ['l1', 'l2'][best_params['penalty']]"
   ]
  },
  {
   "cell_type": "code",
   "execution_count": 0,
   "metadata": {
    "application/vnd.databricks.v1+cell": {
     "cellMetadata": {
      "byteLimit": 2048000,
      "rowLimit": 10000
     },
     "inputWidgets": {},
     "nuid": "0677b088-dfd3-4969-a803-818e61cf2eac",
     "showTitle": false,
     "tableResultSettingsMap": {},
     "title": ""
    }
   },
   "outputs": [],
   "source": [
    "best_params = {'C': 0.17793176492646195, 'max_iter': 300, 'penalty': 'l1', 'solver': 'saga'}"
   ]
  },
  {
   "cell_type": "code",
   "execution_count": 0,
   "metadata": {
    "application/vnd.databricks.v1+cell": {
     "cellMetadata": {
      "byteLimit": 2048000,
      "rowLimit": 10000
     },
     "inputWidgets": {},
     "nuid": "306e70ab-3347-4df5-bf9d-4c9af128b72c",
     "showTitle": false,
     "tableResultSettingsMap": {},
     "title": ""
    }
   },
   "outputs": [],
   "source": [
    "print(\"Melhores hiperparâmetros para Regressão Logística:\")\n",
    "print(best_params)"
   ]
  },
  {
   "cell_type": "code",
   "execution_count": 0,
   "metadata": {
    "application/vnd.databricks.v1+cell": {
     "cellMetadata": {
      "byteLimit": 2048000,
      "rowLimit": 10000
     },
     "inputWidgets": {},
     "nuid": "b081945e-5561-45e0-82ad-7814b789a0ff",
     "showTitle": false,
     "tableResultSettingsMap": {},
     "title": ""
    }
   },
   "outputs": [],
   "source": [
    "final_log_model = LogisticRegression(**best_params)\n",
    "final_log_model.fit(X_train, y_train)"
   ]
  },
  {
   "cell_type": "markdown",
   "metadata": {
    "application/vnd.databricks.v1+cell": {
     "cellMetadata": {
      "byteLimit": 2048000,
      "rowLimit": 10000
     },
     "inputWidgets": {},
     "nuid": "154483ce-8238-4622-9e30-b2a1748e92d5",
     "showTitle": false,
     "tableResultSettingsMap": {},
     "title": ""
    }
   },
   "source": [
    "## Escorar Bases"
   ]
  },
  {
   "cell_type": "code",
   "execution_count": 0,
   "metadata": {
    "application/vnd.databricks.v1+cell": {
     "cellMetadata": {
      "byteLimit": 2048000,
      "rowLimit": 10000
     },
     "inputWidgets": {},
     "nuid": "f14b63dc-b91d-4133-af31-8f5cec313ba9",
     "showTitle": false,
     "tableResultSettingsMap": {},
     "title": ""
    }
   },
   "outputs": [],
   "source": [
    "train_data_escorado = final_log_model.predict_proba(X_train)[:,1]\n",
    "test_data_escorado = final_log_model.predict_proba(X_test)[:,1]\n",
    "val_data_escorado = final_log_model.predict_proba(X_val)[:,1]"
   ]
  },
  {
   "cell_type": "code",
   "execution_count": 0,
   "metadata": {
    "application/vnd.databricks.v1+cell": {
     "cellMetadata": {
      "byteLimit": 2048000,
      "rowLimit": 10000
     },
     "inputWidgets": {},
     "nuid": "459e13ab-9f6b-463c-ab97-3b89533e6c7c",
     "showTitle": false,
     "tableResultSettingsMap": {},
     "title": ""
    }
   },
   "outputs": [],
   "source": [
    "train_data['score_log'] = train_data_escorado\n",
    "test_data['score_log'] = test_data_escorado\n",
    "validation_data['score_log'] = val_data_escorado"
   ]
  },
  {
   "cell_type": "code",
   "execution_count": 0,
   "metadata": {
    "application/vnd.databricks.v1+cell": {
     "cellMetadata": {
      "byteLimit": 2048000,
      "rowLimit": 10000
     },
     "inputWidgets": {},
     "nuid": "bd5f531f-2179-4951-9f0d-f3c93bf126f7",
     "showTitle": false,
     "tableResultSettingsMap": {},
     "title": ""
    }
   },
   "outputs": [],
   "source": [
    "auc_train = roc_auc_score(train_data['target'], train_data_escorado)\n",
    "auc_test = roc_auc_score(test_data['target'], test_data_escorado)\n",
    "auc_val = roc_auc_score(validation_data['target'], val_data_escorado)"
   ]
  },
  {
   "cell_type": "code",
   "execution_count": 0,
   "metadata": {
    "application/vnd.databricks.v1+cell": {
     "cellMetadata": {
      "byteLimit": 2048000,
      "rowLimit": 10000
     },
     "inputWidgets": {},
     "nuid": "4bf7a7eb-2e20-4493-88f0-53b575863b1c",
     "showTitle": false,
     "tableResultSettingsMap": {},
     "title": ""
    }
   },
   "outputs": [],
   "source": [
    "print(f\"AUC Train: {auc_train:.4f}\")\n",
    "print(f\"AUC Test: {auc_test:.4f}\")\n",
    "print(f\"AUC Validation: {auc_val:.4f}\")"
   ]
  },
  {
   "cell_type": "markdown",
   "metadata": {
    "application/vnd.databricks.v1+cell": {
     "cellMetadata": {
      "byteLimit": 2048000,
      "rowLimit": 10000
     },
     "inputWidgets": {},
     "nuid": "863ed337-93c4-4aec-b9d6-182aac3cfd6a",
     "showTitle": false,
     "tableResultSettingsMap": {},
     "title": ""
    }
   },
   "source": [
    "## Análises"
   ]
  },
  {
   "cell_type": "code",
   "execution_count": 0,
   "metadata": {
    "application/vnd.databricks.v1+cell": {
     "cellMetadata": {
      "byteLimit": 2048000,
      "rowLimit": 10000
     },
     "inputWidgets": {},
     "nuid": "dc165931-f823-4530-8c27-fbd5d36d427e",
     "showTitle": false,
     "tableResultSettingsMap": {},
     "title": ""
    }
   },
   "outputs": [],
   "source": [
    "plt.hist(train_data['score_log'], bins=100, alpha=0.5, label='Train')\n",
    "plt.hist(test_data['score_log'], bins=100, alpha=0.5, label='Test')\n",
    "plt.hist(validation_data['score_log'], bins=100, alpha=0.5, label='Validation')\n",
    "plt.title('Score LightGBM')\n",
    "plt.xlabel('Score')\n",
    "plt.ylabel('Frequência')\n",
    "plt.legend()"
   ]
  },
  {
   "cell_type": "code",
   "execution_count": 0,
   "metadata": {
    "application/vnd.databricks.v1+cell": {
     "cellMetadata": {
      "byteLimit": 2048000,
      "rowLimit": 10000
     },
     "inputWidgets": {},
     "nuid": "754cddd5-de0d-4745-98ea-f679f549549e",
     "showTitle": false,
     "tableResultSettingsMap": {},
     "title": ""
    }
   },
   "outputs": [],
   "source": [
    "plt.hist(train_data[train_data['target']==0]['score_log'], bins=100, alpha=0.5, label='Train')\n",
    "plt.hist(test_data[test_data['target']==0]['score_log'], bins=100, alpha=0.5, label='Test')\n",
    "plt.hist(validation_data[validation_data['target']==0]['score_log'], bins=100, alpha=0.5, label='Validation')\n",
    "plt.title('Score LightGBM Target 0')\n",
    "plt.xlabel('Score')\n",
    "plt.ylabel('Frequência')\n",
    "plt.legend()"
   ]
  },
  {
   "cell_type": "code",
   "execution_count": 0,
   "metadata": {
    "application/vnd.databricks.v1+cell": {
     "cellMetadata": {
      "byteLimit": 2048000,
      "rowLimit": 10000
     },
     "inputWidgets": {},
     "nuid": "137aa43b-a421-4b0b-a310-b834b3f45a7e",
     "showTitle": false,
     "tableResultSettingsMap": {},
     "title": ""
    }
   },
   "outputs": [],
   "source": [
    "plt.hist(train_data[train_data['target']==1]['score_log'], bins=100, alpha=0.5, label='Train')\n",
    "plt.hist(test_data[test_data['target']==1]['score_log'], bins=100, alpha=0.5, label='Test')\n",
    "plt.hist(validation_data[validation_data['target']==1]['score_log'], bins=100, alpha=0.5, label='Validation')\n",
    "plt.title('Score LightGBM Target 1')\n",
    "plt.xlabel('Score')\n",
    "plt.ylabel('Frequência')\n",
    "plt.legend()"
   ]
  },
  {
   "cell_type": "code",
   "execution_count": 0,
   "metadata": {
    "application/vnd.databricks.v1+cell": {
     "cellMetadata": {
      "byteLimit": 2048000,
      "rowLimit": 10000
     },
     "inputWidgets": {},
     "nuid": "7ae29183-87ff-4e77-aad3-4f3bf2dbe599",
     "showTitle": false,
     "tableResultSettingsMap": {},
     "title": ""
    }
   },
   "outputs": [],
   "source": [
    "thresholds = np.arange(0.0, 1.05, 0.005)\n",
    "f1_scores = []\n",
    "best_threshold = 0\n",
    "best_f1_score = 0\n",
    "\n",
    "for threshold in thresholds:\n",
    "    y_pred_bin = np.where(test_data['score_log'] >= threshold, 1, 0)\n",
    "\n",
    "    f1 = f1_score(test_data['target'], y_pred_bin)\n",
    "    f1_scores.append(f1)\n",
    "\n",
    "    if f1 > best_f1_score:\n",
    "        best_f1_score = f1\n",
    "        best_threshold = threshold\n",
    "\n",
    "\n",
    "print(f\"Melhor Threshold: {best_threshold:.2f}\")\n",
    "print(f\"Melhor F1-Score: {best_f1_score:.4f}\")"
   ]
  },
  {
   "cell_type": "code",
   "execution_count": 0,
   "metadata": {
    "application/vnd.databricks.v1+cell": {
     "cellMetadata": {
      "byteLimit": 2048000,
      "rowLimit": 10000
     },
     "inputWidgets": {},
     "nuid": "5f736540-88a1-48ef-82c4-f2980c35e128",
     "showTitle": false,
     "tableResultSettingsMap": {},
     "title": ""
    }
   },
   "outputs": [],
   "source": [
    "thresholds_f1_scores = list(zip(thresholds, f1_scores))\n",
    "thresholds_f1_scores"
   ]
  },
  {
   "cell_type": "code",
   "execution_count": 0,
   "metadata": {
    "application/vnd.databricks.v1+cell": {
     "cellMetadata": {
      "byteLimit": 2048000,
      "rowLimit": 10000
     },
     "inputWidgets": {},
     "nuid": "8fb4a567-716b-4bad-a286-d0f149d222f9",
     "showTitle": false,
     "tableResultSettingsMap": {},
     "title": ""
    }
   },
   "outputs": [],
   "source": [
    "plt.figure(figsize=(10, 6))\n",
    "plt.scatter(thresholds, f1_scores)\n",
    "plt.xlabel('Thresholds')\n",
    "plt.ylabel('F1-Scores')\n",
    "\n",
    "max_f1_score = max(f1_scores)\n",
    "max_f1_index = f1_scores.index(max_f1_score)\n",
    "max_f1_threshold = thresholds[max_f1_index]\n",
    "\n",
    "plt.annotate(f'Max F1-Score: {max_f1_score:.4f}\\n(x, y) = ({max_f1_threshold:.2f}, {max_f1_score:.4f})', \n",
    "             xy=(max_f1_threshold, max_f1_score), \n",
    "             xytext=(max_f1_threshold, max_f1_score + 0.09),\n",
    "             arrowprops=dict(facecolor='black', shrink=0.05))\n",
    "\n",
    "plt.show()"
   ]
  },
  {
   "cell_type": "code",
   "execution_count": 0,
   "metadata": {
    "application/vnd.databricks.v1+cell": {
     "cellMetadata": {
      "byteLimit": 2048000,
      "rowLimit": 10000
     },
     "inputWidgets": {},
     "nuid": "eac7fb55-c447-4376-bf0e-8dfcf2830f07",
     "showTitle": false,
     "tableResultSettingsMap": {},
     "title": ""
    }
   },
   "outputs": [],
   "source": [
    "best_threshold = 0.49"
   ]
  },
  {
   "cell_type": "code",
   "execution_count": 0,
   "metadata": {
    "application/vnd.databricks.v1+cell": {
     "cellMetadata": {
      "byteLimit": 2048000,
      "rowLimit": 10000
     },
     "inputWidgets": {},
     "nuid": "3f55777a-c84f-4a6d-aa22-7914b0ca9630",
     "showTitle": false,
     "tableResultSettingsMap": {},
     "title": ""
    }
   },
   "outputs": [],
   "source": [
    "y_pred_proba = test_data['score_log']\n",
    "precision, recall, _ = precision_recall_curve(test_data['target'], y_pred_proba)\n",
    "\n",
    "plt.figure(figsize=(10, 6))\n",
    "plt.plot(recall, precision, marker='o')\n",
    "plt.title('Recall vs Precision')\n",
    "plt.xlabel('Recall')\n",
    "plt.ylabel('Precision')\n",
    "plt.show()"
   ]
  },
  {
   "cell_type": "code",
   "execution_count": 0,
   "metadata": {
    "application/vnd.databricks.v1+cell": {
     "cellMetadata": {
      "byteLimit": 2048000,
      "rowLimit": 10000
     },
     "inputWidgets": {},
     "nuid": "17c8611c-d64d-4fa7-b39a-424dd700dfa1",
     "showTitle": false,
     "tableResultSettingsMap": {},
     "title": ""
    }
   },
   "outputs": [],
   "source": [
    "def calculate_model_statistics(y_true, y_pred_proba, threshold):\n",
    "    stats = {}\n",
    "\n",
    "    stats['AUC'] = roc_auc_score(y_true, y_pred_proba)\n",
    "    \n",
    "    y_pred_binary = [1 if pred >= threshold else 0 for pred in y_pred_proba]\n",
    "    \n",
    "    stats['Precision'] = precision_score(y_true, y_pred_binary)\n",
    "    \n",
    "    stats['Recall'] = recall_score(y_true, y_pred_binary)\n",
    "\n",
    "    stats['F1-Score'] = f1_score(y_true, y_pred_binary)\n",
    "    \n",
    "    stats['KS'] = ks_2samp(y_pred_proba[y_true == 1], y_pred_proba[y_true == 0]).statistic\n",
    "    \n",
    "    return stats"
   ]
  },
  {
   "cell_type": "code",
   "execution_count": 0,
   "metadata": {
    "application/vnd.databricks.v1+cell": {
     "cellMetadata": {
      "byteLimit": 2048000,
      "rowLimit": 10000
     },
     "inputWidgets": {},
     "nuid": "50bcb5d9-ab87-4283-b075-cf8e119e5061",
     "showTitle": false,
     "tableResultSettingsMap": {},
     "title": ""
    }
   },
   "outputs": [],
   "source": [
    "calculate_model_statistics(train_data['target'], train_data['score_log'], best_threshold)"
   ]
  },
  {
   "cell_type": "code",
   "execution_count": 0,
   "metadata": {
    "application/vnd.databricks.v1+cell": {
     "cellMetadata": {
      "byteLimit": 2048000,
      "rowLimit": 10000
     },
     "inputWidgets": {},
     "nuid": "122f13ad-016f-459d-a7f7-4f35667c33b8",
     "showTitle": false,
     "tableResultSettingsMap": {},
     "title": ""
    }
   },
   "outputs": [],
   "source": [
    "calculate_model_statistics(test_data['target'], test_data['score_log'], best_threshold)"
   ]
  },
  {
   "cell_type": "code",
   "execution_count": 0,
   "metadata": {
    "application/vnd.databricks.v1+cell": {
     "cellMetadata": {
      "byteLimit": 2048000,
      "rowLimit": 10000
     },
     "inputWidgets": {},
     "nuid": "791f9228-7d4e-41fc-a8d9-bbaf7c576985",
     "showTitle": false,
     "tableResultSettingsMap": {},
     "title": ""
    }
   },
   "outputs": [],
   "source": [
    "calculate_model_statistics(validation_data['target'], validation_data['score_log'], best_threshold)"
   ]
  },
  {
   "cell_type": "code",
   "execution_count": 0,
   "metadata": {
    "application/vnd.databricks.v1+cell": {
     "cellMetadata": {
      "byteLimit": 2048000,
      "rowLimit": 10000
     },
     "inputWidgets": {},
     "nuid": "eb9158d7-45b9-4fb3-a6d3-3a5059d5aed9",
     "showTitle": false,
     "tableResultSettingsMap": {},
     "title": ""
    }
   },
   "outputs": [],
   "source": [
    "train_stats = calculate_model_statistics(train_data['target'], train_data['score_log'], best_threshold)\n",
    "test_stats = calculate_model_statistics(test_data['target'], test_data['score_log'], best_threshold)\n",
    "val_stats = calculate_model_statistics(validation_data['target'], validation_data['score_log'], best_threshold)\n",
    "\n",
    "train_stats_df = pd.DataFrame([train_stats])\n",
    "test_stats_df = pd.DataFrame([test_stats])\n",
    "val_stats_df = pd.DataFrame([val_stats])\n",
    "\n",
    "train_stats_df['Period'] = 'Train'\n",
    "test_stats_df['Period'] = 'Test'\n",
    "val_stats_df['Period'] = 'Validation'\n",
    "\n",
    "combined_stats = pd.concat([train_stats_df, test_stats_df, val_stats_df], ignore_index=True)\n",
    "combined_stats = combined_stats[['Period'] + [col for col in combined_stats.columns if col != 'Period']]\n",
    "combined_stats.iloc[:, 1:] = combined_stats.iloc[:, 1:].applymap(lambda x: f\"{x:.2%}\")\n",
    "display(combined_stats)"
   ]
  },
  {
   "cell_type": "code",
   "execution_count": 0,
   "metadata": {
    "application/vnd.databricks.v1+cell": {
     "cellMetadata": {
      "byteLimit": 2048000,
      "rowLimit": 10000
     },
     "inputWidgets": {},
     "nuid": "5dad8c60-7e82-4fae-a833-816d8b387b8e",
     "showTitle": false,
     "tableResultSettingsMap": {},
     "title": ""
    }
   },
   "outputs": [],
   "source": [
    "plot_roc_curve(final_log_model, X_test, y_test)\n",
    "plot_confusion_matrix(final_log_model, X_test, y_test, threshold=best_threshold)\n",
    "# plot_feature_importances(final_log_model, X_test.columns)\n",
    "plot_classification_report(final_log_model, X_test, y_test, threshold=best_threshold)"
   ]
  },
  {
   "cell_type": "code",
   "execution_count": 0,
   "metadata": {
    "application/vnd.databricks.v1+cell": {
     "cellMetadata": {
      "byteLimit": 2048000,
      "rowLimit": 10000
     },
     "inputWidgets": {},
     "nuid": "32ba6944-ba7f-4985-9542-0bc2ebfb8d56",
     "showTitle": false,
     "tableResultSettingsMap": {},
     "title": ""
    }
   },
   "outputs": [],
   "source": [
    "plot_roc_curve(final_log_model, X_val, y_val)\n",
    "plot_confusion_matrix(final_log_model, X_val, y_val, threshold=best_threshold)\n",
    "# plot_feature_importances(final_log_model, X_val.columns)\n",
    "plot_classification_report(final_log_model, X_val, y_val, threshold=best_threshold)"
   ]
  },
  {
   "cell_type": "code",
   "execution_count": 0,
   "metadata": {
    "application/vnd.databricks.v1+cell": {
     "cellMetadata": {
      "byteLimit": 2048000,
      "rowLimit": 10000
     },
     "inputWidgets": {},
     "nuid": "9ebf3466-f305-43e1-844f-2f8fcebd7564",
     "showTitle": false,
     "tableResultSettingsMap": {},
     "title": ""
    }
   },
   "outputs": [],
   "source": [
    "feature_importances = final_log_model.coef_[0]\n",
    "features = X_train.columns\n",
    "\n",
    "importance_df = pd.DataFrame({'Feature': features, 'Importance': feature_importances})\n",
    "\n",
    "importance_df = importance_df.sort_values(by='Importance', ascending=False)\n",
    "\n",
    "plt.figure(figsize=(15, 12))\n",
    "plt.barh(importance_df['Feature'], importance_df['Importance'])\n",
    "plt.xlabel('Importance')\n",
    "plt.ylabel('Feature')\n",
    "plt.title('Feature Importance - Logistic Regression')\n",
    "plt.gca().invert_yaxis()\n",
    "plt.show()"
   ]
  },
  {
   "cell_type": "code",
   "execution_count": 0,
   "metadata": {
    "application/vnd.databricks.v1+cell": {
     "cellMetadata": {
      "byteLimit": 2048000,
      "rowLimit": 10000
     },
     "inputWidgets": {},
     "nuid": "50f6f6da-0143-41f8-ab6f-0a19e462238d",
     "showTitle": false,
     "tableResultSettingsMap": {},
     "title": ""
    }
   },
   "outputs": [],
   "source": [
    "feature_importances = final_log_model.coef_[0]\n",
    "features = X_train.columns\n",
    "\n",
    "importance_df = pd.DataFrame({'Feature': features, 'Importance': feature_importances})\n",
    "\n",
    "importance_df = importance_df[importance_df['Importance'] != 0]\n",
    "importance_df = importance_df.sort_values(by='Importance', ascending=False)\n",
    "importance_df"
   ]
  },
  {
   "cell_type": "code",
   "execution_count": 0,
   "metadata": {
    "application/vnd.databricks.v1+cell": {
     "cellMetadata": {
      "byteLimit": 2048000,
      "rowLimit": 10000
     },
     "inputWidgets": {},
     "nuid": "c090db3a-e390-4c78-9fd2-892245dbe664",
     "showTitle": false,
     "tableResultSettingsMap": {},
     "title": ""
    }
   },
   "outputs": [],
   "source": [
    "s1 = train_data['safra'].unique()\n",
    "s2 = test_data['safra'].unique()\n",
    "s3 = validation_data['safra'].unique()\n",
    "\n",
    "ks_s1 = ks_grouped_by_safra(train_data, 'target', 'score_log', sorted(s1))\n",
    "ks_s2 = ks_grouped_by_safra(test_data, 'target', 'score_log', sorted(s2))\n",
    "ks_s3 = ks_grouped_by_safra(validation_data, 'target', 'score_log', sorted(s3))\n",
    "\n",
    "ks_union = pd.concat([ks_s1, ks_s2, ks_s3])\n",
    "\n",
    "# Plotting the KS statistics\n",
    "plt.figure(figsize=(10, 6))\n",
    "plt.plot(ks_union['safra'].astype(str), ks_union['ks_stat']*100, marker='o')\n",
    "# plt.axvline(x=str(sorted(s2)[0]), color='r', linestyle='--')\n",
    "# plt.axvline(x=str(sorted(s3)[0]), color='g', linestyle='--')\n",
    "plt.ylim(0, 70)\n",
    "plt.xlabel('Safra')\n",
    "plt.ylabel('KS Statistic')\n",
    "plt.title('KS Statistic by Safra')\n",
    "plt.xticks(rotation=45)\n",
    "plt.show()"
   ]
  },
  {
   "cell_type": "code",
   "execution_count": 0,
   "metadata": {
    "application/vnd.databricks.v1+cell": {
     "cellMetadata": {
      "byteLimit": 2048000,
      "rowLimit": 10000
     },
     "inputWidgets": {},
     "nuid": "96c14da3-bc80-4ce4-b677-18e54a378bdd",
     "showTitle": false,
     "tableResultSettingsMap": {},
     "title": ""
    }
   },
   "outputs": [],
   "source": [
    "train_data['score_log'] = train_data_escorado\n",
    "test_data['score_log'] = test_data_escorado\n",
    "validation_data['score_log'] = val_data_escorado\n",
    "\n",
    "train_data['y_pred_log'] = (train_data['score_log'] > best_threshold).astype(int)\n",
    "test_data['y_pred_log'] = (test_data['score_log'] > best_threshold).astype(int)\n",
    "validation_data['y_pred_log'] = (validation_data['score_log'] > best_threshold).astype(int)"
   ]
  },
  {
   "cell_type": "code",
   "execution_count": 0,
   "metadata": {
    "application/vnd.databricks.v1+cell": {
     "cellMetadata": {
      "byteLimit": 2048000,
      "rowLimit": 10000
     },
     "inputWidgets": {},
     "nuid": "feec74f6-44f8-4faf-815c-cedb88b70118",
     "showTitle": false,
     "tableResultSettingsMap": {},
     "title": ""
    }
   },
   "outputs": [],
   "source": [
    "train_churn_actual, train_churn_predicted = calculate_churn_percentage(train_data, 'target', 'score_log', 'y_pred', best_threshold)\n",
    "test_churn_actual, test_churn_predicted = calculate_churn_percentage(test_data, 'target', 'score_log', 'y_pred', best_threshold)\n",
    "val_churn_actual, val_churn_predicted = calculate_churn_percentage(validation_data, 'target', 'score_log', 'y_pred', best_threshold)\n",
    "\n",
    "churn_stats = pd.DataFrame({\n",
    "    'Period': ['Train', 'Test', 'Validation'],\n",
    "    'Actual Churn Rate': [train_churn_actual, test_churn_actual, val_churn_actual],\n",
    "    'Predicted Churn Rate': [train_churn_predicted, test_churn_predicted, val_churn_predicted]\n",
    "})\n",
    "\n",
    "churn_stats.iloc[:, 1:] = churn_stats.iloc[:, 1:].applymap(lambda x: f\"{x:.2%}\")\n",
    "display(churn_stats)\n",
    "\n",
    "train_churn_by_safra = calculate_churn_by_safra(train_data, 'target', 'y_pred')\n",
    "test_churn_by_safra = calculate_churn_by_safra(test_data, 'target', 'y_pred')\n",
    "val_churn_by_safra = calculate_churn_by_safra(validation_data, 'target', 'y_pred')\n",
    "\n",
    "churn_by_safra = pd.concat([\n",
    "    train_churn_by_safra.assign(Period='Train'),\n",
    "    test_churn_by_safra.assign(Period='Test'),\n",
    "    val_churn_by_safra.assign(Period='Validation')\n",
    "], ignore_index=True)\n",
    "\n",
    "churn_by_safra['actual_churn_rate'] *= 100\n",
    "churn_by_safra['predicted_churn_rate'] *= 100\n",
    "\n",
    "plt.figure(figsize=(12, 6))\n",
    "sns.barplot(data=churn_by_safra.melt(id_vars=['safra', 'Period'], value_vars=['actual_churn_rate', 'predicted_churn_rate']),\n",
    "            x='safra', y='value', hue='variable', ci=None)\n",
    "plt.title('Churn Rates by Safra')\n",
    "plt.xlabel('Safra')\n",
    "plt.ylabel('Churn Rate (%)')\n",
    "plt.legend(title='Churn Rate Type', labels=['Actual Churn Rate', 'Predicted Churn Rate'])\n",
    "plt.xticks(rotation=45)\n",
    "plt.show()"
   ]
  },
  {
   "cell_type": "markdown",
   "metadata": {
    "application/vnd.databricks.v1+cell": {
     "cellMetadata": {},
     "inputWidgets": {},
     "nuid": "929a3486-85d2-48d1-b789-54faf06adb1b",
     "showTitle": false,
     "tableResultSettingsMap": {},
     "title": ""
    }
   },
   "source": [
    "## Salvar"
   ]
  },
  {
   "cell_type": "code",
   "execution_count": 0,
   "metadata": {
    "application/vnd.databricks.v1+cell": {
     "cellMetadata": {
      "byteLimit": 2048000,
      "rowLimit": 10000
     },
     "inputWidgets": {},
     "nuid": "5a780ea1-441b-4bf4-820b-9c3f23c5d5bf",
     "showTitle": false,
     "tableResultSettingsMap": {},
     "title": ""
    }
   },
   "outputs": [],
   "source": [
    "selected_columns = ['msno', 'safra', 'target', 'score_log', 'y_pred_log']\n",
    "train_data_spark = spark.createDataFrame(train_data[selected_columns])\n",
    "test_data_spark = spark.createDataFrame(test_data[selected_columns])\n",
    "validation_data_spark = spark.createDataFrame(validation_data[selected_columns])"
   ]
  },
  {
   "cell_type": "code",
   "execution_count": 0,
   "metadata": {
    "application/vnd.databricks.v1+cell": {
     "cellMetadata": {
      "byteLimit": 2048000,
      "rowLimit": 10000
     },
     "inputWidgets": {},
     "nuid": "c812ccff-e73a-4f30-9e25-a4acf994f964",
     "showTitle": false,
     "tableResultSettingsMap": {},
     "title": ""
    }
   },
   "outputs": [],
   "source": [
    "base_score = train_data_spark.union(test_data_spark).union(validation_data_spark)\n",
    "base_score = (base_score\n",
    "              .withColumnRenamed('score_log', 'score_log_ar1')\n",
    "              .withColumnRenamed('y_pred_log', 'y_pred_log_ar1')\n",
    "              .withColumn('best_threshold_ar1', F.lit(best_threshold))\n",
    "              )"
   ]
  },
  {
   "cell_type": "code",
   "execution_count": 0,
   "metadata": {
    "application/vnd.databricks.v1+cell": {
     "cellMetadata": {
      "byteLimit": 2048000,
      "rowLimit": 10000
     },
     "inputWidgets": {},
     "nuid": "b00eae07-2737-4fc9-a3eb-1657723defda",
     "showTitle": false,
     "tableResultSettingsMap": {},
     "title": ""
    }
   },
   "outputs": [],
   "source": [
    "base_score.write.mode('overwrite').saveAsTable('sand_riscos_pm_pf.T789778_base_score_ar1')\n",
    "print('sand_riscos_pm_pf.T789778_base_score_ar1')"
   ]
  },
  {
   "cell_type": "code",
   "execution_count": 0,
   "metadata": {
    "application/vnd.databricks.v1+cell": {
     "cellMetadata": {},
     "inputWidgets": {},
     "nuid": "e83a9b29-d952-41d4-a07d-8a3b4dfad981",
     "showTitle": false,
     "tableResultSettingsMap": {},
     "title": ""
    }
   },
   "outputs": [],
   "source": []
  }
 ],
 "metadata": {
  "application/vnd.databricks.v1+notebook": {
   "computePreferences": null,
   "dashboards": [],
   "environmentMetadata": {
    "base_environment": "",
    "environment_version": "1"
   },
   "inputWidgetPreferences": null,
   "language": "python",
   "notebookMetadata": {
    "pythonIndentUnit": 4
   },
   "notebookName": "05.Modelos_Log_AUC_AutoRenew_1_Feat_Selec_Ponderado_Correto_Final",
   "widgets": {}
  },
  "language_info": {
   "name": "python"
  }
 },
 "nbformat": 4,
 "nbformat_minor": 0
}
