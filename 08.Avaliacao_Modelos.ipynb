{
 "cells": [
  {
   "cell_type": "markdown",
   "metadata": {
    "application/vnd.databricks.v1+cell": {
     "cellMetadata": {
      "byteLimit": 2048000,
      "rowLimit": 10000
     },
     "inputWidgets": {},
     "nuid": "093a2afb-ac4e-4f1a-9a5d-63f7c61f007f",
     "showTitle": false,
     "tableResultSettingsMap": {},
     "title": ""
    }
   },
   "source": [
    "## Imports"
   ]
  },
  {
   "cell_type": "code",
   "execution_count": 0,
   "metadata": {
    "application/vnd.databricks.v1+cell": {
     "cellMetadata": {
      "byteLimit": 2048000,
      "rowLimit": 10000
     },
     "inputWidgets": {},
     "nuid": "78dbc428-ae70-4e3f-9fb6-f68aa4c74f6d",
     "showTitle": false,
     "tableResultSettingsMap": {},
     "title": ""
    }
   },
   "outputs": [],
   "source": [
    "import matplotlib.pyplot as plt\n",
    "import numpy as np\n",
    "import pandas as pd\n",
    "import pyspark\n",
    "import pyspark.sql.functions as F\n",
    "from pyspark.sql.window import Window\n",
    "from pyspark.sql.types import *\n",
    "from pyspark.sql import DataFrame, SparkSession\n",
    "\n",
    "from sklearn.metrics import roc_auc_score, precision_score, recall_score, f1_score, accuracy_score, confusion_matrix, roc_curve, auc"
   ]
  },
  {
   "cell_type": "markdown",
   "metadata": {
    "application/vnd.databricks.v1+cell": {
     "cellMetadata": {
      "byteLimit": 2048000,
      "rowLimit": 10000
     },
     "inputWidgets": {},
     "nuid": "90faa7b4-6933-4b96-84e9-9fb789606e56",
     "showTitle": false,
     "tableResultSettingsMap": {},
     "title": ""
    }
   },
   "source": [
    "## Função"
   ]
  },
  {
   "cell_type": "code",
   "execution_count": 0,
   "metadata": {
    "application/vnd.databricks.v1+cell": {
     "cellMetadata": {
      "byteLimit": 2048000,
      "rowLimit": 10000
     },
     "inputWidgets": {},
     "nuid": "67d316d2-fc73-42b1-bde7-ec2279cc4e49",
     "showTitle": false,
     "tableResultSettingsMap": {},
     "title": ""
    }
   },
   "outputs": [],
   "source": [
    "def calcular_valores(fn, tp):\n",
    "    '''\n",
    "    Calcula os valores de Crm Proativo e Lucro do CRM Proativo\n",
    "    133.75 NTD: Valor Médio Ponderado da Mensalidade do Streaming de Música\n",
    "    1 NTD = 0.03170 USD em Agosto de 2016\n",
    "    0.5 é considerando que 50% do Público Verdadeiro Positivo responde positivamente a ação e fica 12 meses ativo.\n",
    "    9 é o número de meses que o Público Verdadeiro Positivo fica ativo após a ação\n",
    "    '''\n",
    "    inv_proativo = -round((fn + tp) * 133.75 * 0.03170 * 3, 2)\n",
    "    inv_crm = -round(tp * 133.75 * 0.03170 * 0.5 * 3, 2)\n",
    "    lucro_br = round(tp * 133.75 * 0.03170 * 0.5 * 12, 2)\n",
    "    lucro_lq = round(tp * 133.75 * 0.03170 * 0.5 * 9, 2)\n",
    "    return inv_proativo, inv_crm, lucro_br, lucro_lq"
   ]
  },
  {
   "cell_type": "code",
   "execution_count": 0,
   "metadata": {
    "application/vnd.databricks.v1+cell": {
     "cellMetadata": {
      "byteLimit": 2048000,
      "rowLimit": 10000
     },
     "inputWidgets": {},
     "nuid": "8d36e2f1-b3a6-481a-829a-3ed3c35158c3",
     "showTitle": false,
     "tableResultSettingsMap": {},
     "title": ""
    }
   },
   "outputs": [],
   "source": [
    "def calcular_valores_por_cluster(df, cluster_col):\n",
    "\n",
    "    resultados = df.groupBy(cluster_col).agg(\n",
    "        F.sum('fn').alias('total_fn'),\n",
    "        F.sum('tp').alias('total_tp')\n",
    "    )\n",
    "\n",
    "    valores_por_cluster = resultados.rdd.map(lambda row: (\n",
    "        row[cluster_col], \n",
    "        *calcular_valores(row['total_fn'], row['total_tp'])\n",
    "    )).toDF([cluster_col, 'inv_proativo', 'inv_crm', 'lucro_br', 'lucro_lq'])\n",
    "\n",
    "    return valores_por_cluster"
   ]
  },
  {
   "cell_type": "markdown",
   "metadata": {
    "application/vnd.databricks.v1+cell": {
     "cellMetadata": {
      "byteLimit": 2048000,
      "rowLimit": 10000
     },
     "inputWidgets": {},
     "nuid": "3a47f58c-5e5e-4a5d-9032-870b7b1e5410",
     "showTitle": false,
     "tableResultSettingsMap": {},
     "title": ""
    }
   },
   "source": [
    "## Base Inicial"
   ]
  },
  {
   "cell_type": "code",
   "execution_count": 0,
   "metadata": {
    "application/vnd.databricks.v1+cell": {
     "cellMetadata": {
      "byteLimit": 2048000,
      "rowLimit": 10000
     },
     "inputWidgets": {},
     "nuid": "8993688f-6032-4fc8-a046-e51ae7a8adf5",
     "showTitle": false,
     "tableResultSettingsMap": {},
     "title": ""
    }
   },
   "outputs": [],
   "source": [
    "base = spark.table('sand_riscos_pm_pf.T789778_spine_target_dm').filter(F.col('safra').between(201608, 201611))\n",
    "base"
   ]
  },
  {
   "cell_type": "code",
   "execution_count": 0,
   "metadata": {
    "application/vnd.databricks.v1+cell": {
     "cellMetadata": {
      "byteLimit": 2048000,
      "rowLimit": 10000
     },
     "inputWidgets": {},
     "nuid": "ab8100b7-087a-43d3-aab5-e8a6f4d0d2bf",
     "showTitle": false,
     "tableResultSettingsMap": {},
     "title": ""
    }
   },
   "outputs": [],
   "source": [
    "base.groupBy('payment_plan_days').count().display()"
   ]
  },
  {
   "cell_type": "code",
   "execution_count": 0,
   "metadata": {
    "application/vnd.databricks.v1+cell": {
     "cellMetadata": {
      "byteLimit": 2048000,
      "rowLimit": 10000
     },
     "inputWidgets": {},
     "nuid": "63f64738-88ae-4b8c-8487-a64e83bb2285",
     "showTitle": false,
     "tableResultSettingsMap": {},
     "title": ""
    }
   },
   "outputs": [],
   "source": [
    "base.groupBy('plan_list_price').count().display()"
   ]
  },
  {
   "cell_type": "code",
   "execution_count": 0,
   "metadata": {
    "application/vnd.databricks.v1+cell": {
     "cellMetadata": {
      "byteLimit": 2048000,
      "rowLimit": 10000
     },
     "inputWidgets": {},
     "nuid": "9e0d66b2-55e7-47ad-92ab-0e75cdce081e",
     "showTitle": false,
     "tableResultSettingsMap": {},
     "title": ""
    }
   },
   "outputs": [],
   "source": [
    "base.filter(F.col('payment_plan_days').isin(30,31)).groupBy('plan_list_price').count().display()"
   ]
  },
  {
   "cell_type": "code",
   "execution_count": 0,
   "metadata": {
    "application/vnd.databricks.v1+cell": {
     "cellMetadata": {
      "byteLimit": 2048000,
      "rowLimit": 10000
     },
     "inputWidgets": {},
     "nuid": "1324c904-b42f-4246-a81f-a34ebaece482",
     "showTitle": false,
     "tableResultSettingsMap": {},
     "title": ""
    }
   },
   "outputs": [],
   "source": [
    "top_5_counts = base.filter(F.col('payment_plan_days').isin(30,31)) \\\n",
    "    .groupBy('plan_list_price') \\\n",
    "    .count() \\\n",
    "    .orderBy(F.desc('count')) \\\n",
    "    .limit(5)\n",
    "\n",
    "weighted_avg = (top_5_counts.withColumn('weighted_price', F.col('plan_list_price') * F.col('count')) \\\n",
    "    .agg(F.round(F.sum('weighted_price') / F.sum('count'),2)).alias('weighted_avg_price')\n",
    "    ).toPandas()#['round((sum(weighted_price) / sum(count)), 2)']\n",
    "\n",
    "weighted_avg"
   ]
  },
  {
   "cell_type": "markdown",
   "metadata": {
    "application/vnd.databricks.v1+cell": {
     "cellMetadata": {
      "byteLimit": 2048000,
      "rowLimit": 10000
     },
     "inputWidgets": {},
     "nuid": "499e5082-8333-446f-a30b-76d796917a0c",
     "showTitle": false,
     "tableResultSettingsMap": {},
     "title": ""
    }
   },
   "source": [
    "## Bases Escoradas"
   ]
  },
  {
   "cell_type": "code",
   "execution_count": 0,
   "metadata": {
    "application/vnd.databricks.v1+cell": {
     "cellMetadata": {
      "byteLimit": 2048000,
      "rowLimit": 10000
     },
     "inputWidgets": {},
     "nuid": "bbd5e1d7-a15c-4af6-b287-e218eca7c526",
     "showTitle": false,
     "tableResultSettingsMap": {},
     "title": ""
    }
   },
   "outputs": [],
   "source": [
    "modelo_unico = spark.table('sand_riscos_pm_pf.T789778_base_score_unico').filter(F.col('safra').between(201608, 201611)).toPandas()\n",
    "modelo_ar0 = spark.table('sand_riscos_pm_pf.T789778_base_score_ar0').filter(F.col('safra').between(201608, 201611)).toPandas()\n",
    "modelo_ar1 = spark.table('sand_riscos_pm_pf.T789778_base_score_ar1').filter(F.col('safra').between(201608, 201611)).toPandas()"
   ]
  },
  {
   "cell_type": "code",
   "execution_count": 0,
   "metadata": {
    "application/vnd.databricks.v1+cell": {
     "cellMetadata": {
      "byteLimit": 2048000,
      "rowLimit": 10000
     },
     "inputWidgets": {},
     "nuid": "d23de9c8-cb04-4a85-b636-e3cfbef850df",
     "showTitle": false,
     "tableResultSettingsMap": {},
     "title": ""
    }
   },
   "outputs": [],
   "source": [
    "print('Modelo Único')\n",
    "confusion_matrix(modelo_unico['target'], modelo_unico['y_pred_lgbm_unico'])"
   ]
  },
  {
   "cell_type": "code",
   "execution_count": 0,
   "metadata": {
    "application/vnd.databricks.v1+cell": {
     "cellMetadata": {
      "byteLimit": 2048000,
      "rowLimit": 10000
     },
     "inputWidgets": {},
     "nuid": "06cf27bc-09a3-4f71-a62e-ce63ffde2bed",
     "showTitle": false,
     "tableResultSettingsMap": {},
     "title": ""
    }
   },
   "outputs": [],
   "source": [
    "print('Modelo Auto Renew == 0')\n",
    "confusion_matrix(modelo_ar0['target'], modelo_ar0['y_pred_lgbm_ar0'])"
   ]
  },
  {
   "cell_type": "code",
   "execution_count": 0,
   "metadata": {
    "application/vnd.databricks.v1+cell": {
     "cellMetadata": {
      "byteLimit": 2048000,
      "rowLimit": 10000
     },
     "inputWidgets": {},
     "nuid": "f2384e74-b6a8-473f-ab61-fa97dca6b215",
     "showTitle": false,
     "tableResultSettingsMap": {},
     "title": ""
    }
   },
   "outputs": [],
   "source": [
    "print('Modelo Auto Renew == 1')\n",
    "confusion_matrix(modelo_ar1['target'], modelo_ar1['y_pred_log_ar1'])"
   ]
  },
  {
   "cell_type": "markdown",
   "metadata": {
    "application/vnd.databricks.v1+cell": {
     "cellMetadata": {
      "byteLimit": 2048000,
      "rowLimit": 10000
     },
     "inputWidgets": {},
     "nuid": "3e7b7160-cc33-48a9-a5d2-a69416d620ec",
     "showTitle": false,
     "tableResultSettingsMap": {},
     "title": ""
    }
   },
   "source": [
    "## Avaliação Financeira - Modelo único"
   ]
  },
  {
   "cell_type": "code",
   "execution_count": 0,
   "metadata": {
    "application/vnd.databricks.v1+cell": {
     "cellMetadata": {
      "byteLimit": 2048000,
      "rowLimit": 10000
     },
     "inputWidgets": {},
     "nuid": "a8fa50c8-1aa2-4ed1-b6a9-0bada35ddf9f",
     "showTitle": false,
     "tableResultSettingsMap": {},
     "title": ""
    }
   },
   "outputs": [],
   "source": [
    "tn, fp, fn, tp = confusion_matrix(modelo_unico['target'], modelo_unico['y_pred_lgbm_unico']).ravel()\n",
    "tn, fp, fn, tp"
   ]
  },
  {
   "cell_type": "code",
   "execution_count": 0,
   "metadata": {
    "application/vnd.databricks.v1+cell": {
     "cellMetadata": {
      "byteLimit": 2048000,
      "rowLimit": 10000
     },
     "inputWidgets": {},
     "nuid": "8a6ac92a-5607-40b7-811f-915c39f53d3c",
     "showTitle": false,
     "tableResultSettingsMap": {},
     "title": ""
    }
   },
   "outputs": [],
   "source": [
    "inv_proativo, inv_crm, lucro_br, lucro_lq = calcular_valores(fn, tp)\n",
    "print('Investimento Proativo: $ {:,.2f}'.format(inv_proativo))\n",
    "print('Investimento: $ {:,.2f}'.format(inv_crm))\n",
    "print('Lucro Bruto: $ {:,.2f}'.format(lucro_br))\n",
    "print('Lucro Liquido: $ {:,.2f}'.format(lucro_lq))"
   ]
  },
  {
   "cell_type": "markdown",
   "metadata": {
    "application/vnd.databricks.v1+cell": {
     "cellMetadata": {
      "byteLimit": 2048000,
      "rowLimit": 10000
     },
     "inputWidgets": {},
     "nuid": "6a7acce9-dca3-4d9e-a4a2-945d3ed31098",
     "showTitle": false,
     "tableResultSettingsMap": {},
     "title": ""
    }
   },
   "source": [
    "## Avaliação Financeira - Modelo AR0 e AR1"
   ]
  },
  {
   "cell_type": "code",
   "execution_count": 0,
   "metadata": {
    "application/vnd.databricks.v1+cell": {
     "cellMetadata": {
      "byteLimit": 2048000,
      "rowLimit": 10000
     },
     "inputWidgets": {},
     "nuid": "c7e649f6-478f-45bb-95c5-fb471e230b0a",
     "showTitle": false,
     "tableResultSettingsMap": {},
     "title": ""
    }
   },
   "outputs": [],
   "source": [
    "tn, fp, fn, tp =confusion_matrix(modelo_ar0['target'], modelo_ar0['y_pred_lgbm_ar0']).ravel() + confusion_matrix(modelo_ar1['target'], modelo_ar1['y_pred_log_ar1']).ravel()\n",
    "tn, fp, fn, tp"
   ]
  },
  {
   "cell_type": "code",
   "execution_count": 0,
   "metadata": {
    "application/vnd.databricks.v1+cell": {
     "cellMetadata": {
      "byteLimit": 2048000,
      "rowLimit": 10000
     },
     "inputWidgets": {},
     "nuid": "85d15d67-25f9-4a32-8ed1-c03778f61301",
     "showTitle": false,
     "tableResultSettingsMap": {},
     "title": ""
    }
   },
   "outputs": [],
   "source": [
    "143867-74786"
   ]
  },
  {
   "cell_type": "code",
   "execution_count": 0,
   "metadata": {
    "application/vnd.databricks.v1+cell": {
     "cellMetadata": {
      "byteLimit": 2048000,
      "rowLimit": 10000
     },
     "inputWidgets": {},
     "nuid": "24e741b6-6484-4fa0-80d9-541a3716b654",
     "showTitle": false,
     "tableResultSettingsMap": {},
     "title": ""
    }
   },
   "outputs": [],
   "source": [
    "inv_proativo, inv_crm, lucro_br, lucro_lq = calcular_valores(fn+69081, tp)\n",
    "print('Investimento Proativo: $ {:,.2f}'.format(inv_proativo))\n",
    "print('Investimento: $ {:,.2f}'.format(inv_crm))\n",
    "print('Lucro Bruto: $ {:,.2f}'.format(lucro_br))\n",
    "print('Lucro Liquido: $ {:,.2f}'.format(lucro_lq))"
   ]
  },
  {
   "cell_type": "markdown",
   "metadata": {
    "application/vnd.databricks.v1+cell": {
     "cellMetadata": {
      "byteLimit": 2048000,
      "rowLimit": 10000
     },
     "inputWidgets": {},
     "nuid": "3f6222f9-5852-4a62-ac71-76b8374963e4",
     "showTitle": false,
     "tableResultSettingsMap": {},
     "title": ""
    }
   },
   "source": [
    "## Avaliação nos Clusters"
   ]
  },
  {
   "cell_type": "code",
   "execution_count": 0,
   "metadata": {
    "application/vnd.databricks.v1+cell": {
     "cellMetadata": {
      "byteLimit": 2048000,
      "rowLimit": 10000
     },
     "inputWidgets": {},
     "nuid": "06e3822b-4900-4251-946e-d0b7726e96de",
     "showTitle": false,
     "tableResultSettingsMap": {},
     "title": ""
    }
   },
   "outputs": [],
   "source": [
    "base_score = spark.table('sand_riscos_pm_pf.T789778_base_score_unico').filter(F.col('safra').between(201608, 201611))\n",
    "base_ar0 = spark.table('sand_riscos_pm_pf.T789778_base_score_ar0').filter(F.col('safra').between(201608, 201611))\n",
    "base_ar1 = spark.table('sand_riscos_pm_pf.T789778_base_score_ar1').filter(F.col('safra').between(201608, 201611))"
   ]
  },
  {
   "cell_type": "code",
   "execution_count": 0,
   "metadata": {
    "application/vnd.databricks.v1+cell": {
     "cellMetadata": {
      "byteLimit": 2048000,
      "rowLimit": 10000
     },
     "inputWidgets": {},
     "nuid": "2c80eb12-bf24-4fef-ac8a-c4107d2bc71f",
     "showTitle": false,
     "tableResultSettingsMap": {},
     "title": ""
    }
   },
   "outputs": [],
   "source": [
    "cluster_base = spark.table('sand_riscos_pm_pf.T789778_base_clustering').filter(F.col('safra').between(201608, 201611))\n",
    "cluster_base"
   ]
  },
  {
   "cell_type": "code",
   "execution_count": 0,
   "metadata": {
    "application/vnd.databricks.v1+cell": {
     "cellMetadata": {
      "byteLimit": 2048000,
      "rowLimit": 10000
     },
     "inputWidgets": {},
     "nuid": "d0ee8f53-3872-47c4-99e8-16c54368bd3b",
     "showTitle": false,
     "tableResultSettingsMap": {},
     "title": ""
    }
   },
   "outputs": [],
   "source": [
    "df_clusters = cluster_base.join(base_score, on=['msno', 'safra', 'target'], how='inner')\n",
    "df_clusters_ar0 = (cluster_base.join(base_ar0, on=['msno', 'safra', 'target'], how='inner')\n",
    "                   .withColumnRenamed('score_lgbm_ar0', 'score_ar')\n",
    "                   .withColumnRenamed('y_pred_lgbm_ar0', 'y_pred')\n",
    "                   .withColumnRenamed('best_threshold_ar0', 'best_threshold')\n",
    "                   )\n",
    "df_clusters_ar1 = (cluster_base.join(base_ar1, on=['msno', 'safra', 'target'], how='inner')\n",
    "                   .withColumnRenamed('score_log_ar1', 'score_ar')\n",
    "                   .withColumnRenamed('y_pred_log_ar1', 'y_pred')\n",
    "                   .withColumnRenamed('best_threshold_ar1', 'best_threshold')\n",
    "                   )\n",
    "df_clusters_ar = df_clusters_ar0.union(df_clusters_ar1)"
   ]
  },
  {
   "cell_type": "code",
   "execution_count": 0,
   "metadata": {
    "application/vnd.databricks.v1+cell": {
     "cellMetadata": {
      "byteLimit": 2048000,
      "rowLimit": 10000
     },
     "inputWidgets": {},
     "nuid": "6a659a08-ee5e-4e84-a51d-103daabde451",
     "showTitle": false,
     "tableResultSettingsMap": {},
     "title": ""
    }
   },
   "outputs": [],
   "source": [
    "df_clusters = (df_clusters.withColumn('tp', F.when((F.col('y_pred_lgbm_unico') == 1) & (F.col('target') == 1), 1).otherwise(0))\n",
    "                                     .withColumn('fn', F.when((F.col('y_pred_lgbm_unico') == 0) & (F.col('target') == 1), 1).otherwise(0))\n",
    "                                     .withColumn('fp', F.when((F.col('y_pred_lgbm_unico') == 1) & (F.col('target') == 0), 1).otherwise(0))\n",
    "                                     .withColumn('tn', F.when((F.col('y_pred_lgbm_unico') == 0) & (F.col('target') == 0), 1).otherwise(0))\n",
    "                                     )\n",
    "\n",
    "df_clusters_ar = (df_clusters_ar.withColumn('tp', F.when((F.col('y_pred') == 1) & (F.col('target') == 1), 1).otherwise(0))\n",
    "                                   .withColumn('fn', F.when((F.col('y_pred') == 0) & (F.col('target') == 1), 1).otherwise(0))\n",
    "                                   .withColumn('fp', F.when((F.col('y_pred') == 1) & (F.col('target') == 0), 1).otherwise(0))\n",
    "                                   .withColumn('tn', F.when((F.col('y_pred') == 0) & (F.col('target') == 0), 1).otherwise(0))\n",
    "                                   )"
   ]
  },
  {
   "cell_type": "markdown",
   "metadata": {
    "application/vnd.databricks.v1+cell": {
     "cellMetadata": {
      "byteLimit": 2048000,
      "rowLimit": 10000
     },
     "inputWidgets": {},
     "nuid": "e46824ca-4c16-4d11-8075-38e50cc77204",
     "showTitle": false,
     "tableResultSettingsMap": {},
     "title": ""
    }
   },
   "source": [
    "## Clusters Únicos"
   ]
  },
  {
   "cell_type": "code",
   "execution_count": 0,
   "metadata": {
    "application/vnd.databricks.v1+cell": {
     "cellMetadata": {
      "byteLimit": 2048000,
      "rowLimit": 10000
     },
     "inputWidgets": {},
     "nuid": "b15ffeb1-767e-483c-86b4-0f9fc975b80f",
     "showTitle": false,
     "tableResultSettingsMap": {},
     "title": ""
    }
   },
   "outputs": [],
   "source": [
    "calcular_valores_por_cluster(df_clusters, 'cluster_kmeans').display()"
   ]
  },
  {
   "cell_type": "code",
   "execution_count": 0,
   "metadata": {
    "application/vnd.databricks.v1+cell": {
     "cellMetadata": {
      "byteLimit": 2048000,
      "rowLimit": 10000
     },
     "inputWidgets": {},
     "nuid": "57ccadc2-5da8-4345-a742-83cea2d0e919",
     "showTitle": false,
     "tableResultSettingsMap": {},
     "title": ""
    }
   },
   "outputs": [],
   "source": [
    "calcular_valores_por_cluster(df_clusters, 'cluster_hdbscan').display()"
   ]
  },
  {
   "cell_type": "markdown",
   "metadata": {
    "application/vnd.databricks.v1+cell": {
     "cellMetadata": {
      "byteLimit": 2048000,
      "rowLimit": 10000
     },
     "inputWidgets": {},
     "nuid": "a6389f77-c04d-46da-afd5-eb2146413d43",
     "showTitle": false,
     "tableResultSettingsMap": {},
     "title": ""
    }
   },
   "source": [
    "## Cluster Segmentado"
   ]
  },
  {
   "cell_type": "code",
   "execution_count": 0,
   "metadata": {
    "application/vnd.databricks.v1+cell": {
     "cellMetadata": {
      "byteLimit": 2048000,
      "rowLimit": 10000
     },
     "inputWidgets": {},
     "nuid": "e0e1b730-7a1b-4bb1-9094-1f55aa823973",
     "showTitle": false,
     "tableResultSettingsMap": {},
     "title": ""
    }
   },
   "outputs": [],
   "source": [
    "calcular_valores_por_cluster(df_clusters_ar, 'cluster_kmeans').display()"
   ]
  },
  {
   "cell_type": "code",
   "execution_count": 0,
   "metadata": {
    "application/vnd.databricks.v1+cell": {
     "cellMetadata": {
      "byteLimit": 2048000,
      "rowLimit": 10000
     },
     "inputWidgets": {},
     "nuid": "84177f72-29bb-451b-b161-fd488304c317",
     "showTitle": false,
     "tableResultSettingsMap": {},
     "title": ""
    }
   },
   "outputs": [],
   "source": [
    "calcular_valores_por_cluster(df_clusters_ar, 'cluster_hdbscan').display()"
   ]
  },
  {
   "cell_type": "code",
   "execution_count": 0,
   "metadata": {
    "application/vnd.databricks.v1+cell": {
     "cellMetadata": {
      "byteLimit": 2048000,
      "rowLimit": 10000
     },
     "inputWidgets": {},
     "nuid": "9a88aab7-f238-4e73-bb66-b7b61037f641",
     "showTitle": false,
     "tableResultSettingsMap": {},
     "title": ""
    }
   },
   "outputs": [],
   "source": []
  }
 ],
 "metadata": {
  "application/vnd.databricks.v1+notebook": {
   "computePreferences": null,
   "dashboards": [],
   "environmentMetadata": {
    "base_environment": "",
    "environment_version": "2"
   },
   "inputWidgetPreferences": null,
   "language": "python",
   "notebookMetadata": {
    "pythonIndentUnit": 4
   },
   "notebookName": "08.Avaliacao_Modelos",
   "widgets": {}
  },
  "language_info": {
   "name": "python"
  }
 },
 "nbformat": 4,
 "nbformat_minor": 0
}
